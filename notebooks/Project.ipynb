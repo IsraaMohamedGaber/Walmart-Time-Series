{
 "cells": [
  {
   "cell_type": "code",
   "execution_count": 1,
   "id": "f7fda5b6",
   "metadata": {},
   "outputs": [],
   "source": [
    "import pandas as pd\n",
    "import numpy as np      \n",
    "import matplotlib.pyplot as plt \n",
    "import seaborn as sns   \n",
    "from statsmodels.graphics.tsaplots import plot_acf, plot_pacf\n",
    "from statsmodels.tsa.holtwinters import ExponentialSmoothing\n",
    "from sklearn.metrics import mean_squared_error, mean_absolute_error\n",
    "from statsmodels.tsa.arima.model import ARIMA\n",
    "from statsmodels.tsa.statespace.sarimax import SARIMAX\n",
    "from sklearn.ensemble import RandomForestRegressor\n",
    "from xgboost import XGBRegressor\n",
    "from sklearn.preprocessing import MinMaxScaler\n",
    "from tensorflow.keras.models import Sequential\n",
    "from tensorflow.keras.layers import Dense, Flatten\n",
    "from tensorflow.keras.layers import LSTM\n",
    "from tensorflow.keras.layers import GRU\n",
    "from prophet import Prophet\n",
    "from prophet.plot import plot_plotly, plot_components_plotly\n",
    "import pickle\n",
    "\n",
    "\n"
   ]
  },
  {
   "cell_type": "code",
   "execution_count": 2,
   "id": "5196349f",
   "metadata": {},
   "outputs": [],
   "source": [
    "# !pip install prophet"
   ]
  },
  {
   "cell_type": "markdown",
   "id": "b575ee2c",
   "metadata": {},
   "source": [
    "Load Walmart dataset"
   ]
  },
  {
   "cell_type": "code",
   "execution_count": 3,
   "id": "271f7c3c",
   "metadata": {},
   "outputs": [],
   "source": [
    "df= pd.read_csv('E:\\israa\\ITI 9 Months\\Time Series\\Project\\data\\project_dataset.csv')"
   ]
  },
  {
   "cell_type": "markdown",
   "id": "36c720dd",
   "metadata": {},
   "source": [
    "Filter data for Department 6"
   ]
  },
  {
   "cell_type": "code",
   "execution_count": 4,
   "id": "fd46ae98",
   "metadata": {},
   "outputs": [],
   "source": [
    "dept_6_df = df[df['Dept'] == 6]"
   ]
  },
  {
   "cell_type": "markdown",
   "id": "699a6ae9",
   "metadata": {},
   "source": [
    "Save to new CSV file"
   ]
  },
  {
   "cell_type": "code",
   "execution_count": 5,
   "id": "b3cd1564",
   "metadata": {},
   "outputs": [],
   "source": [
    "dept_6_df.to_csv('E:\\israa\\ITI 9 Months\\Time Series\\Project\\data\\walmart_dept6_sales.csv', index=False)"
   ]
  },
  {
   "cell_type": "code",
   "execution_count": 6,
   "id": "d4e8f863",
   "metadata": {},
   "outputs": [
    {
     "data": {
      "text/html": [
       "<div>\n",
       "<style scoped>\n",
       "    .dataframe tbody tr th:only-of-type {\n",
       "        vertical-align: middle;\n",
       "    }\n",
       "\n",
       "    .dataframe tbody tr th {\n",
       "        vertical-align: top;\n",
       "    }\n",
       "\n",
       "    .dataframe thead th {\n",
       "        text-align: right;\n",
       "    }\n",
       "</style>\n",
       "<table border=\"1\" class=\"dataframe\">\n",
       "  <thead>\n",
       "    <tr style=\"text-align: right;\">\n",
       "      <th></th>\n",
       "      <th>Date</th>\n",
       "      <th>IsHoliday</th>\n",
       "      <th>Dept</th>\n",
       "      <th>Weekly_Sales</th>\n",
       "      <th>Temperature</th>\n",
       "      <th>Fuel_Price</th>\n",
       "      <th>CPI</th>\n",
       "      <th>Unemployment</th>\n",
       "    </tr>\n",
       "  </thead>\n",
       "  <tbody>\n",
       "    <tr>\n",
       "      <th>71</th>\n",
       "      <td>2010-02-05</td>\n",
       "      <td>0</td>\n",
       "      <td>6.0</td>\n",
       "      <td>5749.03</td>\n",
       "      <td>42.31</td>\n",
       "      <td>2.572</td>\n",
       "      <td>211.096358</td>\n",
       "      <td>8.106</td>\n",
       "    </tr>\n",
       "    <tr>\n",
       "      <th>84</th>\n",
       "      <td>2010-02-12</td>\n",
       "      <td>1</td>\n",
       "      <td>6.0</td>\n",
       "      <td>9135.00</td>\n",
       "      <td>38.51</td>\n",
       "      <td>2.548</td>\n",
       "      <td>211.242170</td>\n",
       "      <td>8.106</td>\n",
       "    </tr>\n",
       "    <tr>\n",
       "      <th>153</th>\n",
       "      <td>2010-02-19</td>\n",
       "      <td>0</td>\n",
       "      <td>6.0</td>\n",
       "      <td>6060.26</td>\n",
       "      <td>39.93</td>\n",
       "      <td>2.514</td>\n",
       "      <td>211.289143</td>\n",
       "      <td>8.106</td>\n",
       "    </tr>\n",
       "    <tr>\n",
       "      <th>233</th>\n",
       "      <td>2010-02-26</td>\n",
       "      <td>0</td>\n",
       "      <td>6.0</td>\n",
       "      <td>5244.56</td>\n",
       "      <td>46.63</td>\n",
       "      <td>2.561</td>\n",
       "      <td>211.319643</td>\n",
       "      <td>8.106</td>\n",
       "    </tr>\n",
       "    <tr>\n",
       "      <th>304</th>\n",
       "      <td>2010-03-05</td>\n",
       "      <td>0</td>\n",
       "      <td>6.0</td>\n",
       "      <td>4221.25</td>\n",
       "      <td>46.50</td>\n",
       "      <td>2.625</td>\n",
       "      <td>211.350143</td>\n",
       "      <td>8.106</td>\n",
       "    </tr>\n",
       "  </tbody>\n",
       "</table>\n",
       "</div>"
      ],
      "text/plain": [
       "           Date  IsHoliday  Dept  Weekly_Sales  Temperature  Fuel_Price  \\\n",
       "71   2010-02-05          0   6.0       5749.03        42.31       2.572   \n",
       "84   2010-02-12          1   6.0       9135.00        38.51       2.548   \n",
       "153  2010-02-19          0   6.0       6060.26        39.93       2.514   \n",
       "233  2010-02-26          0   6.0       5244.56        46.63       2.561   \n",
       "304  2010-03-05          0   6.0       4221.25        46.50       2.625   \n",
       "\n",
       "            CPI  Unemployment  \n",
       "71   211.096358         8.106  \n",
       "84   211.242170         8.106  \n",
       "153  211.289143         8.106  \n",
       "233  211.319643         8.106  \n",
       "304  211.350143         8.106  "
      ]
     },
     "execution_count": 6,
     "metadata": {},
     "output_type": "execute_result"
    }
   ],
   "source": [
    "dept_6_df.head()"
   ]
  },
  {
   "cell_type": "markdown",
   "id": "3c98316b",
   "metadata": {},
   "source": [
    "Load the filtered department 6 data"
   ]
  },
  {
   "cell_type": "code",
   "execution_count": 7,
   "id": "fda45034",
   "metadata": {},
   "outputs": [],
   "source": [
    "dept_6_df = pd.read_csv('E:\\israa\\ITI 9 Months\\Time Series\\Project\\data\\walmart_dept6_sales.csv')"
   ]
  },
  {
   "cell_type": "code",
   "execution_count": 8,
   "id": "2e41094d",
   "metadata": {},
   "outputs": [
    {
     "data": {
      "text/html": [
       "<div>\n",
       "<style scoped>\n",
       "    .dataframe tbody tr th:only-of-type {\n",
       "        vertical-align: middle;\n",
       "    }\n",
       "\n",
       "    .dataframe tbody tr th {\n",
       "        vertical-align: top;\n",
       "    }\n",
       "\n",
       "    .dataframe thead th {\n",
       "        text-align: right;\n",
       "    }\n",
       "</style>\n",
       "<table border=\"1\" class=\"dataframe\">\n",
       "  <thead>\n",
       "    <tr style=\"text-align: right;\">\n",
       "      <th></th>\n",
       "      <th>Date</th>\n",
       "      <th>IsHoliday</th>\n",
       "      <th>Dept</th>\n",
       "      <th>Weekly_Sales</th>\n",
       "      <th>Temperature</th>\n",
       "      <th>Fuel_Price</th>\n",
       "      <th>CPI</th>\n",
       "      <th>Unemployment</th>\n",
       "    </tr>\n",
       "  </thead>\n",
       "  <tbody>\n",
       "    <tr>\n",
       "      <th>0</th>\n",
       "      <td>2010-02-05</td>\n",
       "      <td>0</td>\n",
       "      <td>6.0</td>\n",
       "      <td>5749.03</td>\n",
       "      <td>42.31</td>\n",
       "      <td>2.572</td>\n",
       "      <td>211.096358</td>\n",
       "      <td>8.106</td>\n",
       "    </tr>\n",
       "    <tr>\n",
       "      <th>1</th>\n",
       "      <td>2010-02-12</td>\n",
       "      <td>1</td>\n",
       "      <td>6.0</td>\n",
       "      <td>9135.00</td>\n",
       "      <td>38.51</td>\n",
       "      <td>2.548</td>\n",
       "      <td>211.242170</td>\n",
       "      <td>8.106</td>\n",
       "    </tr>\n",
       "    <tr>\n",
       "      <th>2</th>\n",
       "      <td>2010-02-19</td>\n",
       "      <td>0</td>\n",
       "      <td>6.0</td>\n",
       "      <td>6060.26</td>\n",
       "      <td>39.93</td>\n",
       "      <td>2.514</td>\n",
       "      <td>211.289143</td>\n",
       "      <td>8.106</td>\n",
       "    </tr>\n",
       "    <tr>\n",
       "      <th>3</th>\n",
       "      <td>2010-02-26</td>\n",
       "      <td>0</td>\n",
       "      <td>6.0</td>\n",
       "      <td>5244.56</td>\n",
       "      <td>46.63</td>\n",
       "      <td>2.561</td>\n",
       "      <td>211.319643</td>\n",
       "      <td>8.106</td>\n",
       "    </tr>\n",
       "    <tr>\n",
       "      <th>4</th>\n",
       "      <td>2010-03-05</td>\n",
       "      <td>0</td>\n",
       "      <td>6.0</td>\n",
       "      <td>4221.25</td>\n",
       "      <td>46.50</td>\n",
       "      <td>2.625</td>\n",
       "      <td>211.350143</td>\n",
       "      <td>8.106</td>\n",
       "    </tr>\n",
       "  </tbody>\n",
       "</table>\n",
       "</div>"
      ],
      "text/plain": [
       "         Date  IsHoliday  Dept  Weekly_Sales  Temperature  Fuel_Price  \\\n",
       "0  2010-02-05          0   6.0       5749.03        42.31       2.572   \n",
       "1  2010-02-12          1   6.0       9135.00        38.51       2.548   \n",
       "2  2010-02-19          0   6.0       6060.26        39.93       2.514   \n",
       "3  2010-02-26          0   6.0       5244.56        46.63       2.561   \n",
       "4  2010-03-05          0   6.0       4221.25        46.50       2.625   \n",
       "\n",
       "          CPI  Unemployment  \n",
       "0  211.096358         8.106  \n",
       "1  211.242170         8.106  \n",
       "2  211.289143         8.106  \n",
       "3  211.319643         8.106  \n",
       "4  211.350143         8.106  "
      ]
     },
     "execution_count": 8,
     "metadata": {},
     "output_type": "execute_result"
    }
   ],
   "source": [
    "dept_6_df.head()"
   ]
  },
  {
   "cell_type": "code",
   "execution_count": 9,
   "id": "1152a2cb",
   "metadata": {},
   "outputs": [
    {
     "name": "stdout",
     "output_type": "stream",
     "text": [
      "<class 'pandas.core.frame.DataFrame'>\n",
      "RangeIndex: 143 entries, 0 to 142\n",
      "Data columns (total 8 columns):\n",
      " #   Column        Non-Null Count  Dtype  \n",
      "---  ------        --------------  -----  \n",
      " 0   Date          143 non-null    object \n",
      " 1   IsHoliday     143 non-null    int64  \n",
      " 2   Dept          143 non-null    float64\n",
      " 3   Weekly_Sales  143 non-null    float64\n",
      " 4   Temperature   143 non-null    float64\n",
      " 5   Fuel_Price    143 non-null    float64\n",
      " 6   CPI           143 non-null    float64\n",
      " 7   Unemployment  143 non-null    float64\n",
      "dtypes: float64(6), int64(1), object(1)\n",
      "memory usage: 9.1+ KB\n"
     ]
    }
   ],
   "source": [
    "dept_6_df.info()"
   ]
  },
  {
   "cell_type": "code",
   "execution_count": 10,
   "id": "0dfaa884",
   "metadata": {},
   "outputs": [
    {
     "data": {
      "text/plain": [
       "Date            0\n",
       "IsHoliday       0\n",
       "Dept            0\n",
       "Weekly_Sales    0\n",
       "Temperature     0\n",
       "Fuel_Price      0\n",
       "CPI             0\n",
       "Unemployment    0\n",
       "dtype: int64"
      ]
     },
     "execution_count": 10,
     "metadata": {},
     "output_type": "execute_result"
    }
   ],
   "source": [
    "dept_6_df.isnull().sum()"
   ]
  },
  {
   "cell_type": "code",
   "execution_count": 11,
   "id": "580f29d7",
   "metadata": {},
   "outputs": [
    {
     "data": {
      "text/plain": [
       "(143, 8)"
      ]
     },
     "execution_count": 11,
     "metadata": {},
     "output_type": "execute_result"
    }
   ],
   "source": [
    "dept_6_df.shape"
   ]
  },
  {
   "cell_type": "code",
   "execution_count": 12,
   "id": "af9a2678",
   "metadata": {},
   "outputs": [
    {
     "data": {
      "text/plain": [
       "0"
      ]
     },
     "execution_count": 12,
     "metadata": {},
     "output_type": "execute_result"
    }
   ],
   "source": [
    "dept_6_df.duplicated().sum()"
   ]
  },
  {
   "cell_type": "markdown",
   "id": "811e8a68",
   "metadata": {},
   "source": [
    "Convert 'Date' column to datetime\n"
   ]
  },
  {
   "cell_type": "code",
   "execution_count": 13,
   "id": "0b82dc9b",
   "metadata": {},
   "outputs": [],
   "source": [
    "dept_6_df['Date'] = pd.to_datetime(dept_6_df['Date'])"
   ]
  },
  {
   "cell_type": "code",
   "execution_count": 14,
   "id": "9c53b0ca",
   "metadata": {},
   "outputs": [
    {
     "data": {
      "text/plain": [
       "0   2010-02-05\n",
       "1   2010-02-12\n",
       "2   2010-02-19\n",
       "3   2010-02-26\n",
       "4   2010-03-05\n",
       "Name: Date, dtype: datetime64[ns]"
      ]
     },
     "execution_count": 14,
     "metadata": {},
     "output_type": "execute_result"
    }
   ],
   "source": [
    "#show the first 5 rows of the 'Date' column\n",
    "dept_6_df['Date'].head(5)"
   ]
  },
  {
   "cell_type": "code",
   "execution_count": 15,
   "id": "1158f4d2",
   "metadata": {},
   "outputs": [
    {
     "data": {
      "text/plain": [
       "138   2012-09-28\n",
       "139   2012-10-05\n",
       "140   2012-10-12\n",
       "141   2012-10-19\n",
       "142   2012-10-26\n",
       "Name: Date, dtype: datetime64[ns]"
      ]
     },
     "execution_count": 15,
     "metadata": {},
     "output_type": "execute_result"
    }
   ],
   "source": [
    "#show the last 5 rows of the 'Date' column\n",
    "dept_6_df['Date'].tail(5)"
   ]
  },
  {
   "cell_type": "markdown",
   "id": "34f6a88e",
   "metadata": {},
   "source": [
    "Sort by date"
   ]
  },
  {
   "cell_type": "code",
   "execution_count": 16,
   "id": "e806580c",
   "metadata": {},
   "outputs": [],
   "source": [
    "dept_6_df = dept_6_df.sort_values('Date').reset_index(drop=True)"
   ]
  },
  {
   "cell_type": "code",
   "execution_count": 17,
   "id": "981eae36",
   "metadata": {},
   "outputs": [
    {
     "name": "stdout",
     "output_type": "stream",
     "text": [
      "<class 'pandas.core.frame.DataFrame'>\n",
      "RangeIndex: 143 entries, 0 to 142\n",
      "Data columns (total 8 columns):\n",
      " #   Column        Non-Null Count  Dtype         \n",
      "---  ------        --------------  -----         \n",
      " 0   Date          143 non-null    datetime64[ns]\n",
      " 1   IsHoliday     143 non-null    int64         \n",
      " 2   Dept          143 non-null    float64       \n",
      " 3   Weekly_Sales  143 non-null    float64       \n",
      " 4   Temperature   143 non-null    float64       \n",
      " 5   Fuel_Price    143 non-null    float64       \n",
      " 6   CPI           143 non-null    float64       \n",
      " 7   Unemployment  143 non-null    float64       \n",
      "dtypes: datetime64[ns](1), float64(6), int64(1)\n",
      "memory usage: 9.1 KB\n",
      "None\n"
     ]
    }
   ],
   "source": [
    "print(dept_6_df.info())"
   ]
  },
  {
   "cell_type": "code",
   "execution_count": 18,
   "id": "2675f63d",
   "metadata": {},
   "outputs": [
    {
     "data": {
      "text/html": [
       "<div>\n",
       "<style scoped>\n",
       "    .dataframe tbody tr th:only-of-type {\n",
       "        vertical-align: middle;\n",
       "    }\n",
       "\n",
       "    .dataframe tbody tr th {\n",
       "        vertical-align: top;\n",
       "    }\n",
       "\n",
       "    .dataframe thead th {\n",
       "        text-align: right;\n",
       "    }\n",
       "</style>\n",
       "<table border=\"1\" class=\"dataframe\">\n",
       "  <thead>\n",
       "    <tr style=\"text-align: right;\">\n",
       "      <th></th>\n",
       "      <th>Date</th>\n",
       "      <th>IsHoliday</th>\n",
       "      <th>Dept</th>\n",
       "      <th>Weekly_Sales</th>\n",
       "      <th>Temperature</th>\n",
       "      <th>Fuel_Price</th>\n",
       "      <th>CPI</th>\n",
       "      <th>Unemployment</th>\n",
       "    </tr>\n",
       "  </thead>\n",
       "  <tbody>\n",
       "    <tr>\n",
       "      <th>0</th>\n",
       "      <td>2010-02-05</td>\n",
       "      <td>0</td>\n",
       "      <td>6.0</td>\n",
       "      <td>5749.03</td>\n",
       "      <td>42.31</td>\n",
       "      <td>2.572</td>\n",
       "      <td>211.096358</td>\n",
       "      <td>8.106</td>\n",
       "    </tr>\n",
       "    <tr>\n",
       "      <th>1</th>\n",
       "      <td>2010-02-12</td>\n",
       "      <td>1</td>\n",
       "      <td>6.0</td>\n",
       "      <td>9135.00</td>\n",
       "      <td>38.51</td>\n",
       "      <td>2.548</td>\n",
       "      <td>211.242170</td>\n",
       "      <td>8.106</td>\n",
       "    </tr>\n",
       "    <tr>\n",
       "      <th>2</th>\n",
       "      <td>2010-02-19</td>\n",
       "      <td>0</td>\n",
       "      <td>6.0</td>\n",
       "      <td>6060.26</td>\n",
       "      <td>39.93</td>\n",
       "      <td>2.514</td>\n",
       "      <td>211.289143</td>\n",
       "      <td>8.106</td>\n",
       "    </tr>\n",
       "    <tr>\n",
       "      <th>3</th>\n",
       "      <td>2010-02-26</td>\n",
       "      <td>0</td>\n",
       "      <td>6.0</td>\n",
       "      <td>5244.56</td>\n",
       "      <td>46.63</td>\n",
       "      <td>2.561</td>\n",
       "      <td>211.319643</td>\n",
       "      <td>8.106</td>\n",
       "    </tr>\n",
       "    <tr>\n",
       "      <th>4</th>\n",
       "      <td>2010-03-05</td>\n",
       "      <td>0</td>\n",
       "      <td>6.0</td>\n",
       "      <td>4221.25</td>\n",
       "      <td>46.50</td>\n",
       "      <td>2.625</td>\n",
       "      <td>211.350143</td>\n",
       "      <td>8.106</td>\n",
       "    </tr>\n",
       "  </tbody>\n",
       "</table>\n",
       "</div>"
      ],
      "text/plain": [
       "        Date  IsHoliday  Dept  Weekly_Sales  Temperature  Fuel_Price  \\\n",
       "0 2010-02-05          0   6.0       5749.03        42.31       2.572   \n",
       "1 2010-02-12          1   6.0       9135.00        38.51       2.548   \n",
       "2 2010-02-19          0   6.0       6060.26        39.93       2.514   \n",
       "3 2010-02-26          0   6.0       5244.56        46.63       2.561   \n",
       "4 2010-03-05          0   6.0       4221.25        46.50       2.625   \n",
       "\n",
       "          CPI  Unemployment  \n",
       "0  211.096358         8.106  \n",
       "1  211.242170         8.106  \n",
       "2  211.289143         8.106  \n",
       "3  211.319643         8.106  \n",
       "4  211.350143         8.106  "
      ]
     },
     "execution_count": 18,
     "metadata": {},
     "output_type": "execute_result"
    }
   ],
   "source": [
    "dept_6_df.head()"
   ]
  },
  {
   "cell_type": "code",
   "execution_count": 19,
   "id": "109c4fe2",
   "metadata": {},
   "outputs": [
    {
     "data": {
      "text/html": [
       "<div>\n",
       "<style scoped>\n",
       "    .dataframe tbody tr th:only-of-type {\n",
       "        vertical-align: middle;\n",
       "    }\n",
       "\n",
       "    .dataframe tbody tr th {\n",
       "        vertical-align: top;\n",
       "    }\n",
       "\n",
       "    .dataframe thead th {\n",
       "        text-align: right;\n",
       "    }\n",
       "</style>\n",
       "<table border=\"1\" class=\"dataframe\">\n",
       "  <thead>\n",
       "    <tr style=\"text-align: right;\">\n",
       "      <th></th>\n",
       "      <th>IsHoliday</th>\n",
       "      <th>Dept</th>\n",
       "      <th>Weekly_Sales</th>\n",
       "      <th>Temperature</th>\n",
       "      <th>Fuel_Price</th>\n",
       "      <th>CPI</th>\n",
       "      <th>Unemployment</th>\n",
       "    </tr>\n",
       "  </thead>\n",
       "  <tbody>\n",
       "    <tr>\n",
       "      <th>count</th>\n",
       "      <td>143.000000</td>\n",
       "      <td>143.0</td>\n",
       "      <td>143.000000</td>\n",
       "      <td>143.000000</td>\n",
       "      <td>143.000000</td>\n",
       "      <td>143.000000</td>\n",
       "      <td>143.000000</td>\n",
       "    </tr>\n",
       "    <tr>\n",
       "      <th>mean</th>\n",
       "      <td>0.069930</td>\n",
       "      <td>6.0</td>\n",
       "      <td>4801.780140</td>\n",
       "      <td>68.306783</td>\n",
       "      <td>3.219699</td>\n",
       "      <td>215.996892</td>\n",
       "      <td>7.610420</td>\n",
       "    </tr>\n",
       "    <tr>\n",
       "      <th>std</th>\n",
       "      <td>0.255926</td>\n",
       "      <td>0.0</td>\n",
       "      <td>3317.432691</td>\n",
       "      <td>14.250486</td>\n",
       "      <td>0.427313</td>\n",
       "      <td>4.350890</td>\n",
       "      <td>0.383749</td>\n",
       "    </tr>\n",
       "    <tr>\n",
       "      <th>min</th>\n",
       "      <td>0.000000</td>\n",
       "      <td>6.0</td>\n",
       "      <td>-139.650000</td>\n",
       "      <td>35.400000</td>\n",
       "      <td>2.514000</td>\n",
       "      <td>210.337426</td>\n",
       "      <td>6.573000</td>\n",
       "    </tr>\n",
       "    <tr>\n",
       "      <th>25%</th>\n",
       "      <td>0.000000</td>\n",
       "      <td>6.0</td>\n",
       "      <td>3364.800000</td>\n",
       "      <td>58.265000</td>\n",
       "      <td>2.764500</td>\n",
       "      <td>211.549277</td>\n",
       "      <td>7.348000</td>\n",
       "    </tr>\n",
       "    <tr>\n",
       "      <th>50%</th>\n",
       "      <td>0.000000</td>\n",
       "      <td>6.0</td>\n",
       "      <td>4132.610000</td>\n",
       "      <td>69.640000</td>\n",
       "      <td>3.290000</td>\n",
       "      <td>215.459905</td>\n",
       "      <td>7.787000</td>\n",
       "    </tr>\n",
       "    <tr>\n",
       "      <th>75%</th>\n",
       "      <td>0.000000</td>\n",
       "      <td>6.0</td>\n",
       "      <td>5022.410000</td>\n",
       "      <td>80.485000</td>\n",
       "      <td>3.594000</td>\n",
       "      <td>220.531330</td>\n",
       "      <td>7.838000</td>\n",
       "    </tr>\n",
       "    <tr>\n",
       "      <th>max</th>\n",
       "      <td>1.000000</td>\n",
       "      <td>6.0</td>\n",
       "      <td>28497.520000</td>\n",
       "      <td>91.650000</td>\n",
       "      <td>3.907000</td>\n",
       "      <td>223.444251</td>\n",
       "      <td>8.106000</td>\n",
       "    </tr>\n",
       "  </tbody>\n",
       "</table>\n",
       "</div>"
      ],
      "text/plain": [
       "        IsHoliday   Dept  Weekly_Sales  Temperature  Fuel_Price         CPI  \\\n",
       "count  143.000000  143.0    143.000000   143.000000  143.000000  143.000000   \n",
       "mean     0.069930    6.0   4801.780140    68.306783    3.219699  215.996892   \n",
       "std      0.255926    0.0   3317.432691    14.250486    0.427313    4.350890   \n",
       "min      0.000000    6.0   -139.650000    35.400000    2.514000  210.337426   \n",
       "25%      0.000000    6.0   3364.800000    58.265000    2.764500  211.549277   \n",
       "50%      0.000000    6.0   4132.610000    69.640000    3.290000  215.459905   \n",
       "75%      0.000000    6.0   5022.410000    80.485000    3.594000  220.531330   \n",
       "max      1.000000    6.0  28497.520000    91.650000    3.907000  223.444251   \n",
       "\n",
       "       Unemployment  \n",
       "count    143.000000  \n",
       "mean       7.610420  \n",
       "std        0.383749  \n",
       "min        6.573000  \n",
       "25%        7.348000  \n",
       "50%        7.787000  \n",
       "75%        7.838000  \n",
       "max        8.106000  "
      ]
     },
     "execution_count": 19,
     "metadata": {},
     "output_type": "execute_result"
    }
   ],
   "source": [
    "dept_6_df.describe()"
   ]
  },
  {
   "cell_type": "code",
   "execution_count": 20,
   "id": "fa8343db",
   "metadata": {},
   "outputs": [
    {
     "name": "stdout",
     "output_type": "stream",
     "text": [
      "[0 1]\n"
     ]
    }
   ],
   "source": [
    "print(dept_6_df['IsHoliday'].unique())\n"
   ]
  },
  {
   "cell_type": "code",
   "execution_count": 21,
   "id": "299fb969",
   "metadata": {},
   "outputs": [
    {
     "name": "stdout",
     "output_type": "stream",
     "text": [
      "[42.31 38.51 39.93 46.63 46.5  57.79 54.58 51.45 62.27 65.86 66.32 64.84\n",
      " 67.41 72.55 74.78 76.44 80.44 80.69 80.43 84.11 84.34 80.91 80.48 83.15\n",
      " 83.36 81.84 87.16 87.   86.65 85.22 81.21 78.69 82.11 80.94 71.89 63.93\n",
      " 67.18 69.86 69.64 58.74 59.61 51.41 64.52 49.27 46.33 49.84 52.33 48.43\n",
      " 48.27 35.4  44.04 43.83 42.27 36.39 57.36 62.9  59.58 53.56 62.76 69.97\n",
      " 59.17 67.84 71.27 72.99 72.03 64.61 75.64 67.63 77.72 83.   83.13 86.41\n",
      " 83.58 85.55 85.83 88.54 85.77 86.83 91.65 90.76 89.94 87.96 87.83 76.\n",
      " 79.94 75.8  79.69 69.31 71.74 63.71 66.57 54.98 59.11 62.25 60.14 48.91\n",
      " 43.93 51.63 47.96 44.55 49.01 48.53 54.11 54.26 56.55 48.02 45.32 57.25\n",
      " 60.96 58.76 64.74 65.93 67.61 70.43 69.07 66.76 67.23 75.55 73.77 70.33\n",
      " 77.22 77.95 78.3  79.35 78.39 84.88 81.57 77.12 80.42 82.66 86.11 85.05\n",
      " 84.85 77.66 80.49 83.96 74.97 69.87 76.08 68.55 62.99 67.97 69.16]\n"
     ]
    }
   ],
   "source": [
    "print(dept_6_df['Temperature'].unique())\n"
   ]
  },
  {
   "cell_type": "code",
   "execution_count": 22,
   "id": "9747c3b9",
   "metadata": {},
   "outputs": [
    {
     "name": "stdout",
     "output_type": "stream",
     "text": [
      "[2.572 2.548 2.514 2.561 2.625 2.667 2.72  2.732 2.719 2.77  2.808 2.795\n",
      " 2.78  2.835 2.854 2.826 2.759 2.705 2.668 2.637 2.653 2.669 2.642 2.623\n",
      " 2.608 2.64  2.627 2.692 2.664 2.619 2.577 2.565 2.582 2.624 2.603 2.633\n",
      " 2.725 2.716 2.689 2.728 2.771 2.735 2.708 2.843 2.869 2.886 2.943 2.976\n",
      " 2.983 3.016 3.01  2.989 3.022 3.045 3.065 3.288 3.459 3.488 3.473 3.524\n",
      " 3.622 3.743 3.807 3.81  3.906 3.899 3.907 3.786 3.699 3.648 3.637 3.594\n",
      " 3.48  3.575 3.651 3.682 3.684 3.638 3.554 3.523 3.533 3.546 3.526 3.467\n",
      " 3.355 3.285 3.274 3.353 3.372 3.332 3.297 3.308 3.236 3.172 3.158 3.159\n",
      " 3.112 3.129 3.157 3.261 3.268 3.29  3.36  3.409 3.51  3.555 3.63  3.669\n",
      " 3.734 3.787 3.845 3.891 3.877 3.814 3.749 3.688 3.561 3.501 3.452 3.393\n",
      " 3.346 3.286 3.227 3.256 3.311 3.407 3.417 3.494 3.571 3.62  3.73  3.717\n",
      " 3.721 3.666 3.617 3.601 3.506]\n"
     ]
    }
   ],
   "source": [
    "print(dept_6_df['Fuel_Price'].unique())\n"
   ]
  },
  {
   "cell_type": "code",
   "execution_count": 23,
   "id": "1295c578",
   "metadata": {},
   "outputs": [],
   "source": [
    "# dept_6_df.set_index('Date', inplace=True)\n"
   ]
  },
  {
   "cell_type": "code",
   "execution_count": 24,
   "id": "a976cb50",
   "metadata": {},
   "outputs": [],
   "source": [
    "def Sesson(quarter):\n",
    "    if quarter ==1:\n",
    "        return 'Winter'\n",
    "    elif quarter == 2:\n",
    "        return 'Spring'\n",
    "    elif quarter == 3:\n",
    "        return 'Summer'\n",
    "    else:\n",
    "        return 'Fall'\n"
   ]
  },
  {
   "cell_type": "code",
   "execution_count": 25,
   "id": "105771bd",
   "metadata": {},
   "outputs": [
    {
     "data": {
      "text/html": [
       "<div>\n",
       "<style scoped>\n",
       "    .dataframe tbody tr th:only-of-type {\n",
       "        vertical-align: middle;\n",
       "    }\n",
       "\n",
       "    .dataframe tbody tr th {\n",
       "        vertical-align: top;\n",
       "    }\n",
       "\n",
       "    .dataframe thead th {\n",
       "        text-align: right;\n",
       "    }\n",
       "</style>\n",
       "<table border=\"1\" class=\"dataframe\">\n",
       "  <thead>\n",
       "    <tr style=\"text-align: right;\">\n",
       "      <th></th>\n",
       "      <th>Date</th>\n",
       "      <th>IsHoliday</th>\n",
       "      <th>Dept</th>\n",
       "      <th>Weekly_Sales</th>\n",
       "      <th>Temperature</th>\n",
       "      <th>Fuel_Price</th>\n",
       "      <th>CPI</th>\n",
       "      <th>Unemployment</th>\n",
       "      <th>Year</th>\n",
       "      <th>Season</th>\n",
       "      <th>Month</th>\n",
       "      <th>Day_Of_Week</th>\n",
       "    </tr>\n",
       "  </thead>\n",
       "  <tbody>\n",
       "    <tr>\n",
       "      <th>0</th>\n",
       "      <td>2010-02-05</td>\n",
       "      <td>0</td>\n",
       "      <td>6.0</td>\n",
       "      <td>5749.03</td>\n",
       "      <td>42.31</td>\n",
       "      <td>2.572</td>\n",
       "      <td>211.096358</td>\n",
       "      <td>8.106</td>\n",
       "      <td>2010</td>\n",
       "      <td>Winter</td>\n",
       "      <td>February</td>\n",
       "      <td>Friday</td>\n",
       "    </tr>\n",
       "    <tr>\n",
       "      <th>1</th>\n",
       "      <td>2010-02-12</td>\n",
       "      <td>1</td>\n",
       "      <td>6.0</td>\n",
       "      <td>9135.00</td>\n",
       "      <td>38.51</td>\n",
       "      <td>2.548</td>\n",
       "      <td>211.242170</td>\n",
       "      <td>8.106</td>\n",
       "      <td>2010</td>\n",
       "      <td>Winter</td>\n",
       "      <td>February</td>\n",
       "      <td>Friday</td>\n",
       "    </tr>\n",
       "    <tr>\n",
       "      <th>2</th>\n",
       "      <td>2010-02-19</td>\n",
       "      <td>0</td>\n",
       "      <td>6.0</td>\n",
       "      <td>6060.26</td>\n",
       "      <td>39.93</td>\n",
       "      <td>2.514</td>\n",
       "      <td>211.289143</td>\n",
       "      <td>8.106</td>\n",
       "      <td>2010</td>\n",
       "      <td>Winter</td>\n",
       "      <td>February</td>\n",
       "      <td>Friday</td>\n",
       "    </tr>\n",
       "    <tr>\n",
       "      <th>3</th>\n",
       "      <td>2010-02-26</td>\n",
       "      <td>0</td>\n",
       "      <td>6.0</td>\n",
       "      <td>5244.56</td>\n",
       "      <td>46.63</td>\n",
       "      <td>2.561</td>\n",
       "      <td>211.319643</td>\n",
       "      <td>8.106</td>\n",
       "      <td>2010</td>\n",
       "      <td>Winter</td>\n",
       "      <td>February</td>\n",
       "      <td>Friday</td>\n",
       "    </tr>\n",
       "    <tr>\n",
       "      <th>4</th>\n",
       "      <td>2010-03-05</td>\n",
       "      <td>0</td>\n",
       "      <td>6.0</td>\n",
       "      <td>4221.25</td>\n",
       "      <td>46.50</td>\n",
       "      <td>2.625</td>\n",
       "      <td>211.350143</td>\n",
       "      <td>8.106</td>\n",
       "      <td>2010</td>\n",
       "      <td>Winter</td>\n",
       "      <td>March</td>\n",
       "      <td>Friday</td>\n",
       "    </tr>\n",
       "  </tbody>\n",
       "</table>\n",
       "</div>"
      ],
      "text/plain": [
       "        Date  IsHoliday  Dept  Weekly_Sales  Temperature  Fuel_Price  \\\n",
       "0 2010-02-05          0   6.0       5749.03        42.31       2.572   \n",
       "1 2010-02-12          1   6.0       9135.00        38.51       2.548   \n",
       "2 2010-02-19          0   6.0       6060.26        39.93       2.514   \n",
       "3 2010-02-26          0   6.0       5244.56        46.63       2.561   \n",
       "4 2010-03-05          0   6.0       4221.25        46.50       2.625   \n",
       "\n",
       "          CPI  Unemployment  Year  Season     Month Day_Of_Week  \n",
       "0  211.096358         8.106  2010  Winter  February      Friday  \n",
       "1  211.242170         8.106  2010  Winter  February      Friday  \n",
       "2  211.289143         8.106  2010  Winter  February      Friday  \n",
       "3  211.319643         8.106  2010  Winter  February      Friday  \n",
       "4  211.350143         8.106  2010  Winter     March      Friday  "
      ]
     },
     "execution_count": 25,
     "metadata": {},
     "output_type": "execute_result"
    }
   ],
   "source": [
    "dept_6_df['Year'] = dept_6_df['Date'].dt.year \n",
    "dept_6_df['Season'] = dept_6_df['Date'].dt.quarter.apply(Sesson) \n",
    "dept_6_df['Month'] = dept_6_df['Date'].dt.month_name() \n",
    "dept_6_df['Day_Of_Week'] = dept_6_df['Date'].dt.day_name()\n",
    "dept_6_df.head(5)"
   ]
  },
  {
   "cell_type": "code",
   "execution_count": 26,
   "id": "1453aec3",
   "metadata": {},
   "outputs": [
    {
     "name": "stdout",
     "output_type": "stream",
     "text": [
      "['Winter' 'Spring' 'Summer' 'Fall']\n"
     ]
    }
   ],
   "source": [
    "print(dept_6_df['Season'].unique())\n"
   ]
  },
  {
   "cell_type": "code",
   "execution_count": 27,
   "id": "f36bdf49",
   "metadata": {},
   "outputs": [
    {
     "name": "stdout",
     "output_type": "stream",
     "text": [
      "['February' 'March' 'April' 'May' 'June' 'July' 'August' 'September'\n",
      " 'October' 'November' 'December' 'January']\n"
     ]
    }
   ],
   "source": [
    "print(dept_6_df['Month'].unique())\n"
   ]
  },
  {
   "cell_type": "code",
   "execution_count": 28,
   "id": "1e2aa441",
   "metadata": {},
   "outputs": [
    {
     "name": "stdout",
     "output_type": "stream",
     "text": [
      "['Friday']\n"
     ]
    }
   ],
   "source": [
    "print(dept_6_df['Day_Of_Week'].unique())\n"
   ]
  },
  {
   "cell_type": "markdown",
   "id": "30405dc7",
   "metadata": {},
   "source": [
    "Note\n",
    "\n",
    "There are 4 holiday values such as;\n",
    "\n",
    "Super Bowl: 12-Feb-10, 11-Feb-11, 10-Feb-12, 8-Feb-13\n",
    "\n",
    "Labor Day: 10-Sep-10, 9-Sep-11, 7-Sep-12, 6-Sep-13\n",
    "\n",
    "Thanksgiving: 26-Nov-10, 25-Nov-11, 23-Nov-12, 29-Nov-13\n",
    "\n",
    "Christmas: 31-Dec-10, 30-Dec-11, 28-Dec-12, 27-Dec-13/\n"
   ]
  },
  {
   "cell_type": "code",
   "execution_count": 29,
   "id": "9c00de13",
   "metadata": {},
   "outputs": [],
   "source": [
    "# Super bowl dates in train set\n",
    "dept_6_df.loc[(dept_6_df['Date'] == '2010-02-12')|(dept_6_df['Date'] == '2011-02-11')|(dept_6_df['Date'] == '2012-02-10'),'Super_Bowl'] = True\n",
    "dept_6_df.loc[(dept_6_df['Date'] != '2010-02-12')&(dept_6_df['Date'] != '2011-02-11')&(dept_6_df['Date'] != '2012-02-10'),'Super_Bowl'] = False"
   ]
  },
  {
   "cell_type": "code",
   "execution_count": 30,
   "id": "ca53ffad",
   "metadata": {},
   "outputs": [],
   "source": [
    "# Labor day dates in train set\n",
    "dept_6_df.loc[(dept_6_df['Date'] == '2010-09-10')|(dept_6_df['Date'] == '2011-09-09')|(dept_6_df['Date'] == '2012-09-07'),'Labor_Day'] = True\n",
    "dept_6_df.loc[(dept_6_df['Date'] != '2010-09-10')&(dept_6_df['Date'] != '2011-09-09')&(dept_6_df['Date'] != '2012-09-07'),'Labor_Day'] = False"
   ]
  },
  {
   "cell_type": "code",
   "execution_count": 31,
   "id": "cfe8c682",
   "metadata": {},
   "outputs": [],
   "source": [
    "# Thanksgiving dates in train set\n",
    "dept_6_df.loc[(dept_6_df['Date'] == '2010-11-26')|(dept_6_df['Date'] == '2011-11-25'),'Thanksgiving'] = True\n",
    "dept_6_df.loc[(dept_6_df['Date'] != '2010-11-26')&(dept_6_df['Date'] != '2011-11-25'),'Thanksgiving'] = False"
   ]
  },
  {
   "cell_type": "code",
   "execution_count": 32,
   "id": "745f7310",
   "metadata": {},
   "outputs": [],
   "source": [
    "#Christmas dates in train set\n",
    "dept_6_df.loc[(dept_6_df['Date'] == '2010-12-31')|(dept_6_df['Date'] == '2011-12-30'),'Christmas'] = True\n",
    "dept_6_df.loc[(dept_6_df['Date'] != '2010-12-31')&(dept_6_df['Date'] != '2011-12-30'),'Christmas'] = False"
   ]
  },
  {
   "cell_type": "code",
   "execution_count": 33,
   "id": "3fd5d1e1",
   "metadata": {},
   "outputs": [
    {
     "data": {
      "text/plain": [
       "<AxesSubplot:xlabel='Christmas', ylabel='Weekly_Sales'>"
      ]
     },
     "execution_count": 33,
     "metadata": {},
     "output_type": "execute_result"
    },
    {
     "data": {
      "image/png": "[encoded data removed]",
      "text/plain": [
       "<Figure size 432x288 with 1 Axes>"
      ]
     },
     "metadata": {
      "needs_background": "light"
     },
     "output_type": "display_data"
    }
   ],
   "source": [
    "sns.barplot(x='Christmas', y='Weekly_Sales', data=dept_6_df) # Christmas holiday vs not-Christmas\n"
   ]
  },
  {
   "cell_type": "code",
   "execution_count": null,
   "id": "8db26f40",
   "metadata": {},
   "outputs": [],
   "source": []
  },
  {
   "cell_type": "code",
   "execution_count": 34,
   "id": "0ef54508",
   "metadata": {},
   "outputs": [
    {
     "data": {
      "image/png": "[encoded data removed]",
      "text/plain": [
       "<Figure size 576x360 with 1 Axes>"
      ]
     },
     "metadata": {
      "needs_background": "light"
     },
     "output_type": "display_data"
    },
    {
     "data": {
      "image/png": "[encoded data removed]",
      "text/plain": [
       "<Figure size 576x360 with 1 Axes>"
      ]
     },
     "metadata": {
      "needs_background": "light"
     },
     "output_type": "display_data"
    },
    {
     "data": {
      "image/png": "[encoded data removed]",
      "text/plain": [
       "<Figure size 576x360 with 1 Axes>"
      ]
     },
     "metadata": {
      "needs_background": "light"
     },
     "output_type": "display_data"
    },
    {
     "data": {
      "image/png": "[encoded data removed]",
      "text/plain": [
       "<Figure size 576x360 with 1 Axes>"
      ]
     },
     "metadata": {
      "needs_background": "light"
     },
     "output_type": "display_data"
    },
    {
     "data": {
      "image/png": "[encoded data removed]",
      "text/plain": [
       "<Figure size 576x360 with 1 Axes>"
      ]
     },
     "metadata": {
      "needs_background": "light"
     },
     "output_type": "display_data"
    }
   ],
   "source": [
    "features = ['Weekly_Sales', 'Temperature', 'Fuel_Price', 'CPI', 'Unemployment']\n",
    "\n",
    "for column in features:\n",
    "    plt.figure(figsize=(8, 5))\n",
    "    sns.histplot(data=dept_6_df, x=column, kde=True, bins=10)\n",
    "    plt.title(f'Histogram of {column}')\n",
    "    plt.tight_layout()\n",
    "    plt.show()"
   ]
  },
  {
   "cell_type": "code",
   "execution_count": 35,
   "id": "efe9386b",
   "metadata": {},
   "outputs": [
    {
     "data": {
      "text/plain": [
       "<AxesSubplot:xlabel='IsHoliday', ylabel='Weekly_Sales'>"
      ]
     },
     "execution_count": 35,
     "metadata": {},
     "output_type": "execute_result"
    },
    {
     "data": {
      "image/png": "[encoded data removed]",
      "text/plain": [
       "<Figure size 432x288 with 1 Axes>"
      ]
     },
     "metadata": {
      "needs_background": "light"
     },
     "output_type": "display_data"
    }
   ],
   "source": [
    "sns.barplot(x='IsHoliday', y='Weekly_Sales', data=dept_6_df)\n"
   ]
  },
  {
   "cell_type": "code",
   "execution_count": 36,
   "id": "7140b3ea",
   "metadata": {},
   "outputs": [
    {
     "data": {
      "image/png": "[encoded data removed]",
      "text/plain": [
       "<Figure size 864x432 with 2 Axes>"
      ]
     },
     "metadata": {
      "needs_background": "light"
     },
     "output_type": "display_data"
    }
   ],
   "source": [
    "# Group by year and holiday_flag to get counts\n",
    "holiday_counts = dept_6_df.groupby(['Year', 'IsHoliday']).size().unstack(fill_value=0).reset_index()\n",
    "\n",
    "# Melt DataFrame to long format\n",
    "holiday_counts_melted = pd.melt(holiday_counts, id_vars='Year', var_name='Holiday Flag', value_name='Count')\n",
    "\n",
    "# Plot using Seaborn\n",
    "fig, ax = plt.subplots(1, 2, figsize=(12, 6))\n",
    "\n",
    "# Bar plot\n",
    "sns.barplot(data=holiday_counts_melted, x='Year', y='Count', hue='Holiday Flag', ax=ax[0])\n",
    "ax[0].set_title('Holiday Distribution Over the Years')\n",
    "ax[0].set_xlabel('Year')\n",
    "ax[0].set_ylabel('Count')\n",
    "\n",
    "# Get legend handles\n",
    "handles, _ = ax[0].get_legend_handles_labels()\n",
    "\n",
    "ax[0].legend(handles=handles, labels=['Not Holiday', 'Holiday'], title='Holiday Flag', loc='upper left', bbox_to_anchor=(1, 1))\n",
    "\n",
    "ax[1].pie(df['IsHoliday'].value_counts().values, labels=['Not Holiday', 'Holiday'], autopct='%1.2f%%')\n",
    "ax[1].set_title('Overall Holiday Distribution')\n",
    "\n",
    "plt.tight_layout()\n",
    "plt.show()"
   ]
  },
  {
   "cell_type": "code",
   "execution_count": 37,
   "id": "8da9cb89",
   "metadata": {},
   "outputs": [
    {
     "data": {
      "image/png": "[encoded data removed]",
      "text/plain": [
       "<Figure size 1152x432 with 1 Axes>"
      ]
     },
     "metadata": {
      "needs_background": "light"
     },
     "output_type": "display_data"
    }
   ],
   "source": [
    "plt.figure(figsize = (16, 6))\n",
    "sns.barplot(data = dept_6_df,\n",
    "           x = 'Year',\n",
    "           y = 'Weekly_Sales',\n",
    "           hue = 'Season',\n",
    "           estimator = np.sum,\n",
    "           ci = False)\n",
    "\n",
    "plt.title('Total Sales by season in each year', size = 14)\n",
    "plt.xlabel('Year', size = 10)\n",
    "plt.ylabel('Total Sales', size = 10)\n",
    "plt.show()"
   ]
  },
  {
   "cell_type": "code",
   "execution_count": 38,
   "id": "67935832",
   "metadata": {},
   "outputs": [
    {
     "data": {
      "image/png": "[encoded data removed]",
      "text/plain": [
       "<Figure size 1152x432 with 1 Axes>"
      ]
     },
     "metadata": {
      "needs_background": "light"
     },
     "output_type": "display_data"
    }
   ],
   "source": [
    "plt.figure(figsize = (16, 6))\n",
    "sns.barplot(data = dept_6_df,\n",
    "           x = 'Year',\n",
    "           y = 'Weekly_Sales',\n",
    "           hue = 'Month',\n",
    "           estimator = np.sum,\n",
    "           ci = False)\n",
    "\n",
    "plt.title('Total Sales by month in each year', size = 14)\n",
    "plt.xlabel('Year', size = 10)\n",
    "plt.ylabel('Total Sales', size = 10)\n",
    "plt.show()"
   ]
  },
  {
   "cell_type": "code",
   "execution_count": 39,
   "id": "df45c9c8",
   "metadata": {},
   "outputs": [
    {
     "data": {
      "text/html": [
       "<div>\n",
       "<style scoped>\n",
       "    .dataframe tbody tr th:only-of-type {\n",
       "        vertical-align: middle;\n",
       "    }\n",
       "\n",
       "    .dataframe tbody tr th {\n",
       "        vertical-align: top;\n",
       "    }\n",
       "\n",
       "    .dataframe thead th {\n",
       "        text-align: right;\n",
       "    }\n",
       "</style>\n",
       "<table border=\"1\" class=\"dataframe\">\n",
       "  <thead>\n",
       "    <tr style=\"text-align: right;\">\n",
       "      <th></th>\n",
       "      <th>Year</th>\n",
       "      <th>Total Sales</th>\n",
       "    </tr>\n",
       "  </thead>\n",
       "  <tbody>\n",
       "    <tr>\n",
       "      <th>0</th>\n",
       "      <td>2010</td>\n",
       "      <td>283502.81</td>\n",
       "    </tr>\n",
       "    <tr>\n",
       "      <th>1</th>\n",
       "      <td>2011</td>\n",
       "      <td>243433.96</td>\n",
       "    </tr>\n",
       "    <tr>\n",
       "      <th>2</th>\n",
       "      <td>2012</td>\n",
       "      <td>159717.79</td>\n",
       "    </tr>\n",
       "  </tbody>\n",
       "</table>\n",
       "</div>"
      ],
      "text/plain": [
       "   Year  Total Sales\n",
       "0  2010    283502.81\n",
       "1  2011    243433.96\n",
       "2  2012    159717.79"
      ]
     },
     "execution_count": 39,
     "metadata": {},
     "output_type": "execute_result"
    }
   ],
   "source": [
    "df_1=dept_6_df.groupby(by=['Year'])['Weekly_Sales'].agg('sum').to_frame('Total Sales').reset_index()\n",
    "df_1['rank year wise']=df_1.groupby(by=['Year'])['Total Sales'].rank(method='dense',ascending=False)\n",
    "df_1[df_1['rank year wise']==1].reset_index()[['Year','Total Sales']]"
   ]
  },
  {
   "cell_type": "code",
   "execution_count": 40,
   "id": "47b41aa9",
   "metadata": {},
   "outputs": [
    {
     "data": {
      "image/png": "[encoded data removed]",
      "text/plain": [
       "<Figure size 1008x432 with 2 Axes>"
      ]
     },
     "metadata": {
      "needs_background": "light"
     },
     "output_type": "display_data"
    }
   ],
   "source": [
    "# Calculate the count of each year\n",
    "year_counts = dept_6_df['Year'].value_counts()\n",
    "\n",
    "fig, ax = plt.subplots(1, 2, figsize=(14, 6))\n",
    "\n",
    "# Countplot for the distribution of years\n",
    "sns.countplot(data=dept_6_df, x='Year', ax=ax[0])\n",
    "ax[0].set_xlabel('Year')\n",
    "ax[0].set_ylabel('Count')\n",
    "\n",
    "# Pie chart for the distribution of years\n",
    "ax[1].pie(year_counts.values, labels=year_counts.index, autopct='%1.2f%%')\n",
    "plt.suptitle('Distribution of Years', fontsize=16, y=1.05)\n",
    "plt.show()"
   ]
  },
  {
   "cell_type": "code",
   "execution_count": 41,
   "id": "0a3066d0",
   "metadata": {},
   "outputs": [
    {
     "data": {
      "text/html": [
       "<div>\n",
       "<style scoped>\n",
       "    .dataframe tbody tr th:only-of-type {\n",
       "        vertical-align: middle;\n",
       "    }\n",
       "\n",
       "    .dataframe tbody tr th {\n",
       "        vertical-align: top;\n",
       "    }\n",
       "\n",
       "    .dataframe thead th {\n",
       "        text-align: right;\n",
       "    }\n",
       "</style>\n",
       "<table border=\"1\" class=\"dataframe\">\n",
       "  <thead>\n",
       "    <tr style=\"text-align: right;\">\n",
       "      <th>Season</th>\n",
       "      <th>Fall</th>\n",
       "      <th>Spring</th>\n",
       "      <th>Summer</th>\n",
       "      <th>Winter</th>\n",
       "    </tr>\n",
       "    <tr>\n",
       "      <th>Year</th>\n",
       "      <th></th>\n",
       "      <th></th>\n",
       "      <th></th>\n",
       "      <th></th>\n",
       "    </tr>\n",
       "  </thead>\n",
       "  <tbody>\n",
       "    <tr>\n",
       "      <th>2010</th>\n",
       "      <td>113991.70</td>\n",
       "      <td>63993.04</td>\n",
       "      <td>57114.59</td>\n",
       "      <td>48403.48</td>\n",
       "    </tr>\n",
       "    <tr>\n",
       "      <th>2011</th>\n",
       "      <td>98881.32</td>\n",
       "      <td>52396.26</td>\n",
       "      <td>51745.61</td>\n",
       "      <td>40410.77</td>\n",
       "    </tr>\n",
       "    <tr>\n",
       "      <th>2012</th>\n",
       "      <td>15161.07</td>\n",
       "      <td>56838.51</td>\n",
       "      <td>36237.12</td>\n",
       "      <td>51481.09</td>\n",
       "    </tr>\n",
       "  </tbody>\n",
       "</table>\n",
       "</div>"
      ],
      "text/plain": [
       "Season       Fall    Spring    Summer    Winter\n",
       "Year                                           \n",
       "2010    113991.70  63993.04  57114.59  48403.48\n",
       "2011     98881.32  52396.26  51745.61  40410.77\n",
       "2012     15161.07  56838.51  36237.12  51481.09"
      ]
     },
     "execution_count": 41,
     "metadata": {},
     "output_type": "execute_result"
    }
   ],
   "source": [
    "pd.pivot_table(data = dept_6_df,\n",
    "              index = 'Year',\n",
    "              columns = 'Season',\n",
    "              values = 'Weekly_Sales',\n",
    "              aggfunc = 'sum')"
   ]
  },
  {
   "cell_type": "code",
   "execution_count": 42,
   "id": "0fa6a33a",
   "metadata": {},
   "outputs": [
    {
     "data": {
      "image/png": "[encoded data removed]",
      "text/plain": [
       "<Figure size 720x432 with 1 Axes>"
      ]
     },
     "metadata": {
      "needs_background": "light"
     },
     "output_type": "display_data"
    }
   ],
   "source": [
    "plt.figure(figsize=(10, 6))\n",
    "sns.scatterplot(x='CPI', y='Weekly_Sales', data=dept_6_df, color='cornflowerblue')\n",
    "sns.regplot(x='CPI', y='Weekly_Sales', data=dept_6_df, scatter=False, color='red')\n",
    "plt.xlabel('CPI')\n",
    "plt.ylabel('Weekly Sales')\n",
    "plt.title('Weekly Sales vs CPI')\n",
    "plt.show()"
   ]
  },
  {
   "cell_type": "code",
   "execution_count": 43,
   "id": "ee7705ec",
   "metadata": {},
   "outputs": [
    {
     "data": {
      "image/png": "[encoded data removed]",
      "text/plain": [
       "<Figure size 1008x432 with 1 Axes>"
      ]
     },
     "metadata": {
      "needs_background": "light"
     },
     "output_type": "display_data"
    }
   ],
   "source": [
    "plt.figure(figsize=(14, 6))\n",
    "plt.plot(dept_6_df.index, dept_6_df['Weekly_Sales'], label='Weekly Sales')\n",
    "plt.title('Weekly Sales for Department 6')\n",
    "plt.xlabel('Date')\n",
    "plt.ylabel('Sales')\n",
    "plt.grid(True)\n",
    "plt.legend()\n",
    "plt.show()"
   ]
  },
  {
   "cell_type": "code",
   "execution_count": 44,
   "id": "a34e615b",
   "metadata": {},
   "outputs": [
    {
     "data": {
      "image/png": "[encoded data removed]",
      "text/plain": [
       "<Figure size 1008x432 with 1 Axes>"
      ]
     },
     "metadata": {
      "needs_background": "light"
     },
     "output_type": "display_data"
    }
   ],
   "source": [
    "# Plot with holidays highlighted\n",
    "plt.figure(figsize=(14, 6))\n",
    "sns.lineplot(data=dept_6_df, x=dept_6_df.index, y='Weekly_Sales', label='Weekly Sales')\n",
    "\n",
    "# Highlight holidays\n",
    "holiday_weeks = dept_6_df[dept_6_df['IsHoliday'] == 1]\n",
    "plt.scatter(holiday_weeks.index, holiday_weeks['Weekly_Sales'], color='red', label='Holiday Week', zorder=5)\n",
    "\n",
    "plt.title('Weekly Sales with Holiday Weeks Highlighted')\n",
    "plt.xlabel('Date')\n",
    "plt.ylabel('Sales')\n",
    "plt.legend()\n",
    "plt.grid(True)\n",
    "plt.show()"
   ]
  },
  {
   "cell_type": "code",
   "execution_count": 45,
   "id": "217a17b4",
   "metadata": {},
   "outputs": [
    {
     "data": {
      "text/plain": [
       "<Figure size 864x360 with 0 Axes>"
      ]
     },
     "metadata": {},
     "output_type": "display_data"
    },
    {
     "data": {
      "image/png": "[encoded data removed]",
      "text/plain": [
       "<Figure size 432x288 with 1 Axes>"
      ]
     },
     "metadata": {
      "needs_background": "light"
     },
     "output_type": "display_data"
    }
   ],
   "source": [
    "# Plot ACF\n",
    "plt.figure(figsize=(12, 5))\n",
    "plot_acf(dept_6_df['Weekly_Sales'], lags=30)\n",
    "plt.title('Autocorrelation Function (ACF)')\n",
    "plt.show()\n",
    "\n"
   ]
  },
  {
   "cell_type": "code",
   "execution_count": 46,
   "id": "2e217e6c",
   "metadata": {},
   "outputs": [
    {
     "data": {
      "text/plain": [
       "<Figure size 864x360 with 0 Axes>"
      ]
     },
     "metadata": {},
     "output_type": "display_data"
    },
    {
     "data": {
      "image/png": "[encoded data removed]",
      "text/plain": [
       "<Figure size 432x288 with 1 Axes>"
      ]
     },
     "metadata": {
      "needs_background": "light"
     },
     "output_type": "display_data"
    }
   ],
   "source": [
    "# Plot PACF\n",
    "plt.figure(figsize=(12, 5))\n",
    "plot_pacf(dept_6_df['Weekly_Sales'], lags=30, method='ywm')\n",
    "plt.title('Partial Autocorrelation Function (PACF)')\n",
    "plt.show()"
   ]
  },
  {
   "cell_type": "markdown",
   "id": "80f3af55",
   "metadata": {},
   "source": [
    "Holt’s Linear & Holt-Winters"
   ]
  },
  {
   "cell_type": "code",
   "execution_count": 47,
   "id": "e0bc2524",
   "metadata": {},
   "outputs": [],
   "source": [
    "# Create a train-test split\n",
    "train = dept_6_df.iloc[:-12]  # Use all except last 12 weeks for training\n",
    "test = dept_6_df.iloc[-12:]   # Last 12 weeks for testing"
   ]
  },
  {
   "cell_type": "code",
   "execution_count": 48,
   "id": "fbee861d",
   "metadata": {},
   "outputs": [
    {
     "name": "stdout",
     "output_type": "stream",
     "text": [
      "Holt Linear RMSE: 1322.08, MAE: 999.82\n"
     ]
    },
    {
     "name": "stderr",
     "output_type": "stream",
     "text": [
      "c:\\Users\\HP\\anaconda3\\lib\\site-packages\\statsmodels\\tsa\\holtwinters\\model.py:915: ConvergenceWarning: Optimization failed to converge. Check mle_retvals.\n",
      "  warnings.warn(\n"
     ]
    }
   ],
   "source": [
    "# Holt’s Linear Trend (no seasonality):\n",
    "holt_model = ExponentialSmoothing(\n",
    "    train['Weekly_Sales'], trend='add', seasonal=None\n",
    ").fit()\n",
    "\n",
    "holt_forecast = holt_model.forecast(len(test))\n",
    "\n",
    "# Evaluation\n",
    "mse = mean_squared_error(test['Weekly_Sales'], holt_forecast)\n",
    "mae = mean_absolute_error(test['Weekly_Sales'], holt_forecast)\n",
    "rmse = np.sqrt(mse)\n",
    "\n",
    "print(f\"Holt Linear RMSE: {rmse:.2f}, MAE: {mae:.2f}\")\n"
   ]
  },
  {
   "cell_type": "markdown",
   "id": "9f6aa1ac",
   "metadata": {},
   "source": [
    "Holt-Winters Model (trend + seasonality):"
   ]
  },
  {
   "cell_type": "code",
   "execution_count": 49,
   "id": "518468e0",
   "metadata": {},
   "outputs": [
    {
     "name": "stdout",
     "output_type": "stream",
     "text": [
      "Holt-Winters RMSE: 1218.28, MAE: 838.93\n"
     ]
    },
    {
     "name": "stderr",
     "output_type": "stream",
     "text": [
      "c:\\Users\\HP\\anaconda3\\lib\\site-packages\\statsmodels\\tsa\\holtwinters\\model.py:915: ConvergenceWarning: Optimization failed to converge. Check mle_retvals.\n",
      "  warnings.warn(\n"
     ]
    }
   ],
   "source": [
    "# Holt-Winters (additive seasonality, assume 52-week season)\n",
    "hw_model = ExponentialSmoothing(\n",
    "    train['Weekly_Sales'], trend='add', seasonal='add', seasonal_periods=52\n",
    ").fit()\n",
    "\n",
    "hw_forecast = hw_model.forecast(len(test))\n",
    "\n",
    "# Evaluation\n",
    "mse_hw = mean_squared_error(test['Weekly_Sales'], hw_forecast)\n",
    "mae_hw = mean_absolute_error(test['Weekly_Sales'], hw_forecast)\n",
    "rmse_hw = np.sqrt(mse_hw)\n",
    "\n",
    "print(f\"Holt-Winters RMSE: {rmse_hw:.2f}, MAE: {mae_hw:.2f}\")\n"
   ]
  },
  {
   "cell_type": "code",
   "execution_count": 50,
   "id": "2795d354",
   "metadata": {},
   "outputs": [
    {
     "data": {
      "image/png": "[encoded data removed]",
      "text/plain": [
       "<Figure size 864x432 with 1 Axes>"
      ]
     },
     "metadata": {
      "needs_background": "light"
     },
     "output_type": "display_data"
    }
   ],
   "source": [
    "plt.figure(figsize=(12, 6))\n",
    "plt.plot(train.index, train['Weekly_Sales'], label='Train')\n",
    "plt.plot(test.index, test['Weekly_Sales'], label='Test')\n",
    "plt.plot(test.index, hw_forecast, label='Holt-Winters Forecast')\n",
    "plt.legend()\n",
    "plt.title('Holt-Winters Forecast vs Actual Sales')\n",
    "plt.show()"
   ]
  },
  {
   "cell_type": "markdown",
   "id": "e5379478",
   "metadata": {},
   "source": [
    "ARIMA Model"
   ]
  },
  {
   "cell_type": "code",
   "execution_count": 51,
   "id": "78cd64ce",
   "metadata": {},
   "outputs": [
    {
     "name": "stderr",
     "output_type": "stream",
     "text": [
      "c:\\Users\\HP\\anaconda3\\lib\\site-packages\\statsmodels\\tsa\\statespace\\sarimax.py:978: UserWarning: Non-invertible starting MA parameters found. Using zeros as starting parameters.\n",
      "  warn('Non-invertible starting MA parameters found.'\n"
     ]
    },
    {
     "name": "stdout",
     "output_type": "stream",
     "text": [
      "ARIMA RMSE: 2086.53, MAE: 1837.19\n"
     ]
    }
   ],
   "source": [
    "# Fit ARIMA model\n",
    "arima_model = ARIMA(train['Weekly_Sales'], order=(1, 1, 1)).fit()\n",
    "\n",
    "# Forecast next 12 weeks\n",
    "arima_forecast = arima_model.forecast(steps=len(test))\n",
    "\n",
    "# Evaluation\n",
    "rmse = np.sqrt(mean_squared_error(test['Weekly_Sales'], arima_forecast))\n",
    "mae = mean_absolute_error(test['Weekly_Sales'], arima_forecast)\n",
    "\n",
    "print(f\"ARIMA RMSE: {rmse:.2f}, MAE: {mae:.2f}\")"
   ]
  },
  {
   "cell_type": "code",
   "execution_count": 52,
   "id": "5832580d",
   "metadata": {},
   "outputs": [
    {
     "data": {
      "image/png": "[encoded data removed]",
      "text/plain": [
       "<Figure size 864x432 with 1 Axes>"
      ]
     },
     "metadata": {
      "needs_background": "light"
     },
     "output_type": "display_data"
    }
   ],
   "source": [
    "plt.figure(figsize=(12, 6))\n",
    "plt.plot(train.index, train['Weekly_Sales'], label='Train')\n",
    "plt.plot(test.index, test['Weekly_Sales'], label='Test')\n",
    "plt.plot(test.index, arima_forecast, label='ARIMA Forecast')\n",
    "plt.legend()\n",
    "plt.title('ARIMA Forecast vs Actual')\n",
    "plt.show()"
   ]
  },
  {
   "cell_type": "markdown",
   "id": "93a32134",
   "metadata": {},
   "source": [
    "SARIMA (Seasonal ARIMA)"
   ]
  },
  {
   "cell_type": "code",
   "execution_count": 53,
   "id": "a1b24cdf",
   "metadata": {},
   "outputs": [
    {
     "name": "stdout",
     "output_type": "stream",
     "text": [
      "SARIMA RMSE: 1512.19, MAE: 1254.11\n"
     ]
    }
   ],
   "source": [
    "# Define SARIMA parameters\n",
    "# Try (1,1,1)x(1,1,1,52) as a baseline\n",
    "sarima_model = SARIMAX(train['Weekly_Sales'],\n",
    "                       order=(1, 1, 1),\n",
    "                       seasonal_order=(1, 1, 1, 12),\n",
    "                       enforce_stationarity=False,\n",
    "                       enforce_invertibility=False).fit()\n",
    "\n",
    "# Forecast\n",
    "sarima_forecast = sarima_model.forecast(steps=len(test))\n",
    "\n",
    "# Evaluate\n",
    "rmse_sarima = np.sqrt(mean_squared_error(test['Weekly_Sales'], sarima_forecast))\n",
    "mae_sarima = mean_absolute_error(test['Weekly_Sales'], sarima_forecast)\n",
    "\n",
    "print(f\"SARIMA RMSE: {rmse_sarima:.2f}, MAE: {mae_sarima:.2f}\")\n"
   ]
  },
  {
   "cell_type": "code",
   "execution_count": 54,
   "id": "f32940d2",
   "metadata": {},
   "outputs": [
    {
     "data": {
      "image/png": "[encoded data removed]",
      "text/plain": [
       "<Figure size 864x432 with 1 Axes>"
      ]
     },
     "metadata": {
      "needs_background": "light"
     },
     "output_type": "display_data"
    }
   ],
   "source": [
    "plt.figure(figsize=(12, 6))\n",
    "plt.plot(train.index, train['Weekly_Sales'], label='Train')\n",
    "plt.plot(test.index, test['Weekly_Sales'], label='Test')\n",
    "plt.plot(test.index, sarima_forecast, label='SARIMA Forecast')\n",
    "plt.legend()\n",
    "plt.title('SARIMA Forecast vs Actual')\n",
    "plt.show()\n"
   ]
  },
  {
   "cell_type": "markdown",
   "id": "1bc12e3b",
   "metadata": {},
   "source": [
    "SARIMAX (Seasonal ARIMA + eXogenous variables)"
   ]
  },
  {
   "cell_type": "code",
   "execution_count": 55,
   "id": "73d5276d",
   "metadata": {},
   "outputs": [],
   "source": [
    "# Select external regressors\n",
    "exog_cols = ['IsHoliday', 'Temperature']\n",
    "train_exog = train[exog_cols]\n",
    "test_exog = test[exog_cols]\n"
   ]
  },
  {
   "cell_type": "code",
   "execution_count": 56,
   "id": "5f578c8d",
   "metadata": {},
   "outputs": [
    {
     "name": "stdout",
     "output_type": "stream",
     "text": [
      "SARIMAX RMSE: 1872.60, MAE: 1459.69\n"
     ]
    }
   ],
   "source": [
    "# Fit SARIMAX with external variables\n",
    "sarimax_model = SARIMAX(train['Weekly_Sales'],\n",
    "                        exog=train_exog,\n",
    "                        order=(1, 1, 1),\n",
    "                        seasonal_order=(1, 1, 1, 12),\n",
    "                        enforce_stationarity=False,\n",
    "                        enforce_invertibility=False).fit()\n",
    "\n",
    "# Forecast\n",
    "sarimax_forecast = sarimax_model.forecast(steps=len(test), exog=test_exog)\n",
    "\n",
    "# Evaluate\n",
    "rmse_sarimax = np.sqrt(mean_squared_error(test['Weekly_Sales'], sarimax_forecast))\n",
    "mae_sarimax = mean_absolute_error(test['Weekly_Sales'], sarimax_forecast)\n",
    "\n",
    "print(f\"SARIMAX RMSE: {rmse_sarimax:.2f}, MAE: {mae_sarimax:.2f}\")\n"
   ]
  },
  {
   "cell_type": "code",
   "execution_count": 57,
   "id": "9d862f8e",
   "metadata": {},
   "outputs": [
    {
     "data": {
      "image/png": "[encoded data removed]",
      "text/plain": [
       "<Figure size 864x432 with 1 Axes>"
      ]
     },
     "metadata": {
      "needs_background": "light"
     },
     "output_type": "display_data"
    }
   ],
   "source": [
    "plt.figure(figsize=(12, 6))\n",
    "plt.plot(train.index, train['Weekly_Sales'], label='Train')\n",
    "plt.plot(test.index, test['Weekly_Sales'], label='Test')\n",
    "plt.plot(test.index, sarimax_forecast, label='SARIMAX Forecast')\n",
    "plt.legend()\n",
    "plt.title('SARIMAX Forecast vs Actual')\n",
    "plt.show()\n"
   ]
  },
  {
   "cell_type": "markdown",
   "id": "01359109",
   "metadata": {},
   "source": [
    "Machine Learning Regressors"
   ]
  },
  {
   "cell_type": "code",
   "execution_count": 58,
   "id": "8ccfdbdd",
   "metadata": {},
   "outputs": [
    {
     "name": "stdout",
     "output_type": "stream",
     "text": [
      "<class 'pandas.core.frame.DataFrame'>\n",
      "RangeIndex: 143 entries, 0 to 142\n",
      "Data columns (total 16 columns):\n",
      " #   Column        Non-Null Count  Dtype         \n",
      "---  ------        --------------  -----         \n",
      " 0   Date          143 non-null    datetime64[ns]\n",
      " 1   IsHoliday     143 non-null    int64         \n",
      " 2   Dept          143 non-null    float64       \n",
      " 3   Weekly_Sales  143 non-null    float64       \n",
      " 4   Temperature   143 non-null    float64       \n",
      " 5   Fuel_Price    143 non-null    float64       \n",
      " 6   CPI           143 non-null    float64       \n",
      " 7   Unemployment  143 non-null    float64       \n",
      " 8   Year          143 non-null    int64         \n",
      " 9   Season        143 non-null    object        \n",
      " 10  Month         143 non-null    object        \n",
      " 11  Day_Of_Week   143 non-null    object        \n",
      " 12  Super_Bowl    143 non-null    object        \n",
      " 13  Labor_Day     143 non-null    object        \n",
      " 14  Thanksgiving  143 non-null    object        \n",
      " 15  Christmas     143 non-null    object        \n",
      "dtypes: datetime64[ns](1), float64(6), int64(2), object(7)\n",
      "memory usage: 18.0+ KB\n"
     ]
    }
   ],
   "source": [
    "dept_6_df.info()"
   ]
  },
  {
   "cell_type": "code",
   "execution_count": 59,
   "id": "592e8572",
   "metadata": {},
   "outputs": [],
   "source": [
    "# Start feature engineering\n",
    "df_ml = dept_6_df.copy()\n",
    "\n",
    "# Make sure 'Date' is datetime type\n",
    "df_ml['Date'] = pd.to_datetime(df_ml['Date'])\n",
    "\n",
    "# Extract date-related features from the 'Date' column\n",
    "df_ml['Week'] = df_ml['Date'].dt.isocalendar().week   # Week of the year\n",
    "df_ml['Month'] = df_ml['Date'].dt.month              # Month number (1-12)\n",
    "df_ml['Year'] = df_ml['Date'].dt.year                # Year\n",
    "df_ml['DayOfWeek'] = df_ml['Date'].dt.dayofweek      # Monday=0 ... Sunday=6\n",
    "\n",
    "# Lag features\n",
    "df_ml['Lag_1'] = df_ml['Weekly_Sales'].shift(1)\n",
    "df_ml['Lag_2'] = df_ml['Weekly_Sales'].shift(2)\n",
    "df_ml['Lag_3'] = df_ml['Weekly_Sales'].shift(3)\n",
    "\n",
    "# Rolling mean\n",
    "df_ml['Rolling_Mean_3'] = df_ml['Weekly_Sales'].rolling(window=3).mean()\n",
    "df_ml['Rolling_Mean_5'] = df_ml['Weekly_Sales'].rolling(window=5).mean()\n",
    "\n",
    "# Drop NA rows caused by lagging/rolling\n",
    "df_ml.dropna(inplace=True)"
   ]
  },
  {
   "cell_type": "code",
   "execution_count": 60,
   "id": "1c7bcb7d",
   "metadata": {},
   "outputs": [],
   "source": [
    "# Features and target\n",
    "features = ['IsHoliday', 'Temperature', 'Fuel_Price', 'CPI', 'Unemployment',\n",
    "            'Week', 'Month', 'Year', 'DayOfWeek', 'Lag_1', 'Lag_2', 'Lag_3',\n",
    "            'Rolling_Mean_3', 'Rolling_Mean_5']\n",
    "target = 'Weekly_Sales'\n",
    "\n",
    "# Split\n",
    "X = df_ml[features]\n",
    "y = df_ml[target]\n",
    "\n",
    "X_train, X_test = X.iloc[:-12], X.iloc[-12:]\n",
    "y_train, y_test = y.iloc[:-12], y.iloc[-12:]\n"
   ]
  },
  {
   "cell_type": "code",
   "execution_count": 61,
   "id": "36acc222",
   "metadata": {},
   "outputs": [
    {
     "name": "stdout",
     "output_type": "stream",
     "text": [
      "Random Forest RMSE: 953.48, MAE: 600.77\n"
     ]
    }
   ],
   "source": [
    "rf_model = RandomForestRegressor(n_estimators=100, random_state=42)\n",
    "rf_model.fit(X_train, y_train)\n",
    "rf_pred = rf_model.predict(X_test)\n",
    "\n",
    "rmse_rf = np.sqrt(mean_squared_error(y_test, rf_pred))\n",
    "mae_rf = mean_absolute_error(y_test, rf_pred)\n",
    "\n",
    "print(f\"Random Forest RMSE: {rmse_rf:.2f}, MAE: {mae_rf:.2f}\")\n"
   ]
  },
  {
   "cell_type": "code",
   "execution_count": 62,
   "id": "294ced74",
   "metadata": {},
   "outputs": [
    {
     "name": "stdout",
     "output_type": "stream",
     "text": [
      "XGBoost RMSE: 1039.55, MAE: 685.07\n"
     ]
    }
   ],
   "source": [
    "xgb_model = XGBRegressor(n_estimators=100, learning_rate=0.1, random_state=42)\n",
    "xgb_model.fit(X_train, y_train)\n",
    "xgb_pred = xgb_model.predict(X_test)\n",
    "\n",
    "rmse_xgb = np.sqrt(mean_squared_error(y_test, xgb_pred))\n",
    "mae_xgb = mean_absolute_error(y_test, xgb_pred)\n",
    "\n",
    "print(f\"XGBoost RMSE: {rmse_xgb:.2f}, MAE: {mae_xgb:.2f}\")"
   ]
  },
  {
   "cell_type": "code",
   "execution_count": 63,
   "id": "cd60077d",
   "metadata": {},
   "outputs": [
    {
     "data": {
      "image/png": "[encoded data removed]",
      "text/plain": [
       "<Figure size 864x432 with 1 Axes>"
      ]
     },
     "metadata": {
      "needs_background": "light"
     },
     "output_type": "display_data"
    }
   ],
   "source": [
    "plt.figure(figsize=(12, 6))\n",
    "plt.plot(y_test.index, y_test, label='Actual')\n",
    "plt.plot(y_test.index, rf_pred, label='Random Forest')\n",
    "plt.plot(y_test.index, xgb_pred, label='XGBoost')\n",
    "plt.legend()\n",
    "plt.title('ML Forecasts vs Actual Sales')\n",
    "plt.show()\n"
   ]
  },
  {
   "cell_type": "markdown",
   "id": "61009488",
   "metadata": {},
   "source": [
    " Deep Learning Models for Time Series"
   ]
  },
  {
   "cell_type": "code",
   "execution_count": 64,
   "id": "6c4dbbb6",
   "metadata": {},
   "outputs": [],
   "source": [
    "# Only use necessary columns for simplicity\n",
    "df_dl = dept_6_df[['Weekly_Sales']].copy()\n",
    "\n",
    "# Scale the data\n",
    "scaler = MinMaxScaler()\n",
    "df_dl['Weekly_Sales'] = scaler.fit_transform(df_dl[['Weekly_Sales']])\n",
    "\n",
    "# Create sequences\n",
    "def create_sequences(data, seq_length):\n",
    "    X, y = [], []\n",
    "    for i in range(len(data) - seq_length):\n",
    "        X.append(data[i:i+seq_length])\n",
    "        y.append(data[i+seq_length])\n",
    "    return np.array(X), np.array(y)\n",
    "\n",
    "seq_len = 4  # 4-week input window\n",
    "X, y = create_sequences(df_dl['Weekly_Sales'].values, seq_len)\n",
    "\n",
    "# Train-test split (last 12 weeks for test)\n",
    "X_train, X_test = X[:-12], X[-12:]\n",
    "y_train, y_test = y[:-12], y[-12:]\n"
   ]
  },
  {
   "cell_type": "markdown",
   "id": "0d933eb4",
   "metadata": {},
   "source": [
    "ANN (Simple Feedforward Network)"
   ]
  },
  {
   "cell_type": "code",
   "execution_count": 65,
   "id": "84502f8a",
   "metadata": {},
   "outputs": [
    {
     "name": "stdout",
     "output_type": "stream",
     "text": [
      "1/1 [==============================] - 0s 428ms/step\n"
     ]
    }
   ],
   "source": [
    "ann_model = Sequential([\n",
    "    Flatten(input_shape=(X_train.shape[1], 1)),\n",
    "    Dense(64, activation='relu'),\n",
    "    Dense(1)\n",
    "])\n",
    "\n",
    "ann_model.compile(optimizer='adam', loss='mse')\n",
    "ann_model.fit(X_train, y_train, epochs=100, verbose=0)\n",
    "\n",
    "ann_preds = ann_model.predict(X_test)\n"
   ]
  },
  {
   "cell_type": "markdown",
   "id": "a6c00db7",
   "metadata": {},
   "source": [
    "LSTM"
   ]
  },
  {
   "cell_type": "code",
   "execution_count": 66,
   "id": "3acc9b79",
   "metadata": {},
   "outputs": [
    {
     "name": "stdout",
     "output_type": "stream",
     "text": [
      "1/1 [==============================] - 0s 371ms/step\n"
     ]
    }
   ],
   "source": [
    "# Reshape input\n",
    "X_train_lstm = X_train.reshape((X_train.shape[0], X_train.shape[1], 1))\n",
    "X_test_lstm = X_test.reshape((X_test.shape[0], X_test.shape[1], 1))\n",
    "\n",
    "lstm_model = Sequential([\n",
    "    LSTM(64, activation='relu', input_shape=(seq_len, 1)),\n",
    "    Dense(1)\n",
    "])\n",
    "\n",
    "lstm_model.compile(optimizer='adam', loss='mse')\n",
    "lstm_model.fit(X_train_lstm, y_train, epochs=100, verbose=0)\n",
    "\n",
    "lstm_preds = lstm_model.predict(X_test_lstm)"
   ]
  },
  {
   "cell_type": "markdown",
   "id": "6f345931",
   "metadata": {},
   "source": [
    "GRU"
   ]
  },
  {
   "cell_type": "code",
   "execution_count": 67,
   "id": "7012a59b",
   "metadata": {},
   "outputs": [
    {
     "name": "stdout",
     "output_type": "stream",
     "text": [
      "1/1 [==============================] - 1s 773ms/step\n"
     ]
    }
   ],
   "source": [
    "gru_model = Sequential([\n",
    "    GRU(64, activation='relu', input_shape=(seq_len, 1)),\n",
    "    Dense(1)\n",
    "])\n",
    "\n",
    "gru_model.compile(optimizer='adam', loss='mse')\n",
    "gru_model.fit(X_train_lstm, y_train, epochs=100, verbose=0)\n",
    "\n",
    "gru_preds = gru_model.predict(X_test_lstm)"
   ]
  },
  {
   "cell_type": "markdown",
   "id": "d3823987",
   "metadata": {},
   "source": [
    "Invert Scaling and Evaluate"
   ]
  },
  {
   "cell_type": "code",
   "execution_count": 68,
   "id": "055435ad",
   "metadata": {},
   "outputs": [
    {
     "name": "stdout",
     "output_type": "stream",
     "text": [
      "ANN RMSE: 1320.05, MAE: 863.67\n",
      "LSTM RMSE: 1222.24, MAE: 721.50\n",
      "GRU RMSE: 1383.27, MAE: 907.64\n"
     ]
    }
   ],
   "source": [
    "# Invert scaling\n",
    "ann_preds = scaler.inverse_transform(ann_preds)\n",
    "lstm_preds = scaler.inverse_transform(lstm_preds)\n",
    "gru_preds = scaler.inverse_transform(gru_preds)\n",
    "y_true = scaler.inverse_transform(y_test.reshape(-1, 1))\n",
    "\n",
    "# Metrics\n",
    "from sklearn.metrics import mean_squared_error, mean_absolute_error\n",
    "\n",
    "def evaluate_model(name, preds):\n",
    "    rmse = np.sqrt(mean_squared_error(y_true, preds))\n",
    "    mae = mean_absolute_error(y_true, preds)\n",
    "    print(f\"{name} RMSE: {rmse:.2f}, MAE: {mae:.2f}\")\n",
    "\n",
    "evaluate_model(\"ANN\", ann_preds)\n",
    "evaluate_model(\"LSTM\", lstm_preds)\n",
    "evaluate_model(\"GRU\", gru_preds)\n"
   ]
  },
  {
   "cell_type": "code",
   "execution_count": 69,
   "id": "f546c919",
   "metadata": {},
   "outputs": [
    {
     "data": {
      "image/png": "[encoded data removed]",
      "text/plain": [
       "<Figure size 864x432 with 1 Axes>"
      ]
     },
     "metadata": {
      "needs_background": "light"
     },
     "output_type": "display_data"
    }
   ],
   "source": [
    "plt.figure(figsize=(12,6))\n",
    "plt.plot(y_true, label='Actual')\n",
    "plt.plot(ann_preds, label='ANN')\n",
    "plt.plot(lstm_preds, label='LSTM')\n",
    "plt.plot(gru_preds, label='GRU')\n",
    "plt.title('Deep Learning Forecasts vs Actual Sales')\n",
    "plt.legend()\n",
    "plt.show()"
   ]
  },
  {
   "cell_type": "markdown",
   "id": "ccb25139",
   "metadata": {},
   "source": [
    "Prophet"
   ]
  },
  {
   "cell_type": "code",
   "execution_count": 70,
   "id": "69377ae8",
   "metadata": {},
   "outputs": [],
   "source": [
    "# Reset index to bring 'Date' back as a column\n",
    "df_prophet = dept_6_df.reset_index()[['Date', 'Weekly_Sales']]\n",
    "df_prophet.columns = ['ds', 'y']"
   ]
  },
  {
   "cell_type": "code",
   "execution_count": 71,
   "id": "852b3a12",
   "metadata": {},
   "outputs": [],
   "source": [
    "# Add regressors\n",
    "df_prophet['IsHoliday'] = dept_6_df['IsHoliday'].values\n",
    "df_prophet['Temperature'] = dept_6_df['Temperature'].values\n"
   ]
  },
  {
   "cell_type": "code",
   "execution_count": 72,
   "id": "11fe9823",
   "metadata": {},
   "outputs": [
    {
     "name": "stderr",
     "output_type": "stream",
     "text": [
      "02:40:56 - cmdstanpy - INFO - Chain [1] start processing\n",
      "02:40:56 - cmdstanpy - INFO - Chain [1] done processing\n"
     ]
    },
    {
     "data": {
      "text/plain": [
       "<prophet.forecaster.Prophet at 0x260274c5d30>"
      ]
     },
     "execution_count": 72,
     "metadata": {},
     "output_type": "execute_result"
    }
   ],
   "source": [
    "model = Prophet()\n",
    "\n",
    "# Optional: Add regressors\n",
    "model.add_regressor('IsHoliday')\n",
    "model.add_regressor('Temperature')\n",
    "\n",
    "model.fit(df_prophet)\n"
   ]
  },
  {
   "cell_type": "code",
   "execution_count": 73,
   "id": "cfc2ee5c",
   "metadata": {},
   "outputs": [],
   "source": [
    "# Create future dates\n",
    "# Re-create the full regressor columns: historical + future\n",
    "future = model.make_future_dataframe(periods=12, freq='W')\n",
    "\n",
    "# Add regressors for the full period (training + future)\n",
    "future['IsHoliday'] = df_prophet['IsHoliday'].tolist() + [0]*12  # assume 0 for future weeks\n",
    "future['Temperature'] = df_prophet['Temperature'].tolist() + [df_prophet['Temperature'].mean()]*12  # fill with avg\n",
    "\n",
    "\n",
    "# Forecast\n",
    "forecast = model.predict(future)\n"
   ]
  },
  {
   "cell_type": "code",
   "execution_count": 74,
   "id": "5535a446",
   "metadata": {},
   "outputs": [
    {
     "data": {
      "application/vnd.plotly.v1+json": {
       "config": {
        "plotlyServerURL": "https://plot.ly"
       },
       "data": [
        {
         "line": {
          "color": "#0072B2",
          "width": 2
         },
         "mode": "lines",
         "name": "trend",
         "type": "scatter",
         "x": [
          "2010-02-05T00:00:00",
          "2010-02-12T00:00:00",
          "2010-02-19T00:00:00",
          "2010-02-26T00:00:00",
          "2010-03-05T00:00:00",
          "2010-03-12T00:00:00",
          "2010-03-19T00:00:00",
          "2010-03-26T00:00:00",
          "2010-04-02T00:00:00",
          "2010-04-09T00:00:00",
          "2010-04-16T00:00:00",
          "2010-04-23T00:00:00",
          "2010-04-30T00:00:00",
          "2010-05-07T00:00:00",
          "2010-05-14T00:00:00",
          "2010-05-21T00:00:00",
          "2010-05-28T00:00:00",
          "2010-06-04T00:00:00",
          "2010-06-11T00:00:00",
          "2010-06-18T00:00:00",
          "2010-06-25T00:00:00",
          "2010-07-02T00:00:00",
          "2010-07-09T00:00:00",
          "2010-07-16T00:00:00",
          "2010-07-23T00:00:00",
          "2010-07-30T00:00:00",
          "2010-08-06T00:00:00",
          "2010-08-13T00:00:00",
          "2010-08-20T00:00:00",
          "2010-08-27T00:00:00",
          "2010-09-03T00:00:00",
          "2010-09-10T00:00:00",
          "2010-09-17T00:00:00",
          "2010-09-24T00:00:00",
          "2010-10-01T00:00:00",
          "2010-10-08T00:00:00",
          "2010-10-15T00:00:00",
          "2010-10-22T00:00:00",
          "2010-10-29T00:00:00",
          "2010-11-05T00:00:00",
          "2010-11-12T00:00:00",
          "2010-11-19T00:00:00",
          "2010-11-26T00:00:00",
          "2010-12-03T00:00:00",
          "2010-12-10T00:00:00",
          "2010-12-17T00:00:00",
          "2010-12-24T00:00:00",
          "2010-12-31T00:00:00",
          "2011-01-07T00:00:00",
          "2011-01-14T00:00:00",
          "2011-01-21T00:00:00",
          "2011-01-28T00:00:00",
          "2011-02-04T00:00:00",
          "2011-02-11T00:00:00",
          "2011-02-18T00:00:00",
          "2011-02-25T00:00:00",
          "2011-03-04T00:00:00",
          "2011-03-11T00:00:00",
          "2011-03-18T00:00:00",
          "2011-03-25T00:00:00",
          "2011-04-01T00:00:00",
          "2011-04-08T00:00:00",
          "2011-04-15T00:00:00",
          "2011-04-22T00:00:00",
          "2011-04-29T00:00:00",
          "2011-05-06T00:00:00",
          "2011-05-13T00:00:00",
          "2011-05-20T00:00:00",
          "2011-05-27T00:00:00",
          "2011-06-03T00:00:00",
          "2011-06-10T00:00:00",
          "2011-06-17T00:00:00",
          "2011-06-24T00:00:00",
          "2011-07-01T00:00:00",
          "2011-07-08T00:00:00",
          "2011-07-15T00:00:00",
          "2011-07-22T00:00:00",
          "2011-07-29T00:00:00",
          "2011-08-05T00:00:00",
          "2011-08-12T00:00:00",
          "2011-08-19T00:00:00",
          "2011-08-26T00:00:00",
          "2011-09-02T00:00:00",
          "2011-09-09T00:00:00",
          "2011-09-16T00:00:00",
          "2011-09-23T00:00:00",
          "2011-09-30T00:00:00",
          "2011-10-07T00:00:00",
          "2011-10-14T00:00:00",
          "2011-10-21T00:00:00",
          "2011-10-28T00:00:00",
          "2011-11-04T00:00:00",
          "2011-11-11T00:00:00",
          "2011-11-18T00:00:00",
          "2011-11-25T00:00:00",
          "2011-12-02T00:00:00",
          "2011-12-09T00:00:00",
          "2011-12-16T00:00:00",
          "2011-12-23T00:00:00",
          "2011-12-30T00:00:00",
          "2012-01-06T00:00:00",
          "2012-01-13T00:00:00",
          "2012-01-20T00:00:00",
          "2012-01-27T00:00:00",
          "2012-02-03T00:00:00",
          "2012-02-10T00:00:00",
          "2012-02-17T00:00:00",
          "2012-02-24T00:00:00",
          "2012-03-02T00:00:00",
          "2012-03-09T00:00:00",
          "2012-03-16T00:00:00",
          "2012-03-23T00:00:00",
          "2012-03-30T00:00:00",
          "2012-04-06T00:00:00",
          "2012-04-13T00:00:00",
          "2012-04-20T00:00:00",
          "2012-04-27T00:00:00",
          "2012-05-04T00:00:00",
          "2012-05-11T00:00:00",
          "2012-05-18T00:00:00",
          "2012-05-25T00:00:00",
          "2012-06-01T00:00:00",
          "2012-06-08T00:00:00",
          "2012-06-15T00:00:00",
          "2012-06-22T00:00:00",
          "2012-06-29T00:00:00",
          "2012-07-06T00:00:00",
          "2012-07-13T00:00:00",
          "2012-07-20T00:00:00",
          "2012-07-27T00:00:00",
          "2012-08-03T00:00:00",
          "2012-08-10T00:00:00",
          "2012-08-17T00:00:00",
          "2012-08-24T00:00:00",
          "2012-08-31T00:00:00",
          "2012-09-07T00:00:00",
          "2012-09-14T00:00:00",
          "2012-09-21T00:00:00",
          "2012-09-28T00:00:00",
          "2012-10-05T00:00:00",
          "2012-10-12T00:00:00",
          "2012-10-19T00:00:00",
          "2012-10-26T00:00:00",
          "2012-10-28T00:00:00",
          "2012-11-04T00:00:00",
          "2012-11-11T00:00:00",
          "2012-11-18T00:00:00",
          "2012-11-25T00:00:00",
          "2012-12-02T00:00:00",
          "2012-12-09T00:00:00",
          "2012-12-16T00:00:00",
          "2012-12-23T00:00:00",
          "2012-12-30T00:00:00",
          "2013-01-06T00:00:00",
          "2013-01-13T00:00:00"
         ],
         "xaxis": "x",
         "y": [
          5783.7141716,
          5771.35383387955,
          5758.993496159099,
          5746.633158438648,
          5734.272820718197,
          5721.912482997746,
          5709.552144755326,
          5697.191806512904,
          5684.831468270483,
          5672.471130028062,
          5660.110793441582,
          5647.750456855102,
          5635.390120268622,
          5623.029783682142,
          5610.669447095663,
          5598.309111446634,
          5585.948775797606,
          5573.588440148577,
          5561.228104499549,
          5548.867769426424,
          5536.507434353298,
          5524.147099280173,
          5511.786764207048,
          5499.426429133921,
          5487.066095039667,
          5474.7057609454105,
          5462.345426851155,
          5449.985092756899,
          5437.624759843562,
          5425.264426930226,
          5412.90409401689,
          5400.543761103553,
          5388.183428190216,
          5375.82309587885,
          5363.462763567483,
          5351.102431256117,
          5338.74209894475,
          5326.38176726288,
          5314.021435581009,
          5301.66110389914,
          5289.30077221727,
          5276.940440535399,
          5264.5802577819695,
          5252.22007502854,
          5239.859892275111,
          5227.49970952168,
          5215.140070079491,
          5202.780430637301,
          5190.420791195111,
          5178.0611517529205,
          5165.70151231073,
          5153.341999576542,
          5140.982486842353,
          5128.622974108165,
          5116.2634613739765,
          5103.904302544869,
          5091.545143715762,
          5079.185984886655,
          5066.826826057548,
          5054.46766722844,
          5042.108521056246,
          5029.7493748840525,
          5017.390228711858,
          5005.031082539664,
          4992.728357844707,
          4980.425633149751,
          4968.122908454795,
          4955.820183759839,
          4943.517459064883,
          4931.214735563577,
          4918.912012062271,
          4906.609288560966,
          4894.306565059661,
          4882.003855791943,
          4869.701146524226,
          4857.398437256509,
          4845.095727988792,
          4832.793018721075,
          4820.490310786646,
          4808.187602852217,
          4795.884894917788,
          4783.58218698336,
          4771.279493152234,
          4758.976799321107,
          4746.67410548998,
          4734.371411658854,
          4722.068717827728,
          4710.533751199136,
          4698.9987845705455,
          4687.4638179419535,
          4675.928851313362,
          4664.393885809612,
          4652.858920305862,
          4641.323954802112,
          4629.788989298362,
          4618.254023794612,
          4606.719060313605,
          4595.184096832596,
          4583.649133351589,
          4572.11416987058,
          4560.579207016901,
          4549.044244163221,
          4537.509281309542,
          4525.974318455863,
          4514.439355602183,
          4502.9043930642565,
          4491.36943052633,
          4479.834467988403,
          4468.299505450476,
          4456.764543415679,
          4445.229581380882,
          4433.694619346085,
          4422.159657311288,
          4410.6246952764905,
          4399.089732806685,
          4387.554770336879,
          4376.019807867074,
          4364.484845397268,
          4352.949882927463,
          4341.414920457657,
          4329.879957987851,
          4318.344995518046,
          4306.810033048239,
          4295.275070578435,
          4283.740108108628,
          4272.205145638823,
          4260.670183169017,
          4249.1352206992115,
          4237.600258229406,
          4226.0652957596,
          4214.530333289795,
          4202.995370819989,
          4191.460408350184,
          4179.925445880377,
          4168.390483410572,
          4156.855520940766,
          4145.32055847096,
          4133.785596001155,
          4122.250633531349,
          4110.715671061544,
          4099.180708591738,
          4087.645746121932,
          4076.110783652126,
          4072.815080089325,
          4061.2801176195185,
          4049.745155149713,
          4038.2101926799073,
          4026.6752302101017,
          4015.140267740296,
          4003.60530527049,
          3992.070342800685,
          3980.5353803308785,
          3969.000417861073,
          3957.4654553912674,
          3945.930492921462
         ],
         "yaxis": "y"
        },
        {
         "line": {
          "color": "rgba(0, 114, 178, 0.2)",
          "width": 0
         },
         "mode": "lines",
         "name": "trend_upper",
         "type": "scatter",
         "x": [
          "2010-02-05T00:00:00",
          "2010-02-12T00:00:00",
          "2010-02-19T00:00:00",
          "2010-02-26T00:00:00",
          "2010-03-05T00:00:00",
          "2010-03-12T00:00:00",
          "2010-03-19T00:00:00",
          "2010-03-26T00:00:00",
          "2010-04-02T00:00:00",
          "2010-04-09T00:00:00",
          "2010-04-16T00:00:00",
          "2010-04-23T00:00:00",
          "2010-04-30T00:00:00",
          "2010-05-07T00:00:00",
          "2010-05-14T00:00:00",
          "2010-05-21T00:00:00",
          "2010-05-28T00:00:00",
          "2010-06-04T00:00:00",
          "2010-06-11T00:00:00",
          "2010-06-18T00:00:00",
          "2010-06-25T00:00:00",
          "2010-07-02T00:00:00",
          "2010-07-09T00:00:00",
          "2010-07-16T00:00:00",
          "2010-07-23T00:00:00",
          "2010-07-30T00:00:00",
          "2010-08-06T00:00:00",
          "2010-08-13T00:00:00",
          "2010-08-20T00:00:00",
          "2010-08-27T00:00:00",
          "2010-09-03T00:00:00",
          "2010-09-10T00:00:00",
          "2010-09-17T00:00:00",
          "2010-09-24T00:00:00",
          "2010-10-01T00:00:00",
          "2010-10-08T00:00:00",
          "2010-10-15T00:00:00",
          "2010-10-22T00:00:00",
          "2010-10-29T00:00:00",
          "2010-11-05T00:00:00",
          "2010-11-12T00:00:00",
          "2010-11-19T00:00:00",
          "2010-11-26T00:00:00",
          "2010-12-03T00:00:00",
          "2010-12-10T00:00:00",
          "2010-12-17T00:00:00",
          "2010-12-24T00:00:00",
          "2010-12-31T00:00:00",
          "2011-01-07T00:00:00",
          "2011-01-14T00:00:00",
          "2011-01-21T00:00:00",
          "2011-01-28T00:00:00",
          "2011-02-04T00:00:00",
          "2011-02-11T00:00:00",
          "2011-02-18T00:00:00",
          "2011-02-25T00:00:00",
          "2011-03-04T00:00:00",
          "2011-03-11T00:00:00",
          "2011-03-18T00:00:00",
          "2011-03-25T00:00:00",
          "2011-04-01T00:00:00",
          "2011-04-08T00:00:00",
          "2011-04-15T00:00:00",
          "2011-04-22T00:00:00",
          "2011-04-29T00:00:00",
          "2011-05-06T00:00:00",
          "2011-05-13T00:00:00",
          "2011-05-20T00:00:00",
          "2011-05-27T00:00:00",
          "2011-06-03T00:00:00",
          "2011-06-10T00:00:00",
          "2011-06-17T00:00:00",
          "2011-06-24T00:00:00",
          "2011-07-01T00:00:00",
          "2011-07-08T00:00:00",
          "2011-07-15T00:00:00",
          "2011-07-22T00:00:00",
          "2011-07-29T00:00:00",
          "2011-08-05T00:00:00",
          "2011-08-12T00:00:00",
          "2011-08-19T00:00:00",
          "2011-08-26T00:00:00",
          "2011-09-02T00:00:00",
          "2011-09-09T00:00:00",
          "2011-09-16T00:00:00",
          "2011-09-23T00:00:00",
          "2011-09-30T00:00:00",
          "2011-10-07T00:00:00",
          "2011-10-14T00:00:00",
          "2011-10-21T00:00:00",
          "2011-10-28T00:00:00",
          "2011-11-04T00:00:00",
          "2011-11-11T00:00:00",
          "2011-11-18T00:00:00",
          "2011-11-25T00:00:00",
          "2011-12-02T00:00:00",
          "2011-12-09T00:00:00",
          "2011-12-16T00:00:00",
          "2011-12-23T00:00:00",
          "2011-12-30T00:00:00",
          "2012-01-06T00:00:00",
          "2012-01-13T00:00:00",
          "2012-01-20T00:00:00",
          "2012-01-27T00:00:00",
          "2012-02-03T00:00:00",
          "2012-02-10T00:00:00",
          "2012-02-17T00:00:00",
          "2012-02-24T00:00:00",
          "2012-03-02T00:00:00",
          "2012-03-09T00:00:00",
          "2012-03-16T00:00:00",
          "2012-03-23T00:00:00",
          "2012-03-30T00:00:00",
          "2012-04-06T00:00:00",
          "2012-04-13T00:00:00",
          "2012-04-20T00:00:00",
          "2012-04-27T00:00:00",
          "2012-05-04T00:00:00",
          "2012-05-11T00:00:00",
          "2012-05-18T00:00:00",
          "2012-05-25T00:00:00",
          "2012-06-01T00:00:00",
          "2012-06-08T00:00:00",
          "2012-06-15T00:00:00",
          "2012-06-22T00:00:00",
          "2012-06-29T00:00:00",
          "2012-07-06T00:00:00",
          "2012-07-13T00:00:00",
          "2012-07-20T00:00:00",
          "2012-07-27T00:00:00",
          "2012-08-03T00:00:00",
          "2012-08-10T00:00:00",
          "2012-08-17T00:00:00",
          "2012-08-24T00:00:00",
          "2012-08-31T00:00:00",
          "2012-09-07T00:00:00",
          "2012-09-14T00:00:00",
          "2012-09-21T00:00:00",
          "2012-09-28T00:00:00",
          "2012-10-05T00:00:00",
          "2012-10-12T00:00:00",
          "2012-10-19T00:00:00",
          "2012-10-26T00:00:00",
          "2012-10-28T00:00:00",
          "2012-11-04T00:00:00",
          "2012-11-11T00:00:00",
          "2012-11-18T00:00:00",
          "2012-11-25T00:00:00",
          "2012-12-02T00:00:00",
          "2012-12-09T00:00:00",
          "2012-12-16T00:00:00",
          "2012-12-23T00:00:00",
          "2012-12-30T00:00:00",
          "2013-01-06T00:00:00",
          "2013-01-13T00:00:00"
         ],
         "xaxis": "x",
         "y": [
          5783.7141716,
          5771.35383387955,
          5758.993496159099,
          5746.633158438648,
          5734.272820718197,
          5721.912482997746,
          5709.552144755326,
          5697.191806512904,
          5684.831468270483,
          5672.471130028062,
          5660.110793441582,
          5647.750456855102,
          5635.390120268622,
          5623.029783682142,
          5610.669447095663,
          5598.309111446634,
          5585.948775797606,
          5573.588440148577,
          5561.228104499549,
          5548.867769426424,
          5536.507434353298,
          5524.147099280173,
          5511.786764207048,
          5499.426429133921,
          5487.066095039667,
          5474.7057609454105,
          5462.345426851155,
          5449.985092756899,
          5437.624759843562,
          5425.264426930226,
          5412.90409401689,
          5400.543761103553,
          5388.183428190216,
          5375.82309587885,
          5363.462763567483,
          5351.102431256117,
          5338.74209894475,
          5326.38176726288,
          5314.021435581009,
          5301.66110389914,
          5289.30077221727,
          5276.940440535399,
          5264.5802577819695,
          5252.22007502854,
          5239.859892275111,
          5227.49970952168,
          5215.140070079491,
          5202.780430637301,
          5190.420791195111,
          5178.0611517529205,
          5165.70151231073,
          5153.341999576542,
          5140.982486842353,
          5128.622974108165,
          5116.2634613739765,
          5103.904302544869,
          5091.545143715762,
          5079.185984886655,
          5066.826826057548,
          5054.46766722844,
          5042.108521056246,
          5029.7493748840525,
          5017.390228711858,
          5005.031082539664,
          4992.728357844707,
          4980.425633149751,
          4968.122908454795,
          4955.820183759839,
          4943.517459064883,
          4931.214735563577,
          4918.912012062271,
          4906.609288560966,
          4894.306565059661,
          4882.003855791943,
          4869.701146524226,
          4857.398437256509,
          4845.095727988792,
          4832.793018721075,
          4820.490310786646,
          4808.187602852217,
          4795.884894917788,
          4783.58218698336,
          4771.279493152234,
          4758.976799321107,
          4746.67410548998,
          4734.371411658854,
          4722.068717827728,
          4710.533751199136,
          4698.9987845705455,
          4687.4638179419535,
          4675.928851313362,
          4664.393885809612,
          4652.858920305862,
          4641.323954802112,
          4629.788989298362,
          4618.254023794612,
          4606.719060313605,
          4595.184096832596,
          4583.649133351589,
          4572.11416987058,
          4560.579207016901,
          4549.044244163221,
          4537.509281309542,
          4525.974318455863,
          4514.439355602183,
          4502.9043930642565,
          4491.36943052633,
          4479.834467988403,
          4468.299505450476,
          4456.764543415679,
          4445.229581380882,
          4433.694619346085,
          4422.159657311288,
          4410.6246952764905,
          4399.089732806685,
          4387.554770336879,
          4376.019807867074,
          4364.484845397268,
          4352.949882927463,
          4341.414920457657,
          4329.879957987851,
          4318.344995518046,
          4306.810033048239,
          4295.275070578435,
          4283.740108108628,
          4272.205145638823,
          4260.670183169017,
          4249.1352206992115,
          4237.600258229406,
          4226.0652957596,
          4214.530333289795,
          4202.995370819989,
          4191.460408350184,
          4179.925445880377,
          4168.390483410572,
          4156.855520940766,
          4145.32055847096,
          4133.785596001155,
          4122.250633531349,
          4110.715671061544,
          4099.180708591738,
          4087.645746121932,
          4076.110783652126,
          4072.815080089325,
          4061.290326074775,
          4049.7756425213943,
          4038.270240930121,
          4026.7740603839557,
          4015.2883771379543,
          4003.8059366765074,
          3992.3194864361026,
          3980.828933764424,
          3969.345427689315,
          3957.8651361467178,
          3946.390316262424
         ],
         "yaxis": "y"
        },
        {
         "fill": "tonexty",
         "fillcolor": "rgba(0, 114, 178, 0.2)",
         "line": {
          "color": "rgba(0, 114, 178, 0.2)",
          "width": 0
         },
         "mode": "lines",
         "name": "trend_lower",
         "type": "scatter",
         "x": [
          "2010-02-05T00:00:00",
          "2010-02-12T00:00:00",
          "2010-02-19T00:00:00",
          "2010-02-26T00:00:00",
          "2010-03-05T00:00:00",
          "2010-03-12T00:00:00",
          "2010-03-19T00:00:00",
          "2010-03-26T00:00:00",
          "2010-04-02T00:00:00",
          "2010-04-09T00:00:00",
          "2010-04-16T00:00:00",
          "2010-04-23T00:00:00",
          "2010-04-30T00:00:00",
          "2010-05-07T00:00:00",
          "2010-05-14T00:00:00",
          "2010-05-21T00:00:00",
          "2010-05-28T00:00:00",
          "2010-06-04T00:00:00",
          "2010-06-11T00:00:00",
          "2010-06-18T00:00:00",
          "2010-06-25T00:00:00",
          "2010-07-02T00:00:00",
          "2010-07-09T00:00:00",
          "2010-07-16T00:00:00",
          "2010-07-23T00:00:00",
          "2010-07-30T00:00:00",
          "2010-08-06T00:00:00",
          "2010-08-13T00:00:00",
          "2010-08-20T00:00:00",
          "2010-08-27T00:00:00",
          "2010-09-03T00:00:00",
          "2010-09-10T00:00:00",
          "2010-09-17T00:00:00",
          "2010-09-24T00:00:00",
          "2010-10-01T00:00:00",
          "2010-10-08T00:00:00",
          "2010-10-15T00:00:00",
          "2010-10-22T00:00:00",
          "2010-10-29T00:00:00",
          "2010-11-05T00:00:00",
          "2010-11-12T00:00:00",
          "2010-11-19T00:00:00",
          "2010-11-26T00:00:00",
          "2010-12-03T00:00:00",
          "2010-12-10T00:00:00",
          "2010-12-17T00:00:00",
          "2010-12-24T00:00:00",
          "2010-12-31T00:00:00",
          "2011-01-07T00:00:00",
          "2011-01-14T00:00:00",
          "2011-01-21T00:00:00",
          "2011-01-28T00:00:00",
          "2011-02-04T00:00:00",
          "2011-02-11T00:00:00",
          "2011-02-18T00:00:00",
          "2011-02-25T00:00:00",
          "2011-03-04T00:00:00",
          "2011-03-11T00:00:00",
          "2011-03-18T00:00:00",
          "2011-03-25T00:00:00",
          "2011-04-01T00:00:00",
          "2011-04-08T00:00:00",
          "2011-04-15T00:00:00",
          "2011-04-22T00:00:00",
          "2011-04-29T00:00:00",
          "2011-05-06T00:00:00",
          "2011-05-13T00:00:00",
          "2011-05-20T00:00:00",
          "2011-05-27T00:00:00",
          "2011-06-03T00:00:00",
          "2011-06-10T00:00:00",
          "2011-06-17T00:00:00",
          "2011-06-24T00:00:00",
          "2011-07-01T00:00:00",
          "2011-07-08T00:00:00",
          "2011-07-15T00:00:00",
          "2011-07-22T00:00:00",
          "2011-07-29T00:00:00",
          "2011-08-05T00:00:00",
          "2011-08-12T00:00:00",
          "2011-08-19T00:00:00",
          "2011-08-26T00:00:00",
          "2011-09-02T00:00:00",
          "2011-09-09T00:00:00",
          "2011-09-16T00:00:00",
          "2011-09-23T00:00:00",
          "2011-09-30T00:00:00",
          "2011-10-07T00:00:00",
          "2011-10-14T00:00:00",
          "2011-10-21T00:00:00",
          "2011-10-28T00:00:00",
          "2011-11-04T00:00:00",
          "2011-11-11T00:00:00",
          "2011-11-18T00:00:00",
          "2011-11-25T00:00:00",
          "2011-12-02T00:00:00",
          "2011-12-09T00:00:00",
          "2011-12-16T00:00:00",
          "2011-12-23T00:00:00",
          "2011-12-30T00:00:00",
          "2012-01-06T00:00:00",
          "2012-01-13T00:00:00",
          "2012-01-20T00:00:00",
          "2012-01-27T00:00:00",
          "2012-02-03T00:00:00",
          "2012-02-10T00:00:00",
          "2012-02-17T00:00:00",
          "2012-02-24T00:00:00",
          "2012-03-02T00:00:00",
          "2012-03-09T00:00:00",
          "2012-03-16T00:00:00",
          "2012-03-23T00:00:00",
          "2012-03-30T00:00:00",
          "2012-04-06T00:00:00",
          "2012-04-13T00:00:00",
          "2012-04-20T00:00:00",
          "2012-04-27T00:00:00",
          "2012-05-04T00:00:00",
          "2012-05-11T00:00:00",
          "2012-05-18T00:00:00",
          "2012-05-25T00:00:00",
          "2012-06-01T00:00:00",
          "2012-06-08T00:00:00",
          "2012-06-15T00:00:00",
          "2012-06-22T00:00:00",
          "2012-06-29T00:00:00",
          "2012-07-06T00:00:00",
          "2012-07-13T00:00:00",
          "2012-07-20T00:00:00",
          "2012-07-27T00:00:00",
          "2012-08-03T00:00:00",
          "2012-08-10T00:00:00",
          "2012-08-17T00:00:00",
          "2012-08-24T00:00:00",
          "2012-08-31T00:00:00",
          "2012-09-07T00:00:00",
          "2012-09-14T00:00:00",
          "2012-09-21T00:00:00",
          "2012-09-28T00:00:00",
          "2012-10-05T00:00:00",
          "2012-10-12T00:00:00",
          "2012-10-19T00:00:00",
          "2012-10-26T00:00:00",
          "2012-10-28T00:00:00",
          "2012-11-04T00:00:00",
          "2012-11-11T00:00:00",
          "2012-11-18T00:00:00",
          "2012-11-25T00:00:00",
          "2012-12-02T00:00:00",
          "2012-12-09T00:00:00",
          "2012-12-16T00:00:00",
          "2012-12-23T00:00:00",
          "2012-12-30T00:00:00",
          "2013-01-06T00:00:00",
          "2013-01-13T00:00:00"
         ],
         "xaxis": "x",
         "y": [
          5783.7141716,
          5771.35383387955,
          5758.993496159099,
          5746.633158438648,
          5734.272820718197,
          5721.912482997746,
          5709.552144755326,
          5697.191806512904,
          5684.831468270483,
          5672.471130028062,
          5660.110793441582,
          5647.750456855102,
          5635.390120268622,
          5623.029783682142,
          5610.669447095663,
          5598.309111446634,
          5585.948775797606,
          5573.588440148577,
          5561.228104499549,
          5548.867769426424,
          5536.507434353298,
          5524.147099280173,
          5511.786764207048,
          5499.426429133921,
          5487.066095039667,
          5474.7057609454105,
          5462.345426851155,
          5449.985092756899,
          5437.624759843562,
          5425.264426930226,
          5412.90409401689,
          5400.543761103553,
          5388.183428190216,
          5375.82309587885,
          5363.462763567483,
          5351.102431256117,
          5338.74209894475,
          5326.38176726288,
          5314.021435581009,
          5301.66110389914,
          5289.30077221727,
          5276.940440535399,
          5264.5802577819695,
          5252.22007502854,
          5239.859892275111,
          5227.49970952168,
          5215.140070079491,
          5202.780430637301,
          5190.420791195111,
          5178.0611517529205,
          5165.70151231073,
          5153.341999576542,
          5140.982486842353,
          5128.622974108165,
          5116.2634613739765,
          5103.904302544869,
          5091.545143715762,
          5079.185984886655,
          5066.826826057548,
          5054.46766722844,
          5042.108521056246,
          5029.7493748840525,
          5017.390228711858,
          5005.031082539664,
          4992.728357844707,
          4980.425633149751,
          4968.122908454795,
          4955.820183759839,
          4943.517459064883,
          4931.214735563577,
          4918.912012062271,
          4906.609288560966,
          4894.306565059661,
          4882.003855791943,
          4869.701146524226,
          4857.398437256509,
          4845.095727988792,
          4832.793018721075,
          4820.490310786646,
          4808.187602852217,
          4795.884894917788,
          4783.58218698336,
          4771.279493152234,
          4758.976799321107,
          4746.67410548998,
          4734.371411658854,
          4722.068717827728,
          4710.533751199136,
          4698.9987845705455,
          4687.4638179419535,
          4675.928851313362,
          4664.393885809612,
          4652.858920305862,
          4641.323954802112,
          4629.788989298362,
          4618.254023794612,
          4606.719060313605,
          4595.184096832596,
          4583.649133351589,
          4572.11416987058,
          4560.579207016901,
          4549.044244163221,
          4537.509281309542,
          4525.974318455863,
          4514.439355602183,
          4502.9043930642565,
          4491.36943052633,
          4479.834467988403,
          4468.299505450476,
          4456.764543415679,
          4445.229581380882,
          4433.694619346085,
          4422.159657311288,
          4410.6246952764905,
          4399.089732806685,
          4387.554770336879,
          4376.019807867074,
          4364.484845397268,
          4352.949882927463,
          4341.414920457657,
          4329.879957987851,
          4318.344995518046,
          4306.810033048239,
          4295.275070578435,
          4283.740108108628,
          4272.205145638823,
          4260.670183169017,
          4249.1352206992115,
          4237.600258229406,
          4226.0652957596,
          4214.530333289795,
          4202.995370819989,
          4191.460408350184,
          4179.925445880377,
          4168.390483410572,
          4156.855520940766,
          4145.32055847096,
          4133.785596001155,
          4122.250633531349,
          4110.715671061544,
          4099.180708591738,
          4087.645746121932,
          4076.110783652126,
          4072.8150418010523,
          4061.261131193598,
          4049.699181450822,
          4038.1207083826703,
          4026.5384709027126,
          4014.960380006946,
          4003.374697307965,
          3991.7862616312664,
          3980.188674099313,
          3968.5866395396724,
          3956.994036442712,
          3945.3749724848753
         ],
         "yaxis": "y"
        },
        {
         "line": {
          "color": "#0072B2",
          "width": 2
         },
         "mode": "lines",
         "name": "extra_regressors_additive",
         "type": "scatter",
         "x": [
          "2010-02-05T00:00:00",
          "2010-02-12T00:00:00",
          "2010-02-19T00:00:00",
          "2010-02-26T00:00:00",
          "2010-03-05T00:00:00",
          "2010-03-12T00:00:00",
          "2010-03-19T00:00:00",
          "2010-03-26T00:00:00",
          "2010-04-02T00:00:00",
          "2010-04-09T00:00:00",
          "2010-04-16T00:00:00",
          "2010-04-23T00:00:00",
          "2010-04-30T00:00:00",
          "2010-05-07T00:00:00",
          "2010-05-14T00:00:00",
          "2010-05-21T00:00:00",
          "2010-05-28T00:00:00",
          "2010-06-04T00:00:00",
          "2010-06-11T00:00:00",
          "2010-06-18T00:00:00",
          "2010-06-25T00:00:00",
          "2010-07-02T00:00:00",
          "2010-07-09T00:00:00",
          "2010-07-16T00:00:00",
          "2010-07-23T00:00:00",
          "2010-07-30T00:00:00",
          "2010-08-06T00:00:00",
          "2010-08-13T00:00:00",
          "2010-08-20T00:00:00",
          "2010-08-27T00:00:00",
          "2010-09-03T00:00:00",
          "2010-09-10T00:00:00",
          "2010-09-17T00:00:00",
          "2010-09-24T00:00:00",
          "2010-10-01T00:00:00",
          "2010-10-08T00:00:00",
          "2010-10-15T00:00:00",
          "2010-10-22T00:00:00",
          "2010-10-29T00:00:00",
          "2010-11-05T00:00:00",
          "2010-11-12T00:00:00",
          "2010-11-19T00:00:00",
          "2010-11-26T00:00:00",
          "2010-12-03T00:00:00",
          "2010-12-10T00:00:00",
          "2010-12-17T00:00:00",
          "2010-12-24T00:00:00",
          "2010-12-31T00:00:00",
          "2011-01-07T00:00:00",
          "2011-01-14T00:00:00",
          "2011-01-21T00:00:00",
          "2011-01-28T00:00:00",
          "2011-02-04T00:00:00",
          "2011-02-11T00:00:00",
          "2011-02-18T00:00:00",
          "2011-02-25T00:00:00",
          "2011-03-04T00:00:00",
          "2011-03-11T00:00:00",
          "2011-03-18T00:00:00",
          "2011-03-25T00:00:00",
          "2011-04-01T00:00:00",
          "2011-04-08T00:00:00",
          "2011-04-15T00:00:00",
          "2011-04-22T00:00:00",
          "2011-04-29T00:00:00",
          "2011-05-06T00:00:00",
          "2011-05-13T00:00:00",
          "2011-05-20T00:00:00",
          "2011-05-27T00:00:00",
          "2011-06-03T00:00:00",
          "2011-06-10T00:00:00",
          "2011-06-17T00:00:00",
          "2011-06-24T00:00:00",
          "2011-07-01T00:00:00",
          "2011-07-08T00:00:00",
          "2011-07-15T00:00:00",
          "2011-07-22T00:00:00",
          "2011-07-29T00:00:00",
          "2011-08-05T00:00:00",
          "2011-08-12T00:00:00",
          "2011-08-19T00:00:00",
          "2011-08-26T00:00:00",
          "2011-09-02T00:00:00",
          "2011-09-09T00:00:00",
          "2011-09-16T00:00:00",
          "2011-09-23T00:00:00",
          "2011-09-30T00:00:00",
          "2011-10-07T00:00:00",
          "2011-10-14T00:00:00",
          "2011-10-21T00:00:00",
          "2011-10-28T00:00:00",
          "2011-11-04T00:00:00",
          "2011-11-11T00:00:00",
          "2011-11-18T00:00:00",
          "2011-11-25T00:00:00",
          "2011-12-02T00:00:00",
          "2011-12-09T00:00:00",
          "2011-12-16T00:00:00",
          "2011-12-23T00:00:00",
          "2011-12-30T00:00:00",
          "2012-01-06T00:00:00",
          "2012-01-13T00:00:00",
          "2012-01-20T00:00:00",
          "2012-01-27T00:00:00",
          "2012-02-03T00:00:00",
          "2012-02-10T00:00:00",
          "2012-02-17T00:00:00",
          "2012-02-24T00:00:00",
          "2012-03-02T00:00:00",
          "2012-03-09T00:00:00",
          "2012-03-16T00:00:00",
          "2012-03-23T00:00:00",
          "2012-03-30T00:00:00",
          "2012-04-06T00:00:00",
          "2012-04-13T00:00:00",
          "2012-04-20T00:00:00",
          "2012-04-27T00:00:00",
          "2012-05-04T00:00:00",
          "2012-05-11T00:00:00",
          "2012-05-18T00:00:00",
          "2012-05-25T00:00:00",
          "2012-06-01T00:00:00",
          "2012-06-08T00:00:00",
          "2012-06-15T00:00:00",
          "2012-06-22T00:00:00",
          "2012-06-29T00:00:00",
          "2012-07-06T00:00:00",
          "2012-07-13T00:00:00",
          "2012-07-20T00:00:00",
          "2012-07-27T00:00:00",
          "2012-08-03T00:00:00",
          "2012-08-10T00:00:00",
          "2012-08-17T00:00:00",
          "2012-08-24T00:00:00",
          "2012-08-31T00:00:00",
          "2012-09-07T00:00:00",
          "2012-09-14T00:00:00",
          "2012-09-21T00:00:00",
          "2012-09-28T00:00:00",
          "2012-10-05T00:00:00",
          "2012-10-12T00:00:00",
          "2012-10-19T00:00:00",
          "2012-10-26T00:00:00",
          "2012-10-28T00:00:00",
          "2012-11-04T00:00:00",
          "2012-11-11T00:00:00",
          "2012-11-18T00:00:00",
          "2012-11-25T00:00:00",
          "2012-12-02T00:00:00",
          "2012-12-09T00:00:00",
          "2012-12-16T00:00:00",
          "2012-12-23T00:00:00",
          "2012-12-30T00:00:00",
          "2013-01-06T00:00:00",
          "2013-01-13T00:00:00"
         ],
         "xaxis": "x2",
         "y": [
          -2437.142308261373,
          150.66618834065795,
          -2660.262170641785,
          -2032.151633688524,
          -2044.3388530622442,
          -985.9257243753324,
          -1286.8562950648798,
          -1580.2870384475218,
          -565.9353951886742,
          -229.38064479133052,
          -186.25663777662965,
          -325.00344295436383,
          -84.07149072005411,
          397.7924137485667,
          606.8500999285328,
          762.4715165468031,
          1137.4628818920332,
          1160.8998422261102,
          1136.5254034786708,
          1481.5174595962822,
          1503.079463103633,
          1181.5243673200976,
          1141.2127955454862,
          1391.5195319134273,
          1411.2065785940515,
          1268.7098597628642,
          1767.44837567202,
          1752.4487210582108,
          1719.6369765905035,
          1585.5775634795832,
          1209.6487197209897,
          3917.454453233495,
          1294.021776923667,
          1184.336802560187,
          335.918838466604,
          -410.31397857040406,
          -105.63349422740389,
          145.6107205538996,
          124.98619545991205,
          -896.8652751058398,
          -815.3046531432526,
          -1584.0369521009748,
          2589.047541498017,
          -1784.657332560672,
          -2060.275986089417,
          -1731.221062998977,
          -1497.7889380715715,
          1080.644774396829,
          -1878.4051738969797,
          -3084.939891895258,
          -2274.958542749561,
          -2294.6455894301853,
          -2440.892221914825,
          -48.07923529231339,
          -1026.2372961499445,
          -506.8742551468009,
          -818.1170883833419,
          -1382.479093227913,
          -519.998952933884,
          155.9229831008934,
          -856.5537033312278,
          -43.75991894544124,
          277.7951768380929,
          439.04146393654173,
          349.0435362536871,
          -346.56544646171494,
          687.4732434777573,
          -63.44696562606658,
          882.4687534572768,
          1377.4573557129806,
          1389.6445750867001,
          1697.1374946697888,
          1431.8311036880389,
          1616.5143511205647,
          1642.7637466947308,
          1896.820396716125,
          1637.138876214552,
          1736.5115880310386,
          2188.3761832720415,
          2104.9406044827274,
          2028.0673745869547,
          1842.4466487410655,
          1830.2594293673455,
          3665.2727600388275,
          1090.5889612238793,
          702.4728980915662,
          1067.1520008898024,
          94.04940781893073,
          321.85666226615734,
          -430.93850366439153,
          -162.81967744255275,
          -1249.3571585303566,
          -862.1785738114064,
          -567.8103520154007,
          2178.4319964449905,
          -1818.4065554417434,
          -2285.270805296555,
          -1563.4124270069865,
          -1907.4670047112352,
          716.9031500119554,
          -1809.0317713081129,
          -1854.0307351495399,
          -1330.917780492944,
          -1316.8556042924981,
          -1102.173047632354,
          1042.2081594489432,
          -2154.961305839087,
          -1036.5495586969384,
          -688.7450673392373,
          -894.9903182791141,
          -334.3782270879954,
          -222.81829589778832,
          -65.32192245279235,
          199.04699011559558,
          71.54992589821606,
          -145.00758758865322,
          -100.94610216058878,
          679.0359377574893,
          512.1647801788617,
          189.67220598196405,
          835.594832789123,
          904.0307569646278,
          936.842501432335,
          1035.2777348354577,
          945.2798071526031,
          1553.7032974252384,
          1243.3979426020603,
          826.2200486554927,
          1135.5879250653074,
          1345.5830896586358,
          1669.0131422688971,
          1569.6404304524108,
          1550.890862185149,
          876.8438829770981,
          1142.1502739588484,
          4411.505577075835,
          624.662189782431,
          146.54819896726318,
          728.7222936657324,
          22.801048403336523,
          -498.4369494265329,
          -31.57269957172169,
          79.98723161848406,
          0,
          0,
          0,
          0,
          0,
          0,
          0,
          0,
          0,
          0,
          0,
          0
         ],
         "yaxis": "y2"
        },
        {
         "line": {
          "color": "#0072B2",
          "width": 2
         },
         "mode": "lines",
         "name": "yearly",
         "type": "scatter",
         "x": [
          "2017-01-01T00:00:00",
          "2017-01-02T00:00:59.178082",
          "2017-01-03T00:01:58.356164",
          "2017-01-04T00:02:57.534246",
          "2017-01-05T00:03:56.712328",
          "2017-01-06T00:04:55.890411",
          "2017-01-07T00:05:55.068493",
          "2017-01-08T00:06:54.246575",
          "2017-01-09T00:07:53.424657",
          "2017-01-10T00:08:52.602739",
          "2017-01-11T00:09:51.780822",
          "2017-01-12T00:10:50.958904",
          "2017-01-13T00:11:50.136986",
          "2017-01-14T00:12:49.315068",
          "2017-01-15T00:13:48.493150",
          "2017-01-16T00:14:47.671232",
          "2017-01-17T00:15:46.849315",
          "2017-01-18T00:16:46.027397",
          "2017-01-19T00:17:45.205479",
          "2017-01-20T00:18:44.383561",
          "2017-01-21T00:19:43.561643",
          "2017-01-22T00:20:42.739726",
          "2017-01-23T00:21:41.917808",
          "2017-01-24T00:22:41.095890",
          "2017-01-25T00:23:40.273972",
          "2017-01-26T00:24:39.452054",
          "2017-01-27T00:25:38.630137",
          "2017-01-28T00:26:37.808219",
          "2017-01-29T00:27:36.986301",
          "2017-01-30T00:28:36.164383",
          "2017-01-31T00:29:35.342465",
          "2017-02-01T00:30:34.520547",
          "2017-02-02T00:31:33.698630",
          "2017-02-03T00:32:32.876712",
          "2017-02-04T00:33:32.054794",
          "2017-02-05T00:34:31.232876",
          "2017-02-06T00:35:30.410958",
          "2017-02-07T00:36:29.589041",
          "2017-02-08T00:37:28.767123",
          "2017-02-09T00:38:27.945205",
          "2017-02-10T00:39:27.123287",
          "2017-02-11T00:40:26.301369",
          "2017-02-12T00:41:25.479452",
          "2017-02-13T00:42:24.657534",
          "2017-02-14T00:43:23.835616",
          "2017-02-15T00:44:23.013698",
          "2017-02-16T00:45:22.191780",
          "2017-02-17T00:46:21.369862",
          "2017-02-18T00:47:20.547945",
          "2017-02-19T00:48:19.726027",
          "2017-02-20T00:49:18.904109",
          "2017-02-21T00:50:18.082191",
          "2017-02-22T00:51:17.260273",
          "2017-02-23T00:52:16.438356",
          "2017-02-24T00:53:15.616438",
          "2017-02-25T00:54:14.794520",
          "2017-02-26T00:55:13.972602",
          "2017-02-27T00:56:13.150684",
          "2017-02-28T00:57:12.328767",
          "2017-03-01T00:58:11.506849",
          "2017-03-02T00:59:10.684931",
          "2017-03-03T01:00:09.863013",
          "2017-03-04T01:01:09.041095",
          "2017-03-05T01:02:08.219177",
          "2017-03-06T01:03:07.397260",
          "2017-03-07T01:04:06.575342",
          "2017-03-08T01:05:05.753424",
          "2017-03-09T01:06:04.931506",
          "2017-03-10T01:07:04.109588",
          "2017-03-11T01:08:03.287671",
          "2017-03-12T01:09:02.465753",
          "2017-03-13T01:10:01.643835",
          "2017-03-14T01:11:00.821917",
          "2017-03-15T01:12:00",
          "2017-03-16T01:12:59.178082",
          "2017-03-17T01:13:58.356164",
          "2017-03-18T01:14:57.534246",
          "2017-03-19T01:15:56.712328",
          "2017-03-20T01:16:55.890411",
          "2017-03-21T01:17:55.068493",
          "2017-03-22T01:18:54.246575",
          "2017-03-23T01:19:53.424657",
          "2017-03-24T01:20:52.602739",
          "2017-03-25T01:21:51.780822",
          "2017-03-26T01:22:50.958904",
          "2017-03-27T01:23:50.136986",
          "2017-03-28T01:24:49.315068",
          "2017-03-29T01:25:48.493150",
          "2017-03-30T01:26:47.671232",
          "2017-03-31T01:27:46.849315",
          "2017-04-01T01:28:46.027397",
          "2017-04-02T01:29:45.205479",
          "2017-04-03T01:30:44.383561",
          "2017-04-04T01:31:43.561643",
          "2017-04-05T01:32:42.739726",
          "2017-04-06T01:33:41.917808",
          "2017-04-07T01:34:41.095890",
          "2017-04-08T01:35:40.273972",
          "2017-04-09T01:36:39.452054",
          "2017-04-10T01:37:38.630137",
          "2017-04-11T01:38:37.808219",
          "2017-04-12T01:39:36.986301",
          "2017-04-13T01:40:36.164383",
          "2017-04-14T01:41:35.342465",
          "2017-04-15T01:42:34.520547",
          "2017-04-16T01:43:33.698630",
          "2017-04-17T01:44:32.876712",
          "2017-04-18T01:45:32.054794",
          "2017-04-19T01:46:31.232876",
          "2017-04-20T01:47:30.410958",
          "2017-04-21T01:48:29.589041",
          "2017-04-22T01:49:28.767123",
          "2017-04-23T01:50:27.945205",
          "2017-04-24T01:51:27.123287",
          "2017-04-25T01:52:26.301369",
          "2017-04-26T01:53:25.479452",
          "2017-04-27T01:54:24.657534",
          "2017-04-28T01:55:23.835616",
          "2017-04-29T01:56:23.013698",
          "2017-04-30T01:57:22.191780",
          "2017-05-01T01:58:21.369862",
          "2017-05-02T01:59:20.547945",
          "2017-05-03T02:00:19.726027",
          "2017-05-04T02:01:18.904109",
          "2017-05-05T02:02:18.082191",
          "2017-05-06T02:03:17.260273",
          "2017-05-07T02:04:16.438356",
          "2017-05-08T02:05:15.616438",
          "2017-05-09T02:06:14.794520",
          "2017-05-10T02:07:13.972602",
          "2017-05-11T02:08:13.150684",
          "2017-05-12T02:09:12.328767",
          "2017-05-13T02:10:11.506849",
          "2017-05-14T02:11:10.684931",
          "2017-05-15T02:12:09.863013",
          "2017-05-16T02:13:09.041095",
          "2017-05-17T02:14:08.219177",
          "2017-05-18T02:15:07.397260",
          "2017-05-19T02:16:06.575342",
          "2017-05-20T02:17:05.753424",
          "2017-05-21T02:18:04.931506",
          "2017-05-22T02:19:04.109588",
          "2017-05-23T02:20:03.287671",
          "2017-05-24T02:21:02.465753",
          "2017-05-25T02:22:01.643835",
          "2017-05-26T02:23:00.821917",
          "2017-05-27T02:24:00",
          "2017-05-28T02:24:59.178082",
          "2017-05-29T02:25:58.356164",
          "2017-05-30T02:26:57.534246",
          "2017-05-31T02:27:56.712328",
          "2017-06-01T02:28:55.890411",
          "2017-06-02T02:29:55.068493",
          "2017-06-03T02:30:54.246575",
          "2017-06-04T02:31:53.424657",
          "2017-06-05T02:32:52.602739",
          "2017-06-06T02:33:51.780822",
          "2017-06-07T02:34:50.958904",
          "2017-06-08T02:35:50.136986",
          "2017-06-09T02:36:49.315068",
          "2017-06-10T02:37:48.493150",
          "2017-06-11T02:38:47.671232",
          "2017-06-12T02:39:46.849315",
          "2017-06-13T02:40:46.027397",
          "2017-06-14T02:41:45.205479",
          "2017-06-15T02:42:44.383561",
          "2017-06-16T02:43:43.561643",
          "2017-06-17T02:44:42.739726",
          "2017-06-18T02:45:41.917808",
          "2017-06-19T02:46:41.095890",
          "2017-06-20T02:47:40.273972",
          "2017-06-21T02:48:39.452054",
          "2017-06-22T02:49:38.630137",
          "2017-06-23T02:50:37.808219",
          "2017-06-24T02:51:36.986301",
          "2017-06-25T02:52:36.164383",
          "2017-06-26T02:53:35.342465",
          "2017-06-27T02:54:34.520547",
          "2017-06-28T02:55:33.698630",
          "2017-06-29T02:56:32.876712",
          "2017-06-30T02:57:32.054794",
          "2017-07-01T02:58:31.232876",
          "2017-07-02T02:59:30.410958",
          "2017-07-03T03:00:29.589041",
          "2017-07-04T03:01:28.767123",
          "2017-07-05T03:02:27.945205",
          "2017-07-06T03:03:27.123287",
          "2017-07-07T03:04:26.301369",
          "2017-07-08T03:05:25.479452",
          "2017-07-09T03:06:24.657534",
          "2017-07-10T03:07:23.835616",
          "2017-07-11T03:08:23.013698",
          "2017-07-12T03:09:22.191780",
          "2017-07-13T03:10:21.369862",
          "2017-07-14T03:11:20.547945",
          "2017-07-15T03:12:19.726027",
          "2017-07-16T03:13:18.904109",
          "2017-07-17T03:14:18.082191",
          "2017-07-18T03:15:17.260273",
          "2017-07-19T03:16:16.438356",
          "2017-07-20T03:17:15.616438",
          "2017-07-21T03:18:14.794520",
          "2017-07-22T03:19:13.972602",
          "2017-07-23T03:20:13.150684",
          "2017-07-24T03:21:12.328767",
          "2017-07-25T03:22:11.506849",
          "2017-07-26T03:23:10.684931",
          "2017-07-27T03:24:09.863013",
          "2017-07-28T03:25:09.041095",
          "2017-07-29T03:26:08.219177",
          "2017-07-30T03:27:07.397260",
          "2017-07-31T03:28:06.575342",
          "2017-08-01T03:29:05.753424",
          "2017-08-02T03:30:04.931506",
          "2017-08-03T03:31:04.109588",
          "2017-08-04T03:32:03.287671",
          "2017-08-05T03:33:02.465753",
          "2017-08-06T03:34:01.643835",
          "2017-08-07T03:35:00.821917",
          "2017-08-08T03:36:00",
          "2017-08-09T03:36:59.178082",
          "2017-08-10T03:37:58.356164",
          "2017-08-11T03:38:57.534246",
          "2017-08-12T03:39:56.712328",
          "2017-08-13T03:40:55.890411",
          "2017-08-14T03:41:55.068493",
          "2017-08-15T03:42:54.246575",
          "2017-08-16T03:43:53.424657",
          "2017-08-17T03:44:52.602739",
          "2017-08-18T03:45:51.780822",
          "2017-08-19T03:46:50.958904",
          "2017-08-20T03:47:50.136986",
          "2017-08-21T03:48:49.315068",
          "2017-08-22T03:49:48.493150",
          "2017-08-23T03:50:47.671232",
          "2017-08-24T03:51:46.849315",
          "2017-08-25T03:52:46.027397",
          "2017-08-26T03:53:45.205479",
          "2017-08-27T03:54:44.383561",
          "2017-08-28T03:55:43.561643",
          "2017-08-29T03:56:42.739726",
          "2017-08-30T03:57:41.917808",
          "2017-08-31T03:58:41.095890",
          "2017-09-01T03:59:40.273972",
          "2017-09-02T04:00:39.452054",
          "2017-09-03T04:01:38.630137",
          "2017-09-04T04:02:37.808219",
          "2017-09-05T04:03:36.986301",
          "2017-09-06T04:04:36.164383",
          "2017-09-07T04:05:35.342465",
          "2017-09-08T04:06:34.520547",
          "2017-09-09T04:07:33.698630",
          "2017-09-10T04:08:32.876712",
          "2017-09-11T04:09:32.054794",
          "2017-09-12T04:10:31.232876",
          "2017-09-13T04:11:30.410958",
          "2017-09-14T04:12:29.589041",
          "2017-09-15T04:13:28.767123",
          "2017-09-16T04:14:27.945205",
          "2017-09-17T04:15:27.123287",
          "2017-09-18T04:16:26.301369",
          "2017-09-19T04:17:25.479452",
          "2017-09-20T04:18:24.657534",
          "2017-09-21T04:19:23.835616",
          "2017-09-22T04:20:23.013698",
          "2017-09-23T04:21:22.191780",
          "2017-09-24T04:22:21.369862",
          "2017-09-25T04:23:20.547945",
          "2017-09-26T04:24:19.726027",
          "2017-09-27T04:25:18.904109",
          "2017-09-28T04:26:18.082191",
          "2017-09-29T04:27:17.260273",
          "2017-09-30T04:28:16.438356",
          "2017-10-01T04:29:15.616438",
          "2017-10-02T04:30:14.794520",
          "2017-10-03T04:31:13.972602",
          "2017-10-04T04:32:13.150684",
          "2017-10-05T04:33:12.328767",
          "2017-10-06T04:34:11.506849",
          "2017-10-07T04:35:10.684931",
          "2017-10-08T04:36:09.863013",
          "2017-10-09T04:37:09.041095",
          "2017-10-10T04:38:08.219177",
          "2017-10-11T04:39:07.397260",
          "2017-10-12T04:40:06.575342",
          "2017-10-13T04:41:05.753424",
          "2017-10-14T04:42:04.931506",
          "2017-10-15T04:43:04.109588",
          "2017-10-16T04:44:03.287671",
          "2017-10-17T04:45:02.465753",
          "2017-10-18T04:46:01.643835",
          "2017-10-19T04:47:00.821917",
          "2017-10-20T04:48:00",
          "2017-10-21T04:48:59.178082",
          "2017-10-22T04:49:58.356164",
          "2017-10-23T04:50:57.534246",
          "2017-10-24T04:51:56.712328",
          "2017-10-25T04:52:55.890411",
          "2017-10-26T04:53:55.068493",
          "2017-10-27T04:54:54.246575",
          "2017-10-28T04:55:53.424657",
          "2017-10-29T04:56:52.602739",
          "2017-10-30T04:57:51.780822",
          "2017-10-31T04:58:50.958904",
          "2017-11-01T04:59:50.136986",
          "2017-11-02T05:00:49.315068",
          "2017-11-03T05:01:48.493150",
          "2017-11-04T05:02:47.671232",
          "2017-11-05T05:03:46.849315",
          "2017-11-06T05:04:46.027397",
          "2017-11-07T05:05:45.205479",
          "2017-11-08T05:06:44.383561",
          "2017-11-09T05:07:43.561643",
          "2017-11-10T05:08:42.739726",
          "2017-11-11T05:09:41.917808",
          "2017-11-12T05:10:41.095890",
          "2017-11-13T05:11:40.273972",
          "2017-11-14T05:12:39.452054",
          "2017-11-15T05:13:38.630137",
          "2017-11-16T05:14:37.808219",
          "2017-11-17T05:15:36.986301",
          "2017-11-18T05:16:36.164383",
          "2017-11-19T05:17:35.342465",
          "2017-11-20T05:18:34.520547",
          "2017-11-21T05:19:33.698630",
          "2017-11-22T05:20:32.876712",
          "2017-11-23T05:21:32.054794",
          "2017-11-24T05:22:31.232876",
          "2017-11-25T05:23:30.410958",
          "2017-11-26T05:24:29.589041",
          "2017-11-27T05:25:28.767123",
          "2017-11-28T05:26:27.945205",
          "2017-11-29T05:27:27.123287",
          "2017-11-30T05:28:26.301369",
          "2017-12-01T05:29:25.479452",
          "2017-12-02T05:30:24.657534",
          "2017-12-03T05:31:23.835616",
          "2017-12-04T05:32:23.013698",
          "2017-12-05T05:33:22.191780",
          "2017-12-06T05:34:21.369862",
          "2017-12-07T05:35:20.547945",
          "2017-12-08T05:36:19.726027",
          "2017-12-09T05:37:18.904109",
          "2017-12-10T05:38:18.082191",
          "2017-12-11T05:39:17.260273",
          "2017-12-12T05:40:16.438356",
          "2017-12-13T05:41:15.616438",
          "2017-12-14T05:42:14.794520",
          "2017-12-15T05:43:13.972602",
          "2017-12-16T05:44:13.150684",
          "2017-12-17T05:45:12.328767",
          "2017-12-18T05:46:11.506849",
          "2017-12-19T05:47:10.684931",
          "2017-12-20T05:48:09.863013",
          "2017-12-21T05:49:09.041095",
          "2017-12-22T05:50:08.219177",
          "2017-12-23T05:51:07.397260",
          "2017-12-24T05:52:06.575342",
          "2017-12-25T05:53:05.753424",
          "2017-12-26T05:54:04.931506",
          "2017-12-27T05:55:04.109588",
          "2017-12-28T05:56:03.287671",
          "2017-12-29T05:57:02.465753",
          "2017-12-30T05:58:01.643835",
          "2017-12-31T05:59:00.821917"
         ],
         "xaxis": "x3",
         "y": [
          5067.048949282039,
          4357.331507738396,
          3644.982943353508,
          2939.417674049258,
          2249.8677086167045,
          1585.2073131617976,
          953.7789722758804,
          363.26736718323224,
          -179.48391902618368,
          -668.5634922718117,
          -1099.0993447605006,
          -1467.3353870053513,
          -1770.686476850393,
          -2007.7515393578199,
          -2178.335275086061,
          -2283.40857284356,
          -2325.063174403994,
          -2306.438982768111,
          -2231.63262768963,
          -2105.584749880805,
          -1933.9534399150132,
          -1722.975409386039,
          -1479.3183300689652,
          -1209.9248492714019,
          -921.8712011879065,
          -622.1964367834685,
          -317.7684409192234,
          -15.14369366165826,
          279.5580220710847,
          560.7674877316238,
          823.5471349366013,
          1063.686104700169,
          1277.7427708512737,
          1463.0834587751544,
          1617.8988941937384,
          1741.1920650021284,
          1832.7643421132989,
          1893.1653283766102,
          1923.6359849283253,
          1926.0356697625587,
          1902.7570568134634,
          1856.633762238091,
          1790.8386189442297,
          1708.780976255848,
          1614.002443687386,
          1510.0736602979948,
          1400.5019661224942,
          1288.6339988543043,
          1177.579531513189,
          1070.1403891583345,
          968.7529085288355,
          875.4427656290698,
          791.79904328785,
          718.9517473698453,
          657.5742146409884,
          607.8933024048548,
          569.7130916402115,
          542.4494401948924,
          525.1754805184275,
          516.6719068783591,
          515.4863924502858,
          519.995114504508,
          528.466586583549,
          539.1247336247976,
          550.2108960570959,
          560.0409264951803,
          567.0572216033088,
          569.873801128296,
          567.3133541885809,
          558.4357609300462,
          542.5570073957663,
          519.258856024917,
          488.3891561272559,
          450.0527628308117,
          404.5965919595819,
          352.58286552759637,
          294.76056871686785,
          232.0299669908267,
          165.4040850993976,
          95.96740767306996,
          24.8381689698908,
          -46.87645992927799,
          -118.11479338729015,
          -187.89543073454342,
          -255.3465744857422,
          -319.73049092146977,
          -380.4580524173949,
          -437.1040207760038,
          -489.4079672588333,
          -537.2721859269658,
          -580.7528381011138,
          -620.0427131772071,
          -655.453759175701,
          -687.3902532986358,
          -716.3213356480549,
          -742.7509522378941,
          -767.1872325612056,
          -790.1108912243769,
          -811.9480448070522,
          -833.0429656535648,
          -853.6360892953785,
          -873.8464422982357,
          -893.6597366258482,
          -912.9212925367319,
          -931.337532924609,
          -948.4815431070436,
          -963.8060045254321,
          -976.6618777524355,
          -986.3216505823591,
          -992.0085452610998,
          -992.9277264412395,
          -988.3007590444024,
          -977.4011676659558,
          -959.5897639535548,
          -934.3498712841782,
          -901.3179137404685,
          -860.3122759260169,
          -811.3564852175325,
          -754.6961388414552,
          -690.8127471147873,
          -620.4238530538346,
          -544.4822039106076,
          -464.16422738257955,
          -380.85169065596534,
          -296.1053060320035,
          -211.63677619575984,
          -129.26530477424663,
          -50.87925538886066,
          21.61062343086282,
          86.31924715050965,
          141.43669461791163,
          185.27414414265772,
          216.3141315248052,
          233.25090678492788,
          235.02950349750122,
          220.87800082094375,
          190.33400537129182,
          143.26160579265976,
          79.86143382075218,
          0.6714858691917986,
          -93.44081956174196,
          -201.29661135765136,
          -321.42538212795364,
          -452.10516373180405,
          -591.3971849140878,
          -737.1923334851872,
          -887.2627576299607,
          -1039.3079136136125,
          -1191.0198012467517,
          -1340.131045013927,
          -1484.4703190700368,
          -1622.0132779571375,
          -1750.9307404141525,
          -1869.6241103388468,
          -1976.7690541147279,
          -2071.336604314504,
          -2152.6136753102874,
          -2220.2133473689137,
          -2274.0767943745873,
          -2314.463482932894,
          -2341.938884695802,
          -2357.3478073644665,
          -2361.7838617316133,
          -2356.551888248683,
          -2343.1257892772683,
          -2323.101856034184,
          -2298.1502799631307,
          -2269.9656167443263,
          -2240.217842068003,
          -2210.505098350275,
          -2182.3115525701032,
          -2156.9664403577403,
          -2135.612343434263,
          -2119.1783858986973,
          -2108.3611383227203,
          -2103.613329701946,
          -2105.1407719002177,
          -2112.9068161307846,
          -2126.645167678491,
          -2145.8795243812315,
          -2169.950074482107,
          -2198.044043198428,
          -2229.2335120623356,
          -2262.513661709729,
          -2296.8441777827043,
          -2331.190866750999,
          -2364.566722545169,
          -2396.0688066993193,
          -2424.915449307549,
          -2450.474856087023,
          -2472.289992382598,
          -2490.096768265246,
          -2503.83418839477,
          -2513.64908091815,
          -2519.891170234502,
          -2523.1018394713233,
          -2523.995628780686,
          -2523.435296642253,
          -2522.4013330366965,
          -2521.9567736178337,
          -2523.2086557951534,
          -2527.2672966769337,
          -2535.204769883998,
          -2548.0141504558624,
          -2566.5698980714374,
          -2591.5930516228736,
          -2623.6195414667263,
          -2662.9747450158707,
          -2709.755023295588,
          -2763.813646920491,
          -2824.759930795366,
          -2891.960986340879,
          -2964.553978310725,
          -3041.4655389986387,
          -3121.43925415527,
          -3203.06485134318,
          -3284.822113114751,
          -3365.1197932260034,
          -3442.342085843804,
          -3514.8965437866264,
          -3581.257965395153,
          -3640.0192355690797,
          -3689.930796200107,
          -3729.9401506908684,
          -3759.2249609220676,
          -3777.219635798687,
          -3783.6335131659853,
          -3778.462743079715,
          -3761.991258399564,
          -3734.7841298654625,
          -3697.6718941751733,
          -3651.7259329419812,
          -3598.2289373756694,
          -3538.633103074667,
          -3474.5178685223073,
          -3407.540737080544,
          -3339.384863078478,
          -3271.709240076768,
          -3206.091239991748,
          -3143.9789997342236,
          -3086.643394702325,
          -3035.1358488488986,
          -2990.252098615464,
          -2952.506065230328,
          -2922.1072138078803,
          -2898.9525320622847,
          -2882.6255666703937,
          -2872.405946084177,
          -2867.288641508107,
          -2866.0127496137347,
          -2867.0983311887912,
          -2868.8914004252056,
          -2869.614813160913,
          -2867.4239774458524,
          -2860.465882155947,
          -2846.939243995636,
          -2825.154351564775,
          -2793.590550957243,
          -2750.949623252145,
          -2696.202640180246,
          -2628.6328345182283,
          -2547.863295700292,
          -2453.8810145524026,
          -2347.047345745645,
          -2228.096437456997,
          -2098.1294161950477,
          -1958.5834713080349,
          -1811.2039063204456,
          -1657.9996499883948,
          -1501.1913498453391,
          -1343.1503259551034,
          -1186.3410172250092,
          -1033.2412653221475,
          -886.2791024134775,
          -747.7606127261732,
          -619.8019373841216,
          -504.2643871823482,
          -402.70232793554874,
          -316.3059163735704,
          -245.86705981190414,
          -191.7494201942668,
          -153.87144565134471,
          -131.70392120919,
          -124.27623880002157,
          -130.20002787561353,
          -147.7026473160799,
          -174.6726901853049,
          -208.71619476604735,
          -247.2195282254423,
          -287.42330128598695,
          -326.49727521803055,
          -361.61987622317304,
          -390.0580399194846,
          -409.2435834993481,
          -416.8485557445971,
          -410.8506205033647,
          -389.5916503672825,
          -351.8255100360849,
          -296.75310216756293,
          -224.04767830735585,
          -133.85950798711488,
          -26.81218593699341,
          96.01847039520646,
          233.1391054800463,
          382.68857794445313,
          542.4908715961101,
          710.1358805207387,
          883.0513949522395,
          1058.5897160120019,
          1234.118315859819,
          1407.1014073993472,
          1575.2002039993,
          1736.3484205850627,
          1888.830947956794,
          2031.3509864194061,
          2163.0868746296564,
          2283.7277669814293,
          2393.5090978736466,
          2493.2161545836675,
          2584.178213532731,
          2668.2435861404906,
          2747.7383122335145,
          2825.4038272446824,
          2904.3284475844202,
          2987.856127640946,
          3079.4884198208556,
          3182.777836583875,
          3301.2089087788436,
          3438.088188159345,
          3596.422685819907,
          3778.807445382065,
          3987.318677442855,
          4223.419626205889,
          4487.8650957167365,
          4780.649076022464,
          5100.943219617904,
          5447.068184640369,
          5816.487930588265,
          6205.804258893838,
          6610.816760037512,
          7026.562286930594,
          7447.396677622851,
          7867.092172542911,
          8278.957414751636,
          8675.94922699057,
          9050.84463725376,
          9396.374270265542,
          9705.385562024532,
          9971.003165823015,
          10186.789698263545,
          10346.889174525919,
          10446.185439073322,
          10480.421784466906,
          10446.317601401768,
          10341.661249074656,
          10165.388345188088,
          9917.623279019344,
          9599.706667038668,
          9214.1918709361,
          8764.815974252702,
          8256.43864990257,
          7694.986596252406,
          7087.315178862137,
          6441.107399108332,
          5764.726173342142
         ],
         "yaxis": "y3"
        }
       ],
       "layout": {
        "height": 600,
        "showlegend": false,
        "template": {
         "data": {
          "bar": [
           {
            "error_x": {
             "color": "#2a3f5f"
            },
            "error_y": {
             "color": "#2a3f5f"
            },
            "marker": {
             "line": {
              "color": "#E5ECF6",
              "width": 0.5
             },
             "pattern": {
              "fillmode": "overlay",
              "size": 10,
              "solidity": 0.2
             }
            },
            "type": "bar"
           }
          ],
          "barpolar": [
           {
            "marker": {
             "line": {
              "color": "#E5ECF6",
              "width": 0.5
             },
             "pattern": {
              "fillmode": "overlay",
              "size": 10,
              "solidity": 0.2
             }
            },
            "type": "barpolar"
           }
          ],
          "carpet": [
           {
            "aaxis": {
             "endlinecolor": "#2a3f5f",
             "gridcolor": "white",
             "linecolor": "white",
             "minorgridcolor": "white",
             "startlinecolor": "#2a3f5f"
            },
            "baxis": {
             "endlinecolor": "#2a3f5f",
             "gridcolor": "white",
             "linecolor": "white",
             "minorgridcolor": "white",
             "startlinecolor": "#2a3f5f"
            },
            "type": "carpet"
           }
          ],
          "choropleth": [
           {
            "colorbar": {
             "outlinewidth": 0,
             "ticks": ""
            },
            "type": "choropleth"
           }
          ],
          "contour": [
           {
            "colorbar": {
             "outlinewidth": 0,
             "ticks": ""
            },
            "colorscale": [
             [
              0,
              "#0d0887"
             ],
             [
              0.1111111111111111,
              "#46039f"
             ],
             [
              0.2222222222222222,
              "#7201a8"
             ],
             [
              0.3333333333333333,
              "#9c179e"
             ],
             [
              0.4444444444444444,
              "#bd3786"
             ],
             [
              0.5555555555555556,
              "#d8576b"
             ],
             [
              0.6666666666666666,
              "#ed7953"
             ],
             [
              0.7777777777777778,
              "#fb9f3a"
             ],
             [
              0.8888888888888888,
              "#fdca26"
             ],
             [
              1,
              "#f0f921"
             ]
            ],
            "type": "contour"
           }
          ],
          "contourcarpet": [
           {
            "colorbar": {
             "outlinewidth": 0,
             "ticks": ""
            },
            "type": "contourcarpet"
           }
          ],
          "heatmap": [
           {
            "colorbar": {
             "outlinewidth": 0,
             "ticks": ""
            },
            "colorscale": [
             [
              0,
              "#0d0887"
             ],
             [
              0.1111111111111111,
              "#46039f"
             ],
             [
              0.2222222222222222,
              "#7201a8"
             ],
             [
              0.3333333333333333,
              "#9c179e"
             ],
             [
              0.4444444444444444,
              "#bd3786"
             ],
             [
              0.5555555555555556,
              "#d8576b"
             ],
             [
              0.6666666666666666,
              "#ed7953"
             ],
             [
              0.7777777777777778,
              "#fb9f3a"
             ],
             [
              0.8888888888888888,
              "#fdca26"
             ],
             [
              1,
              "#f0f921"
             ]
            ],
            "type": "heatmap"
           }
          ],
          "heatmapgl": [
           {
            "colorbar": {
             "outlinewidth": 0,
             "ticks": ""
            },
            "colorscale": [
             [
              0,
              "#0d0887"
             ],
             [
              0.1111111111111111,
              "#46039f"
             ],
             [
              0.2222222222222222,
              "#7201a8"
             ],
             [
              0.3333333333333333,
              "#9c179e"
             ],
             [
              0.4444444444444444,
              "#bd3786"
             ],
             [
              0.5555555555555556,
              "#d8576b"
             ],
             [
              0.6666666666666666,
              "#ed7953"
             ],
             [
              0.7777777777777778,
              "#fb9f3a"
             ],
             [
              0.8888888888888888,
              "#fdca26"
             ],
             [
              1,
              "#f0f921"
             ]
            ],
            "type": "heatmapgl"
           }
          ],
          "histogram": [
           {
            "marker": {
             "pattern": {
              "fillmode": "overlay",
              "size": 10,
              "solidity": 0.2
             }
            },
            "type": "histogram"
           }
          ],
          "histogram2d": [
           {
            "colorbar": {
             "outlinewidth": 0,
             "ticks": ""
            },
            "colorscale": [
             [
              0,
              "#0d0887"
             ],
             [
              0.1111111111111111,
              "#46039f"
             ],
             [
              0.2222222222222222,
              "#7201a8"
             ],
             [
              0.3333333333333333,
              "#9c179e"
             ],
             [
              0.4444444444444444,
              "#bd3786"
             ],
             [
              0.5555555555555556,
              "#d8576b"
             ],
             [
              0.6666666666666666,
              "#ed7953"
             ],
             [
              0.7777777777777778,
              "#fb9f3a"
             ],
             [
              0.8888888888888888,
              "#fdca26"
             ],
             [
              1,
              "#f0f921"
             ]
            ],
            "type": "histogram2d"
           }
          ],
          "histogram2dcontour": [
           {
            "colorbar": {
             "outlinewidth": 0,
             "ticks": ""
            },
            "colorscale": [
             [
              0,
              "#0d0887"
             ],
             [
              0.1111111111111111,
              "#46039f"
             ],
             [
              0.2222222222222222,
              "#7201a8"
             ],
             [
              0.3333333333333333,
              "#9c179e"
             ],
             [
              0.4444444444444444,
              "#bd3786"
             ],
             [
              0.5555555555555556,
              "#d8576b"
             ],
             [
              0.6666666666666666,
              "#ed7953"
             ],
             [
              0.7777777777777778,
              "#fb9f3a"
             ],
             [
              0.8888888888888888,
              "#fdca26"
             ],
             [
              1,
              "#f0f921"
             ]
            ],
            "type": "histogram2dcontour"
           }
          ],
          "mesh3d": [
           {
            "colorbar": {
             "outlinewidth": 0,
             "ticks": ""
            },
            "type": "mesh3d"
           }
          ],
          "parcoords": [
           {
            "line": {
             "colorbar": {
              "outlinewidth": 0,
              "ticks": ""
             }
            },
            "type": "parcoords"
           }
          ],
          "pie": [
           {
            "automargin": true,
            "type": "pie"
           }
          ],
          "scatter": [
           {
            "marker": {
             "colorbar": {
              "outlinewidth": 0,
              "ticks": ""
             }
            },
            "type": "scatter"
           }
          ],
          "scatter3d": [
           {
            "line": {
             "colorbar": {
              "outlinewidth": 0,
              "ticks": ""
             }
            },
            "marker": {
             "colorbar": {
              "outlinewidth": 0,
              "ticks": ""
             }
            },
            "type": "scatter3d"
           }
          ],
          "scattercarpet": [
           {
            "marker": {
             "colorbar": {
              "outlinewidth": 0,
              "ticks": ""
             }
            },
            "type": "scattercarpet"
           }
          ],
          "scattergeo": [
           {
            "marker": {
             "colorbar": {
              "outlinewidth": 0,
              "ticks": ""
             }
            },
            "type": "scattergeo"
           }
          ],
          "scattergl": [
           {
            "marker": {
             "colorbar": {
              "outlinewidth": 0,
              "ticks": ""
             }
            },
            "type": "scattergl"
           }
          ],
          "scattermapbox": [
           {
            "marker": {
             "colorbar": {
              "outlinewidth": 0,
              "ticks": ""
             }
            },
            "type": "scattermapbox"
           }
          ],
          "scatterpolar": [
           {
            "marker": {
             "colorbar": {
              "outlinewidth": 0,
              "ticks": ""
             }
            },
            "type": "scatterpolar"
           }
          ],
          "scatterpolargl": [
           {
            "marker": {
             "colorbar": {
              "outlinewidth": 0,
              "ticks": ""
             }
            },
            "type": "scatterpolargl"
           }
          ],
          "scatterternary": [
           {
            "marker": {
             "colorbar": {
              "outlinewidth": 0,
              "ticks": ""
             }
            },
            "type": "scatterternary"
           }
          ],
          "surface": [
           {
            "colorbar": {
             "outlinewidth": 0,
             "ticks": ""
            },
            "colorscale": [
             [
              0,
              "#0d0887"
             ],
             [
              0.1111111111111111,
              "#46039f"
             ],
             [
              0.2222222222222222,
              "#7201a8"
             ],
             [
              0.3333333333333333,
              "#9c179e"
             ],
             [
              0.4444444444444444,
              "#bd3786"
             ],
             [
              0.5555555555555556,
              "#d8576b"
             ],
             [
              0.6666666666666666,
              "#ed7953"
             ],
             [
              0.7777777777777778,
              "#fb9f3a"
             ],
             [
              0.8888888888888888,
              "#fdca26"
             ],
             [
              1,
              "#f0f921"
             ]
            ],
            "type": "surface"
           }
          ],
          "table": [
           {
            "cells": {
             "fill": {
              "color": "#EBF0F8"
             },
             "line": {
              "color": "white"
             }
            },
            "header": {
             "fill": {
              "color": "#C8D4E3"
             },
             "line": {
              "color": "white"
             }
            },
            "type": "table"
           }
          ]
         },
         "layout": {
          "annotationdefaults": {
           "arrowcolor": "#2a3f5f",
           "arrowhead": 0,
           "arrowwidth": 1
          },
          "autotypenumbers": "strict",
          "coloraxis": {
           "colorbar": {
            "outlinewidth": 0,
            "ticks": ""
           }
          },
          "colorscale": {
           "diverging": [
            [
             0,
             "#8e0152"
            ],
            [
             0.1,
             "#c51b7d"
            ],
            [
             0.2,
             "#de77ae"
            ],
            [
             0.3,
             "#f1b6da"
            ],
            [
             0.4,
             "#fde0ef"
            ],
            [
             0.5,
             "#f7f7f7"
            ],
            [
             0.6,
             "#e6f5d0"
            ],
            [
             0.7,
             "#b8e186"
            ],
            [
             0.8,
             "#7fbc41"
            ],
            [
             0.9,
             "#4d9221"
            ],
            [
             1,
             "#276419"
            ]
           ],
           "sequential": [
            [
             0,
             "#0d0887"
            ],
            [
             0.1111111111111111,
             "#46039f"
            ],
            [
             0.2222222222222222,
             "#7201a8"
            ],
            [
             0.3333333333333333,
             "#9c179e"
            ],
            [
             0.4444444444444444,
             "#bd3786"
            ],
            [
             0.5555555555555556,
             "#d8576b"
            ],
            [
             0.6666666666666666,
             "#ed7953"
            ],
            [
             0.7777777777777778,
             "#fb9f3a"
            ],
            [
             0.8888888888888888,
             "#fdca26"
            ],
            [
             1,
             "#f0f921"
            ]
           ],
           "sequentialminus": [
            [
             0,
             "#0d0887"
            ],
            [
             0.1111111111111111,
             "#46039f"
            ],
            [
             0.2222222222222222,
             "#7201a8"
            ],
            [
             0.3333333333333333,
             "#9c179e"
            ],
            [
             0.4444444444444444,
             "#bd3786"
            ],
            [
             0.5555555555555556,
             "#d8576b"
            ],
            [
             0.6666666666666666,
             "#ed7953"
            ],
            [
             0.7777777777777778,
             "#fb9f3a"
            ],
            [
             0.8888888888888888,
             "#fdca26"
            ],
            [
             1,
             "#f0f921"
            ]
           ]
          },
          "colorway": [
           "#636efa",
           "#EF553B",
           "#00cc96",
           "#ab63fa",
           "#FFA15A",
           "#19d3f3",
           "#FF6692",
           "#B6E880",
           "#FF97FF",
           "#FECB52"
          ],
          "font": {
           "color": "#2a3f5f"
          },
          "geo": {
           "bgcolor": "white",
           "lakecolor": "white",
           "landcolor": "#E5ECF6",
           "showlakes": true,
           "showland": true,
           "subunitcolor": "white"
          },
          "hoverlabel": {
           "align": "left"
          },
          "hovermode": "closest",
          "mapbox": {
           "style": "light"
          },
          "paper_bgcolor": "white",
          "plot_bgcolor": "#E5ECF6",
          "polar": {
           "angularaxis": {
            "gridcolor": "white",
            "linecolor": "white",
            "ticks": ""
           },
           "bgcolor": "#E5ECF6",
           "radialaxis": {
            "gridcolor": "white",
            "linecolor": "white",
            "ticks": ""
           }
          },
          "scene": {
           "xaxis": {
            "backgroundcolor": "#E5ECF6",
            "gridcolor": "white",
            "gridwidth": 2,
            "linecolor": "white",
            "showbackground": true,
            "ticks": "",
            "zerolinecolor": "white"
           },
           "yaxis": {
            "backgroundcolor": "#E5ECF6",
            "gridcolor": "white",
            "gridwidth": 2,
            "linecolor": "white",
            "showbackground": true,
            "ticks": "",
            "zerolinecolor": "white"
           },
           "zaxis": {
            "backgroundcolor": "#E5ECF6",
            "gridcolor": "white",
            "gridwidth": 2,
            "linecolor": "white",
            "showbackground": true,
            "ticks": "",
            "zerolinecolor": "white"
           }
          },
          "shapedefaults": {
           "line": {
            "color": "#2a3f5f"
           }
          },
          "ternary": {
           "aaxis": {
            "gridcolor": "white",
            "linecolor": "white",
            "ticks": ""
           },
           "baxis": {
            "gridcolor": "white",
            "linecolor": "white",
            "ticks": ""
           },
           "bgcolor": "#E5ECF6",
           "caxis": {
            "gridcolor": "white",
            "linecolor": "white",
            "ticks": ""
           }
          },
          "title": {
           "x": 0.05
          },
          "xaxis": {
           "automargin": true,
           "gridcolor": "white",
           "linecolor": "white",
           "ticks": "",
           "title": {
            "standoff": 15
           },
           "zerolinecolor": "white",
           "zerolinewidth": 2
          },
          "yaxis": {
           "automargin": true,
           "gridcolor": "white",
           "linecolor": "white",
           "ticks": "",
           "title": {
            "standoff": 15
           },
           "zerolinecolor": "white",
           "zerolinewidth": 2
          }
         }
        },
        "width": 900,
        "xaxis": {
         "anchor": "y",
         "domain": [
          0,
          1
         ],
         "range": [
          "2009-12-13T08:24:00",
          "2013-03-07T15:36:00"
         ],
         "type": "date"
        },
        "xaxis2": {
         "anchor": "y2",
         "domain": [
          0,
          1
         ],
         "range": [
          "2009-12-13T08:24:00",
          "2013-03-07T15:36:00"
         ],
         "type": "date"
        },
        "xaxis3": {
         "anchor": "y3",
         "domain": [
          0,
          1
         ],
         "range": [
          "2016-12-13T18:54:02.958904115",
          "2018-01-18T11:04:57.863013581"
         ],
         "tickformat": "%B %e",
         "type": "date"
        },
        "yaxis": {
         "anchor": "x",
         "domain": [
          0.7333333333333333,
          1
         ],
         "rangemode": "normal",
         "title": {
          "text": "trend"
         },
         "zerolinecolor": "#AAA"
        },
        "yaxis2": {
         "anchor": "x2",
         "domain": [
          0.36666666666666664,
          0.6333333333333333
         ],
         "rangemode": "tozero",
         "title": {
          "text": "extra_regressors_additive"
         },
         "zerolinecolor": "#AAA"
        },
        "yaxis3": {
         "anchor": "x3",
         "domain": [
          0,
          0.26666666666666666
         ],
         "title": {
          "text": "yearly"
         },
         "zerolinecolor": "#AAA"
        }
       }
      }
     },
     "metadata": {},
     "output_type": "display_data"
    }
   ],
   "source": [
    "# Plot forecast\n",
    "plot_plotly(model, forecast)\n",
    "\n",
    "# Plot components (trend, seasonality)\n",
    "plot_components_plotly(model, forecast)"
   ]
  },
  {
   "cell_type": "code",
   "execution_count": 75,
   "id": "f8b19ece",
   "metadata": {},
   "outputs": [
    {
     "name": "stdout",
     "output_type": "stream",
     "text": [
      "Prophet RMSE: 6068.62, MAE: 5318.17\n"
     ]
    }
   ],
   "source": [
    "# Get forecasted values (last 12 points)\n",
    "prophet_pred = forecast[['ds', 'yhat']].tail(12)['yhat'].values\n",
    "true_values = df_prophet['y'].tail(12).values\n",
    "\n",
    "rmse_prophet = np.sqrt(mean_squared_error(true_values, prophet_pred))\n",
    "mae_prophet = mean_absolute_error(true_values, prophet_pred)\n",
    "\n",
    "print(f\"Prophet RMSE: {rmse_prophet:.2f}, MAE: {mae_prophet:.2f}\")"
   ]
  },
  {
   "cell_type": "code",
   "execution_count": 76,
   "id": "753b24ed",
   "metadata": {},
   "outputs": [
    {
     "data": {
      "application/vnd.plotly.v1+json": {
       "config": {
        "plotlyServerURL": "https://plot.ly"
       },
       "data": [
        {
         "line": {
          "color": "#0072B2",
          "width": 2
         },
         "mode": "lines",
         "name": "trend",
         "type": "scatter",
         "x": [
          "2010-02-05T00:00:00",
          "2010-02-12T00:00:00",
          "2010-02-19T00:00:00",
          "2010-02-26T00:00:00",
          "2010-03-05T00:00:00",
          "2010-03-12T00:00:00",
          "2010-03-19T00:00:00",
          "2010-03-26T00:00:00",
          "2010-04-02T00:00:00",
          "2010-04-09T00:00:00",
          "2010-04-16T00:00:00",
          "2010-04-23T00:00:00",
          "2010-04-30T00:00:00",
          "2010-05-07T00:00:00",
          "2010-05-14T00:00:00",
          "2010-05-21T00:00:00",
          "2010-05-28T00:00:00",
          "2010-06-04T00:00:00",
          "2010-06-11T00:00:00",
          "2010-06-18T00:00:00",
          "2010-06-25T00:00:00",
          "2010-07-02T00:00:00",
          "2010-07-09T00:00:00",
          "2010-07-16T00:00:00",
          "2010-07-23T00:00:00",
          "2010-07-30T00:00:00",
          "2010-08-06T00:00:00",
          "2010-08-13T00:00:00",
          "2010-08-20T00:00:00",
          "2010-08-27T00:00:00",
          "2010-09-03T00:00:00",
          "2010-09-10T00:00:00",
          "2010-09-17T00:00:00",
          "2010-09-24T00:00:00",
          "2010-10-01T00:00:00",
          "2010-10-08T00:00:00",
          "2010-10-15T00:00:00",
          "2010-10-22T00:00:00",
          "2010-10-29T00:00:00",
          "2010-11-05T00:00:00",
          "2010-11-12T00:00:00",
          "2010-11-19T00:00:00",
          "2010-11-26T00:00:00",
          "2010-12-03T00:00:00",
          "2010-12-10T00:00:00",
          "2010-12-17T00:00:00",
          "2010-12-24T00:00:00",
          "2010-12-31T00:00:00",
          "2011-01-07T00:00:00",
          "2011-01-14T00:00:00",
          "2011-01-21T00:00:00",
          "2011-01-28T00:00:00",
          "2011-02-04T00:00:00",
          "2011-02-11T00:00:00",
          "2011-02-18T00:00:00",
          "2011-02-25T00:00:00",
          "2011-03-04T00:00:00",
          "2011-03-11T00:00:00",
          "2011-03-18T00:00:00",
          "2011-03-25T00:00:00",
          "2011-04-01T00:00:00",
          "2011-04-08T00:00:00",
          "2011-04-15T00:00:00",
          "2011-04-22T00:00:00",
          "2011-04-29T00:00:00",
          "2011-05-06T00:00:00",
          "2011-05-13T00:00:00",
          "2011-05-20T00:00:00",
          "2011-05-27T00:00:00",
          "2011-06-03T00:00:00",
          "2011-06-10T00:00:00",
          "2011-06-17T00:00:00",
          "2011-06-24T00:00:00",
          "2011-07-01T00:00:00",
          "2011-07-08T00:00:00",
          "2011-07-15T00:00:00",
          "2011-07-22T00:00:00",
          "2011-07-29T00:00:00",
          "2011-08-05T00:00:00",
          "2011-08-12T00:00:00",
          "2011-08-19T00:00:00",
          "2011-08-26T00:00:00",
          "2011-09-02T00:00:00",
          "2011-09-09T00:00:00",
          "2011-09-16T00:00:00",
          "2011-09-23T00:00:00",
          "2011-09-30T00:00:00",
          "2011-10-07T00:00:00",
          "2011-10-14T00:00:00",
          "2011-10-21T00:00:00",
          "2011-10-28T00:00:00",
          "2011-11-04T00:00:00",
          "2011-11-11T00:00:00",
          "2011-11-18T00:00:00",
          "2011-11-25T00:00:00",
          "2011-12-02T00:00:00",
          "2011-12-09T00:00:00",
          "2011-12-16T00:00:00",
          "2011-12-23T00:00:00",
          "2011-12-30T00:00:00",
          "2012-01-06T00:00:00",
          "2012-01-13T00:00:00",
          "2012-01-20T00:00:00",
          "2012-01-27T00:00:00",
          "2012-02-03T00:00:00",
          "2012-02-10T00:00:00",
          "2012-02-17T00:00:00",
          "2012-02-24T00:00:00",
          "2012-03-02T00:00:00",
          "2012-03-09T00:00:00",
          "2012-03-16T00:00:00",
          "2012-03-23T00:00:00",
          "2012-03-30T00:00:00",
          "2012-04-06T00:00:00",
          "2012-04-13T00:00:00",
          "2012-04-20T00:00:00",
          "2012-04-27T00:00:00",
          "2012-05-04T00:00:00",
          "2012-05-11T00:00:00",
          "2012-05-18T00:00:00",
          "2012-05-25T00:00:00",
          "2012-06-01T00:00:00",
          "2012-06-08T00:00:00",
          "2012-06-15T00:00:00",
          "2012-06-22T00:00:00",
          "2012-06-29T00:00:00",
          "2012-07-06T00:00:00",
          "2012-07-13T00:00:00",
          "2012-07-20T00:00:00",
          "2012-07-27T00:00:00",
          "2012-08-03T00:00:00",
          "2012-08-10T00:00:00",
          "2012-08-17T00:00:00",
          "2012-08-24T00:00:00",
          "2012-08-31T00:00:00",
          "2012-09-07T00:00:00",
          "2012-09-14T00:00:00",
          "2012-09-21T00:00:00",
          "2012-09-28T00:00:00",
          "2012-10-05T00:00:00",
          "2012-10-12T00:00:00",
          "2012-10-19T00:00:00",
          "2012-10-26T00:00:00",
          "2012-10-28T00:00:00",
          "2012-11-04T00:00:00",
          "2012-11-11T00:00:00",
          "2012-11-18T00:00:00",
          "2012-11-25T00:00:00",
          "2012-12-02T00:00:00",
          "2012-12-09T00:00:00",
          "2012-12-16T00:00:00",
          "2012-12-23T00:00:00",
          "2012-12-30T00:00:00",
          "2013-01-06T00:00:00",
          "2013-01-13T00:00:00"
         ],
         "xaxis": "x",
         "y": [
          5783.7141716,
          5771.35383387955,
          5758.993496159099,
          5746.633158438648,
          5734.272820718197,
          5721.912482997746,
          5709.552144755326,
          5697.191806512904,
          5684.831468270483,
          5672.471130028062,
          5660.110793441582,
          5647.750456855102,
          5635.390120268622,
          5623.029783682142,
          5610.669447095663,
          5598.309111446634,
          5585.948775797606,
          5573.588440148577,
          5561.228104499549,
          5548.867769426424,
          5536.507434353298,
          5524.147099280173,
          5511.786764207048,
          5499.426429133921,
          5487.066095039667,
          5474.7057609454105,
          5462.345426851155,
          5449.985092756899,
          5437.624759843562,
          5425.264426930226,
          5412.90409401689,
          5400.543761103553,
          5388.183428190216,
          5375.82309587885,
          5363.462763567483,
          5351.102431256117,
          5338.74209894475,
          5326.38176726288,
          5314.021435581009,
          5301.66110389914,
          5289.30077221727,
          5276.940440535399,
          5264.5802577819695,
          5252.22007502854,
          5239.859892275111,
          5227.49970952168,
          5215.140070079491,
          5202.780430637301,
          5190.420791195111,
          5178.0611517529205,
          5165.70151231073,
          5153.341999576542,
          5140.982486842353,
          5128.622974108165,
          5116.2634613739765,
          5103.904302544869,
          5091.545143715762,
          5079.185984886655,
          5066.826826057548,
          5054.46766722844,
          5042.108521056246,
          5029.7493748840525,
          5017.390228711858,
          5005.031082539664,
          4992.728357844707,
          4980.425633149751,
          4968.122908454795,
          4955.820183759839,
          4943.517459064883,
          4931.214735563577,
          4918.912012062271,
          4906.609288560966,
          4894.306565059661,
          4882.003855791943,
          4869.701146524226,
          4857.398437256509,
          4845.095727988792,
          4832.793018721075,
          4820.490310786646,
          4808.187602852217,
          4795.884894917788,
          4783.58218698336,
          4771.279493152234,
          4758.976799321107,
          4746.67410548998,
          4734.371411658854,
          4722.068717827728,
          4710.533751199136,
          4698.9987845705455,
          4687.4638179419535,
          4675.928851313362,
          4664.393885809612,
          4652.858920305862,
          4641.323954802112,
          4629.788989298362,
          4618.254023794612,
          4606.719060313605,
          4595.184096832596,
          4583.649133351589,
          4572.11416987058,
          4560.579207016901,
          4549.044244163221,
          4537.509281309542,
          4525.974318455863,
          4514.439355602183,
          4502.9043930642565,
          4491.36943052633,
          4479.834467988403,
          4468.299505450476,
          4456.764543415679,
          4445.229581380882,
          4433.694619346085,
          4422.159657311288,
          4410.6246952764905,
          4399.089732806685,
          4387.554770336879,
          4376.019807867074,
          4364.484845397268,
          4352.949882927463,
          4341.414920457657,
          4329.879957987851,
          4318.344995518046,
          4306.810033048239,
          4295.275070578435,
          4283.740108108628,
          4272.205145638823,
          4260.670183169017,
          4249.1352206992115,
          4237.600258229406,
          4226.0652957596,
          4214.530333289795,
          4202.995370819989,
          4191.460408350184,
          4179.925445880377,
          4168.390483410572,
          4156.855520940766,
          4145.32055847096,
          4133.785596001155,
          4122.250633531349,
          4110.715671061544,
          4099.180708591738,
          4087.645746121932,
          4076.110783652126,
          4072.815080089325,
          4061.2801176195185,
          4049.745155149713,
          4038.2101926799073,
          4026.6752302101017,
          4015.140267740296,
          4003.60530527049,
          3992.070342800685,
          3980.5353803308785,
          3969.000417861073,
          3957.4654553912674,
          3945.930492921462
         ],
         "yaxis": "y"
        },
        {
         "line": {
          "color": "rgba(0, 114, 178, 0.2)",
          "width": 0
         },
         "mode": "lines",
         "name": "trend_upper",
         "type": "scatter",
         "x": [
          "2010-02-05T00:00:00",
          "2010-02-12T00:00:00",
          "2010-02-19T00:00:00",
          "2010-02-26T00:00:00",
          "2010-03-05T00:00:00",
          "2010-03-12T00:00:00",
          "2010-03-19T00:00:00",
          "2010-03-26T00:00:00",
          "2010-04-02T00:00:00",
          "2010-04-09T00:00:00",
          "2010-04-16T00:00:00",
          "2010-04-23T00:00:00",
          "2010-04-30T00:00:00",
          "2010-05-07T00:00:00",
          "2010-05-14T00:00:00",
          "2010-05-21T00:00:00",
          "2010-05-28T00:00:00",
          "2010-06-04T00:00:00",
          "2010-06-11T00:00:00",
          "2010-06-18T00:00:00",
          "2010-06-25T00:00:00",
          "2010-07-02T00:00:00",
          "2010-07-09T00:00:00",
          "2010-07-16T00:00:00",
          "2010-07-23T00:00:00",
          "2010-07-30T00:00:00",
          "2010-08-06T00:00:00",
          "2010-08-13T00:00:00",
          "2010-08-20T00:00:00",
          "2010-08-27T00:00:00",
          "2010-09-03T00:00:00",
          "2010-09-10T00:00:00",
          "2010-09-17T00:00:00",
          "2010-09-24T00:00:00",
          "2010-10-01T00:00:00",
          "2010-10-08T00:00:00",
          "2010-10-15T00:00:00",
          "2010-10-22T00:00:00",
          "2010-10-29T00:00:00",
          "2010-11-05T00:00:00",
          "2010-11-12T00:00:00",
          "2010-11-19T00:00:00",
          "2010-11-26T00:00:00",
          "2010-12-03T00:00:00",
          "2010-12-10T00:00:00",
          "2010-12-17T00:00:00",
          "2010-12-24T00:00:00",
          "2010-12-31T00:00:00",
          "2011-01-07T00:00:00",
          "2011-01-14T00:00:00",
          "2011-01-21T00:00:00",
          "2011-01-28T00:00:00",
          "2011-02-04T00:00:00",
          "2011-02-11T00:00:00",
          "2011-02-18T00:00:00",
          "2011-02-25T00:00:00",
          "2011-03-04T00:00:00",
          "2011-03-11T00:00:00",
          "2011-03-18T00:00:00",
          "2011-03-25T00:00:00",
          "2011-04-01T00:00:00",
          "2011-04-08T00:00:00",
          "2011-04-15T00:00:00",
          "2011-04-22T00:00:00",
          "2011-04-29T00:00:00",
          "2011-05-06T00:00:00",
          "2011-05-13T00:00:00",
          "2011-05-20T00:00:00",
          "2011-05-27T00:00:00",
          "2011-06-03T00:00:00",
          "2011-06-10T00:00:00",
          "2011-06-17T00:00:00",
          "2011-06-24T00:00:00",
          "2011-07-01T00:00:00",
          "2011-07-08T00:00:00",
          "2011-07-15T00:00:00",
          "2011-07-22T00:00:00",
          "2011-07-29T00:00:00",
          "2011-08-05T00:00:00",
          "2011-08-12T00:00:00",
          "2011-08-19T00:00:00",
          "2011-08-26T00:00:00",
          "2011-09-02T00:00:00",
          "2011-09-09T00:00:00",
          "2011-09-16T00:00:00",
          "2011-09-23T00:00:00",
          "2011-09-30T00:00:00",
          "2011-10-07T00:00:00",
          "2011-10-14T00:00:00",
          "2011-10-21T00:00:00",
          "2011-10-28T00:00:00",
          "2011-11-04T00:00:00",
          "2011-11-11T00:00:00",
          "2011-11-18T00:00:00",
          "2011-11-25T00:00:00",
          "2011-12-02T00:00:00",
          "2011-12-09T00:00:00",
          "2011-12-16T00:00:00",
          "2011-12-23T00:00:00",
          "2011-12-30T00:00:00",
          "2012-01-06T00:00:00",
          "2012-01-13T00:00:00",
          "2012-01-20T00:00:00",
          "2012-01-27T00:00:00",
          "2012-02-03T00:00:00",
          "2012-02-10T00:00:00",
          "2012-02-17T00:00:00",
          "2012-02-24T00:00:00",
          "2012-03-02T00:00:00",
          "2012-03-09T00:00:00",
          "2012-03-16T00:00:00",
          "2012-03-23T00:00:00",
          "2012-03-30T00:00:00",
          "2012-04-06T00:00:00",
          "2012-04-13T00:00:00",
          "2012-04-20T00:00:00",
          "2012-04-27T00:00:00",
          "2012-05-04T00:00:00",
          "2012-05-11T00:00:00",
          "2012-05-18T00:00:00",
          "2012-05-25T00:00:00",
          "2012-06-01T00:00:00",
          "2012-06-08T00:00:00",
          "2012-06-15T00:00:00",
          "2012-06-22T00:00:00",
          "2012-06-29T00:00:00",
          "2012-07-06T00:00:00",
          "2012-07-13T00:00:00",
          "2012-07-20T00:00:00",
          "2012-07-27T00:00:00",
          "2012-08-03T00:00:00",
          "2012-08-10T00:00:00",
          "2012-08-17T00:00:00",
          "2012-08-24T00:00:00",
          "2012-08-31T00:00:00",
          "2012-09-07T00:00:00",
          "2012-09-14T00:00:00",
          "2012-09-21T00:00:00",
          "2012-09-28T00:00:00",
          "2012-10-05T00:00:00",
          "2012-10-12T00:00:00",
          "2012-10-19T00:00:00",
          "2012-10-26T00:00:00",
          "2012-10-28T00:00:00",
          "2012-11-04T00:00:00",
          "2012-11-11T00:00:00",
          "2012-11-18T00:00:00",
          "2012-11-25T00:00:00",
          "2012-12-02T00:00:00",
          "2012-12-09T00:00:00",
          "2012-12-16T00:00:00",
          "2012-12-23T00:00:00",
          "2012-12-30T00:00:00",
          "2013-01-06T00:00:00",
          "2013-01-13T00:00:00"
         ],
         "xaxis": "x",
         "y": [
          5783.7141716,
          5771.35383387955,
          5758.993496159099,
          5746.633158438648,
          5734.272820718197,
          5721.912482997746,
          5709.552144755326,
          5697.191806512904,
          5684.831468270483,
          5672.471130028062,
          5660.110793441582,
          5647.750456855102,
          5635.390120268622,
          5623.029783682142,
          5610.669447095663,
          5598.309111446634,
          5585.948775797606,
          5573.588440148577,
          5561.228104499549,
          5548.867769426424,
          5536.507434353298,
          5524.147099280173,
          5511.786764207048,
          5499.426429133921,
          5487.066095039667,
          5474.7057609454105,
          5462.345426851155,
          5449.985092756899,
          5437.624759843562,
          5425.264426930226,
          5412.90409401689,
          5400.543761103553,
          5388.183428190216,
          5375.82309587885,
          5363.462763567483,
          5351.102431256117,
          5338.74209894475,
          5326.38176726288,
          5314.021435581009,
          5301.66110389914,
          5289.30077221727,
          5276.940440535399,
          5264.5802577819695,
          5252.22007502854,
          5239.859892275111,
          5227.49970952168,
          5215.140070079491,
          5202.780430637301,
          5190.420791195111,
          5178.0611517529205,
          5165.70151231073,
          5153.341999576542,
          5140.982486842353,
          5128.622974108165,
          5116.2634613739765,
          5103.904302544869,
          5091.545143715762,
          5079.185984886655,
          5066.826826057548,
          5054.46766722844,
          5042.108521056246,
          5029.7493748840525,
          5017.390228711858,
          5005.031082539664,
          4992.728357844707,
          4980.425633149751,
          4968.122908454795,
          4955.820183759839,
          4943.517459064883,
          4931.214735563577,
          4918.912012062271,
          4906.609288560966,
          4894.306565059661,
          4882.003855791943,
          4869.701146524226,
          4857.398437256509,
          4845.095727988792,
          4832.793018721075,
          4820.490310786646,
          4808.187602852217,
          4795.884894917788,
          4783.58218698336,
          4771.279493152234,
          4758.976799321107,
          4746.67410548998,
          4734.371411658854,
          4722.068717827728,
          4710.533751199136,
          4698.9987845705455,
          4687.4638179419535,
          4675.928851313362,
          4664.393885809612,
          4652.858920305862,
          4641.323954802112,
          4629.788989298362,
          4618.254023794612,
          4606.719060313605,
          4595.184096832596,
          4583.649133351589,
          4572.11416987058,
          4560.579207016901,
          4549.044244163221,
          4537.509281309542,
          4525.974318455863,
          4514.439355602183,
          4502.9043930642565,
          4491.36943052633,
          4479.834467988403,
          4468.299505450476,
          4456.764543415679,
          4445.229581380882,
          4433.694619346085,
          4422.159657311288,
          4410.6246952764905,
          4399.089732806685,
          4387.554770336879,
          4376.019807867074,
          4364.484845397268,
          4352.949882927463,
          4341.414920457657,
          4329.879957987851,
          4318.344995518046,
          4306.810033048239,
          4295.275070578435,
          4283.740108108628,
          4272.205145638823,
          4260.670183169017,
          4249.1352206992115,
          4237.600258229406,
          4226.0652957596,
          4214.530333289795,
          4202.995370819989,
          4191.460408350184,
          4179.925445880377,
          4168.390483410572,
          4156.855520940766,
          4145.32055847096,
          4133.785596001155,
          4122.250633531349,
          4110.715671061544,
          4099.180708591738,
          4087.645746121932,
          4076.110783652126,
          4072.815080089325,
          4061.290326074775,
          4049.7756425213943,
          4038.270240930121,
          4026.7740603839557,
          4015.2883771379543,
          4003.8059366765074,
          3992.3194864361026,
          3980.828933764424,
          3969.345427689315,
          3957.8651361467178,
          3946.390316262424
         ],
         "yaxis": "y"
        },
        {
         "fill": "tonexty",
         "fillcolor": "rgba(0, 114, 178, 0.2)",
         "line": {
          "color": "rgba(0, 114, 178, 0.2)",
          "width": 0
         },
         "mode": "lines",
         "name": "trend_lower",
         "type": "scatter",
         "x": [
          "2010-02-05T00:00:00",
          "2010-02-12T00:00:00",
          "2010-02-19T00:00:00",
          "2010-02-26T00:00:00",
          "2010-03-05T00:00:00",
          "2010-03-12T00:00:00",
          "2010-03-19T00:00:00",
          "2010-03-26T00:00:00",
          "2010-04-02T00:00:00",
          "2010-04-09T00:00:00",
          "2010-04-16T00:00:00",
          "2010-04-23T00:00:00",
          "2010-04-30T00:00:00",
          "2010-05-07T00:00:00",
          "2010-05-14T00:00:00",
          "2010-05-21T00:00:00",
          "2010-05-28T00:00:00",
          "2010-06-04T00:00:00",
          "2010-06-11T00:00:00",
          "2010-06-18T00:00:00",
          "2010-06-25T00:00:00",
          "2010-07-02T00:00:00",
          "2010-07-09T00:00:00",
          "2010-07-16T00:00:00",
          "2010-07-23T00:00:00",
          "2010-07-30T00:00:00",
          "2010-08-06T00:00:00",
          "2010-08-13T00:00:00",
          "2010-08-20T00:00:00",
          "2010-08-27T00:00:00",
          "2010-09-03T00:00:00",
          "2010-09-10T00:00:00",
          "2010-09-17T00:00:00",
          "2010-09-24T00:00:00",
          "2010-10-01T00:00:00",
          "2010-10-08T00:00:00",
          "2010-10-15T00:00:00",
          "2010-10-22T00:00:00",
          "2010-10-29T00:00:00",
          "2010-11-05T00:00:00",
          "2010-11-12T00:00:00",
          "2010-11-19T00:00:00",
          "2010-11-26T00:00:00",
          "2010-12-03T00:00:00",
          "2010-12-10T00:00:00",
          "2010-12-17T00:00:00",
          "2010-12-24T00:00:00",
          "2010-12-31T00:00:00",
          "2011-01-07T00:00:00",
          "2011-01-14T00:00:00",
          "2011-01-21T00:00:00",
          "2011-01-28T00:00:00",
          "2011-02-04T00:00:00",
          "2011-02-11T00:00:00",
          "2011-02-18T00:00:00",
          "2011-02-25T00:00:00",
          "2011-03-04T00:00:00",
          "2011-03-11T00:00:00",
          "2011-03-18T00:00:00",
          "2011-03-25T00:00:00",
          "2011-04-01T00:00:00",
          "2011-04-08T00:00:00",
          "2011-04-15T00:00:00",
          "2011-04-22T00:00:00",
          "2011-04-29T00:00:00",
          "2011-05-06T00:00:00",
          "2011-05-13T00:00:00",
          "2011-05-20T00:00:00",
          "2011-05-27T00:00:00",
          "2011-06-03T00:00:00",
          "2011-06-10T00:00:00",
          "2011-06-17T00:00:00",
          "2011-06-24T00:00:00",
          "2011-07-01T00:00:00",
          "2011-07-08T00:00:00",
          "2011-07-15T00:00:00",
          "2011-07-22T00:00:00",
          "2011-07-29T00:00:00",
          "2011-08-05T00:00:00",
          "2011-08-12T00:00:00",
          "2011-08-19T00:00:00",
          "2011-08-26T00:00:00",
          "2011-09-02T00:00:00",
          "2011-09-09T00:00:00",
          "2011-09-16T00:00:00",
          "2011-09-23T00:00:00",
          "2011-09-30T00:00:00",
          "2011-10-07T00:00:00",
          "2011-10-14T00:00:00",
          "2011-10-21T00:00:00",
          "2011-10-28T00:00:00",
          "2011-11-04T00:00:00",
          "2011-11-11T00:00:00",
          "2011-11-18T00:00:00",
          "2011-11-25T00:00:00",
          "2011-12-02T00:00:00",
          "2011-12-09T00:00:00",
          "2011-12-16T00:00:00",
          "2011-12-23T00:00:00",
          "2011-12-30T00:00:00",
          "2012-01-06T00:00:00",
          "2012-01-13T00:00:00",
          "2012-01-20T00:00:00",
          "2012-01-27T00:00:00",
          "2012-02-03T00:00:00",
          "2012-02-10T00:00:00",
          "2012-02-17T00:00:00",
          "2012-02-24T00:00:00",
          "2012-03-02T00:00:00",
          "2012-03-09T00:00:00",
          "2012-03-16T00:00:00",
          "2012-03-23T00:00:00",
          "2012-03-30T00:00:00",
          "2012-04-06T00:00:00",
          "2012-04-13T00:00:00",
          "2012-04-20T00:00:00",
          "2012-04-27T00:00:00",
          "2012-05-04T00:00:00",
          "2012-05-11T00:00:00",
          "2012-05-18T00:00:00",
          "2012-05-25T00:00:00",
          "2012-06-01T00:00:00",
          "2012-06-08T00:00:00",
          "2012-06-15T00:00:00",
          "2012-06-22T00:00:00",
          "2012-06-29T00:00:00",
          "2012-07-06T00:00:00",
          "2012-07-13T00:00:00",
          "2012-07-20T00:00:00",
          "2012-07-27T00:00:00",
          "2012-08-03T00:00:00",
          "2012-08-10T00:00:00",
          "2012-08-17T00:00:00",
          "2012-08-24T00:00:00",
          "2012-08-31T00:00:00",
          "2012-09-07T00:00:00",
          "2012-09-14T00:00:00",
          "2012-09-21T00:00:00",
          "2012-09-28T00:00:00",
          "2012-10-05T00:00:00",
          "2012-10-12T00:00:00",
          "2012-10-19T00:00:00",
          "2012-10-26T00:00:00",
          "2012-10-28T00:00:00",
          "2012-11-04T00:00:00",
          "2012-11-11T00:00:00",
          "2012-11-18T00:00:00",
          "2012-11-25T00:00:00",
          "2012-12-02T00:00:00",
          "2012-12-09T00:00:00",
          "2012-12-16T00:00:00",
          "2012-12-23T00:00:00",
          "2012-12-30T00:00:00",
          "2013-01-06T00:00:00",
          "2013-01-13T00:00:00"
         ],
         "xaxis": "x",
         "y": [
          5783.7141716,
          5771.35383387955,
          5758.993496159099,
          5746.633158438648,
          5734.272820718197,
          5721.912482997746,
          5709.552144755326,
          5697.191806512904,
          5684.831468270483,
          5672.471130028062,
          5660.110793441582,
          5647.750456855102,
          5635.390120268622,
          5623.029783682142,
          5610.669447095663,
          5598.309111446634,
          5585.948775797606,
          5573.588440148577,
          5561.228104499549,
          5548.867769426424,
          5536.507434353298,
          5524.147099280173,
          5511.786764207048,
          5499.426429133921,
          5487.066095039667,
          5474.7057609454105,
          5462.345426851155,
          5449.985092756899,
          5437.624759843562,
          5425.264426930226,
          5412.90409401689,
          5400.543761103553,
          5388.183428190216,
          5375.82309587885,
          5363.462763567483,
          5351.102431256117,
          5338.74209894475,
          5326.38176726288,
          5314.021435581009,
          5301.66110389914,
          5289.30077221727,
          5276.940440535399,
          5264.5802577819695,
          5252.22007502854,
          5239.859892275111,
          5227.49970952168,
          5215.140070079491,
          5202.780430637301,
          5190.420791195111,
          5178.0611517529205,
          5165.70151231073,
          5153.341999576542,
          5140.982486842353,
          5128.622974108165,
          5116.2634613739765,
          5103.904302544869,
          5091.545143715762,
          5079.185984886655,
          5066.826826057548,
          5054.46766722844,
          5042.108521056246,
          5029.7493748840525,
          5017.390228711858,
          5005.031082539664,
          4992.728357844707,
          4980.425633149751,
          4968.122908454795,
          4955.820183759839,
          4943.517459064883,
          4931.214735563577,
          4918.912012062271,
          4906.609288560966,
          4894.306565059661,
          4882.003855791943,
          4869.701146524226,
          4857.398437256509,
          4845.095727988792,
          4832.793018721075,
          4820.490310786646,
          4808.187602852217,
          4795.884894917788,
          4783.58218698336,
          4771.279493152234,
          4758.976799321107,
          4746.67410548998,
          4734.371411658854,
          4722.068717827728,
          4710.533751199136,
          4698.9987845705455,
          4687.4638179419535,
          4675.928851313362,
          4664.393885809612,
          4652.858920305862,
          4641.323954802112,
          4629.788989298362,
          4618.254023794612,
          4606.719060313605,
          4595.184096832596,
          4583.649133351589,
          4572.11416987058,
          4560.579207016901,
          4549.044244163221,
          4537.509281309542,
          4525.974318455863,
          4514.439355602183,
          4502.9043930642565,
          4491.36943052633,
          4479.834467988403,
          4468.299505450476,
          4456.764543415679,
          4445.229581380882,
          4433.694619346085,
          4422.159657311288,
          4410.6246952764905,
          4399.089732806685,
          4387.554770336879,
          4376.019807867074,
          4364.484845397268,
          4352.949882927463,
          4341.414920457657,
          4329.879957987851,
          4318.344995518046,
          4306.810033048239,
          4295.275070578435,
          4283.740108108628,
          4272.205145638823,
          4260.670183169017,
          4249.1352206992115,
          4237.600258229406,
          4226.0652957596,
          4214.530333289795,
          4202.995370819989,
          4191.460408350184,
          4179.925445880377,
          4168.390483410572,
          4156.855520940766,
          4145.32055847096,
          4133.785596001155,
          4122.250633531349,
          4110.715671061544,
          4099.180708591738,
          4087.645746121932,
          4076.110783652126,
          4072.8150418010523,
          4061.261131193598,
          4049.699181450822,
          4038.1207083826703,
          4026.5384709027126,
          4014.960380006946,
          4003.374697307965,
          3991.7862616312664,
          3980.188674099313,
          3968.5866395396724,
          3956.994036442712,
          3945.3749724848753
         ],
         "yaxis": "y"
        },
        {
         "line": {
          "color": "#0072B2",
          "width": 2
         },
         "mode": "lines",
         "name": "extra_regressors_additive",
         "type": "scatter",
         "x": [
          "2010-02-05T00:00:00",
          "2010-02-12T00:00:00",
          "2010-02-19T00:00:00",
          "2010-02-26T00:00:00",
          "2010-03-05T00:00:00",
          "2010-03-12T00:00:00",
          "2010-03-19T00:00:00",
          "2010-03-26T00:00:00",
          "2010-04-02T00:00:00",
          "2010-04-09T00:00:00",
          "2010-04-16T00:00:00",
          "2010-04-23T00:00:00",
          "2010-04-30T00:00:00",
          "2010-05-07T00:00:00",
          "2010-05-14T00:00:00",
          "2010-05-21T00:00:00",
          "2010-05-28T00:00:00",
          "2010-06-04T00:00:00",
          "2010-06-11T00:00:00",
          "2010-06-18T00:00:00",
          "2010-06-25T00:00:00",
          "2010-07-02T00:00:00",
          "2010-07-09T00:00:00",
          "2010-07-16T00:00:00",
          "2010-07-23T00:00:00",
          "2010-07-30T00:00:00",
          "2010-08-06T00:00:00",
          "2010-08-13T00:00:00",
          "2010-08-20T00:00:00",
          "2010-08-27T00:00:00",
          "2010-09-03T00:00:00",
          "2010-09-10T00:00:00",
          "2010-09-17T00:00:00",
          "2010-09-24T00:00:00",
          "2010-10-01T00:00:00",
          "2010-10-08T00:00:00",
          "2010-10-15T00:00:00",
          "2010-10-22T00:00:00",
          "2010-10-29T00:00:00",
          "2010-11-05T00:00:00",
          "2010-11-12T00:00:00",
          "2010-11-19T00:00:00",
          "2010-11-26T00:00:00",
          "2010-12-03T00:00:00",
          "2010-12-10T00:00:00",
          "2010-12-17T00:00:00",
          "2010-12-24T00:00:00",
          "2010-12-31T00:00:00",
          "2011-01-07T00:00:00",
          "2011-01-14T00:00:00",
          "2011-01-21T00:00:00",
          "2011-01-28T00:00:00",
          "2011-02-04T00:00:00",
          "2011-02-11T00:00:00",
          "2011-02-18T00:00:00",
          "2011-02-25T00:00:00",
          "2011-03-04T00:00:00",
          "2011-03-11T00:00:00",
          "2011-03-18T00:00:00",
          "2011-03-25T00:00:00",
          "2011-04-01T00:00:00",
          "2011-04-08T00:00:00",
          "2011-04-15T00:00:00",
          "2011-04-22T00:00:00",
          "2011-04-29T00:00:00",
          "2011-05-06T00:00:00",
          "2011-05-13T00:00:00",
          "2011-05-20T00:00:00",
          "2011-05-27T00:00:00",
          "2011-06-03T00:00:00",
          "2011-06-10T00:00:00",
          "2011-06-17T00:00:00",
          "2011-06-24T00:00:00",
          "2011-07-01T00:00:00",
          "2011-07-08T00:00:00",
          "2011-07-15T00:00:00",
          "2011-07-22T00:00:00",
          "2011-07-29T00:00:00",
          "2011-08-05T00:00:00",
          "2011-08-12T00:00:00",
          "2011-08-19T00:00:00",
          "2011-08-26T00:00:00",
          "2011-09-02T00:00:00",
          "2011-09-09T00:00:00",
          "2011-09-16T00:00:00",
          "2011-09-23T00:00:00",
          "2011-09-30T00:00:00",
          "2011-10-07T00:00:00",
          "2011-10-14T00:00:00",
          "2011-10-21T00:00:00",
          "2011-10-28T00:00:00",
          "2011-11-04T00:00:00",
          "2011-11-11T00:00:00",
          "2011-11-18T00:00:00",
          "2011-11-25T00:00:00",
          "2011-12-02T00:00:00",
          "2011-12-09T00:00:00",
          "2011-12-16T00:00:00",
          "2011-12-23T00:00:00",
          "2011-12-30T00:00:00",
          "2012-01-06T00:00:00",
          "2012-01-13T00:00:00",
          "2012-01-20T00:00:00",
          "2012-01-27T00:00:00",
          "2012-02-03T00:00:00",
          "2012-02-10T00:00:00",
          "2012-02-17T00:00:00",
          "2012-02-24T00:00:00",
          "2012-03-02T00:00:00",
          "2012-03-09T00:00:00",
          "2012-03-16T00:00:00",
          "2012-03-23T00:00:00",
          "2012-03-30T00:00:00",
          "2012-04-06T00:00:00",
          "2012-04-13T00:00:00",
          "2012-04-20T00:00:00",
          "2012-04-27T00:00:00",
          "2012-05-04T00:00:00",
          "2012-05-11T00:00:00",
          "2012-05-18T00:00:00",
          "2012-05-25T00:00:00",
          "2012-06-01T00:00:00",
          "2012-06-08T00:00:00",
          "2012-06-15T00:00:00",
          "2012-06-22T00:00:00",
          "2012-06-29T00:00:00",
          "2012-07-06T00:00:00",
          "2012-07-13T00:00:00",
          "2012-07-20T00:00:00",
          "2012-07-27T00:00:00",
          "2012-08-03T00:00:00",
          "2012-08-10T00:00:00",
          "2012-08-17T00:00:00",
          "2012-08-24T00:00:00",
          "2012-08-31T00:00:00",
          "2012-09-07T00:00:00",
          "2012-09-14T00:00:00",
          "2012-09-21T00:00:00",
          "2012-09-28T00:00:00",
          "2012-10-05T00:00:00",
          "2012-10-12T00:00:00",
          "2012-10-19T00:00:00",
          "2012-10-26T00:00:00",
          "2012-10-28T00:00:00",
          "2012-11-04T00:00:00",
          "2012-11-11T00:00:00",
          "2012-11-18T00:00:00",
          "2012-11-25T00:00:00",
          "2012-12-02T00:00:00",
          "2012-12-09T00:00:00",
          "2012-12-16T00:00:00",
          "2012-12-23T00:00:00",
          "2012-12-30T00:00:00",
          "2013-01-06T00:00:00",
          "2013-01-13T00:00:00"
         ],
         "xaxis": "x2",
         "y": [
          -2437.142308261373,
          150.66618834065795,
          -2660.262170641785,
          -2032.151633688524,
          -2044.3388530622442,
          -985.9257243753324,
          -1286.8562950648798,
          -1580.2870384475218,
          -565.9353951886742,
          -229.38064479133052,
          -186.25663777662965,
          -325.00344295436383,
          -84.07149072005411,
          397.7924137485667,
          606.8500999285328,
          762.4715165468031,
          1137.4628818920332,
          1160.8998422261102,
          1136.5254034786708,
          1481.5174595962822,
          1503.079463103633,
          1181.5243673200976,
          1141.2127955454862,
          1391.5195319134273,
          1411.2065785940515,
          1268.7098597628642,
          1767.44837567202,
          1752.4487210582108,
          1719.6369765905035,
          1585.5775634795832,
          1209.6487197209897,
          3917.454453233495,
          1294.021776923667,
          1184.336802560187,
          335.918838466604,
          -410.31397857040406,
          -105.63349422740389,
          145.6107205538996,
          124.98619545991205,
          -896.8652751058398,
          -815.3046531432526,
          -1584.0369521009748,
          2589.047541498017,
          -1784.657332560672,
          -2060.275986089417,
          -1731.221062998977,
          -1497.7889380715715,
          1080.644774396829,
          -1878.4051738969797,
          -3084.939891895258,
          -2274.958542749561,
          -2294.6455894301853,
          -2440.892221914825,
          -48.07923529231339,
          -1026.2372961499445,
          -506.8742551468009,
          -818.1170883833419,
          -1382.479093227913,
          -519.998952933884,
          155.9229831008934,
          -856.5537033312278,
          -43.75991894544124,
          277.7951768380929,
          439.04146393654173,
          349.0435362536871,
          -346.56544646171494,
          687.4732434777573,
          -63.44696562606658,
          882.4687534572768,
          1377.4573557129806,
          1389.6445750867001,
          1697.1374946697888,
          1431.8311036880389,
          1616.5143511205647,
          1642.7637466947308,
          1896.820396716125,
          1637.138876214552,
          1736.5115880310386,
          2188.3761832720415,
          2104.9406044827274,
          2028.0673745869547,
          1842.4466487410655,
          1830.2594293673455,
          3665.2727600388275,
          1090.5889612238793,
          702.4728980915662,
          1067.1520008898024,
          94.04940781893073,
          321.85666226615734,
          -430.93850366439153,
          -162.81967744255275,
          -1249.3571585303566,
          -862.1785738114064,
          -567.8103520154007,
          2178.4319964449905,
          -1818.4065554417434,
          -2285.270805296555,
          -1563.4124270069865,
          -1907.4670047112352,
          716.9031500119554,
          -1809.0317713081129,
          -1854.0307351495399,
          -1330.917780492944,
          -1316.8556042924981,
          -1102.173047632354,
          1042.2081594489432,
          -2154.961305839087,
          -1036.5495586969384,
          -688.7450673392373,
          -894.9903182791141,
          -334.3782270879954,
          -222.81829589778832,
          -65.32192245279235,
          199.04699011559558,
          71.54992589821606,
          -145.00758758865322,
          -100.94610216058878,
          679.0359377574893,
          512.1647801788617,
          189.67220598196405,
          835.594832789123,
          904.0307569646278,
          936.842501432335,
          1035.2777348354577,
          945.2798071526031,
          1553.7032974252384,
          1243.3979426020603,
          826.2200486554927,
          1135.5879250653074,
          1345.5830896586358,
          1669.0131422688971,
          1569.6404304524108,
          1550.890862185149,
          876.8438829770981,
          1142.1502739588484,
          4411.505577075835,
          624.662189782431,
          146.54819896726318,
          728.7222936657324,
          22.801048403336523,
          -498.4369494265329,
          -31.57269957172169,
          79.98723161848406,
          0,
          0,
          0,
          0,
          0,
          0,
          0,
          0,
          0,
          0,
          0,
          0
         ],
         "yaxis": "y2"
        },
        {
         "line": {
          "color": "#0072B2",
          "width": 2
         },
         "mode": "lines",
         "name": "yearly",
         "type": "scatter",
         "x": [
          "2017-01-01T00:00:00",
          "2017-01-02T00:00:59.178082",
          "2017-01-03T00:01:58.356164",
          "2017-01-04T00:02:57.534246",
          "2017-01-05T00:03:56.712328",
          "2017-01-06T00:04:55.890411",
          "2017-01-07T00:05:55.068493",
          "2017-01-08T00:06:54.246575",
          "2017-01-09T00:07:53.424657",
          "2017-01-10T00:08:52.602739",
          "2017-01-11T00:09:51.780822",
          "2017-01-12T00:10:50.958904",
          "2017-01-13T00:11:50.136986",
          "2017-01-14T00:12:49.315068",
          "2017-01-15T00:13:48.493150",
          "2017-01-16T00:14:47.671232",
          "2017-01-17T00:15:46.849315",
          "2017-01-18T00:16:46.027397",
          "2017-01-19T00:17:45.205479",
          "2017-01-20T00:18:44.383561",
          "2017-01-21T00:19:43.561643",
          "2017-01-22T00:20:42.739726",
          "2017-01-23T00:21:41.917808",
          "2017-01-24T00:22:41.095890",
          "2017-01-25T00:23:40.273972",
          "2017-01-26T00:24:39.452054",
          "2017-01-27T00:25:38.630137",
          "2017-01-28T00:26:37.808219",
          "2017-01-29T00:27:36.986301",
          "2017-01-30T00:28:36.164383",
          "2017-01-31T00:29:35.342465",
          "2017-02-01T00:30:34.520547",
          "2017-02-02T00:31:33.698630",
          "2017-02-03T00:32:32.876712",
          "2017-02-04T00:33:32.054794",
          "2017-02-05T00:34:31.232876",
          "2017-02-06T00:35:30.410958",
          "2017-02-07T00:36:29.589041",
          "2017-02-08T00:37:28.767123",
          "2017-02-09T00:38:27.945205",
          "2017-02-10T00:39:27.123287",
          "2017-02-11T00:40:26.301369",
          "2017-02-12T00:41:25.479452",
          "2017-02-13T00:42:24.657534",
          "2017-02-14T00:43:23.835616",
          "2017-02-15T00:44:23.013698",
          "2017-02-16T00:45:22.191780",
          "2017-02-17T00:46:21.369862",
          "2017-02-18T00:47:20.547945",
          "2017-02-19T00:48:19.726027",
          "2017-02-20T00:49:18.904109",
          "2017-02-21T00:50:18.082191",
          "2017-02-22T00:51:17.260273",
          "2017-02-23T00:52:16.438356",
          "2017-02-24T00:53:15.616438",
          "2017-02-25T00:54:14.794520",
          "2017-02-26T00:55:13.972602",
          "2017-02-27T00:56:13.150684",
          "2017-02-28T00:57:12.328767",
          "2017-03-01T00:58:11.506849",
          "2017-03-02T00:59:10.684931",
          "2017-03-03T01:00:09.863013",
          "2017-03-04T01:01:09.041095",
          "2017-03-05T01:02:08.219177",
          "2017-03-06T01:03:07.397260",
          "2017-03-07T01:04:06.575342",
          "2017-03-08T01:05:05.753424",
          "2017-03-09T01:06:04.931506",
          "2017-03-10T01:07:04.109588",
          "2017-03-11T01:08:03.287671",
          "2017-03-12T01:09:02.465753",
          "2017-03-13T01:10:01.643835",
          "2017-03-14T01:11:00.821917",
          "2017-03-15T01:12:00",
          "2017-03-16T01:12:59.178082",
          "2017-03-17T01:13:58.356164",
          "2017-03-18T01:14:57.534246",
          "2017-03-19T01:15:56.712328",
          "2017-03-20T01:16:55.890411",
          "2017-03-21T01:17:55.068493",
          "2017-03-22T01:18:54.246575",
          "2017-03-23T01:19:53.424657",
          "2017-03-24T01:20:52.602739",
          "2017-03-25T01:21:51.780822",
          "2017-03-26T01:22:50.958904",
          "2017-03-27T01:23:50.136986",
          "2017-03-28T01:24:49.315068",
          "2017-03-29T01:25:48.493150",
          "2017-03-30T01:26:47.671232",
          "2017-03-31T01:27:46.849315",
          "2017-04-01T01:28:46.027397",
          "2017-04-02T01:29:45.205479",
          "2017-04-03T01:30:44.383561",
          "2017-04-04T01:31:43.561643",
          "2017-04-05T01:32:42.739726",
          "2017-04-06T01:33:41.917808",
          "2017-04-07T01:34:41.095890",
          "2017-04-08T01:35:40.273972",
          "2017-04-09T01:36:39.452054",
          "2017-04-10T01:37:38.630137",
          "2017-04-11T01:38:37.808219",
          "2017-04-12T01:39:36.986301",
          "2017-04-13T01:40:36.164383",
          "2017-04-14T01:41:35.342465",
          "2017-04-15T01:42:34.520547",
          "2017-04-16T01:43:33.698630",
          "2017-04-17T01:44:32.876712",
          "2017-04-18T01:45:32.054794",
          "2017-04-19T01:46:31.232876",
          "2017-04-20T01:47:30.410958",
          "2017-04-21T01:48:29.589041",
          "2017-04-22T01:49:28.767123",
          "2017-04-23T01:50:27.945205",
          "2017-04-24T01:51:27.123287",
          "2017-04-25T01:52:26.301369",
          "2017-04-26T01:53:25.479452",
          "2017-04-27T01:54:24.657534",
          "2017-04-28T01:55:23.835616",
          "2017-04-29T01:56:23.013698",
          "2017-04-30T01:57:22.191780",
          "2017-05-01T01:58:21.369862",
          "2017-05-02T01:59:20.547945",
          "2017-05-03T02:00:19.726027",
          "2017-05-04T02:01:18.904109",
          "2017-05-05T02:02:18.082191",
          "2017-05-06T02:03:17.260273",
          "2017-05-07T02:04:16.438356",
          "2017-05-08T02:05:15.616438",
          "2017-05-09T02:06:14.794520",
          "2017-05-10T02:07:13.972602",
          "2017-05-11T02:08:13.150684",
          "2017-05-12T02:09:12.328767",
          "2017-05-13T02:10:11.506849",
          "2017-05-14T02:11:10.684931",
          "2017-05-15T02:12:09.863013",
          "2017-05-16T02:13:09.041095",
          "2017-05-17T02:14:08.219177",
          "2017-05-18T02:15:07.397260",
          "2017-05-19T02:16:06.575342",
          "2017-05-20T02:17:05.753424",
          "2017-05-21T02:18:04.931506",
          "2017-05-22T02:19:04.109588",
          "2017-05-23T02:20:03.287671",
          "2017-05-24T02:21:02.465753",
          "2017-05-25T02:22:01.643835",
          "2017-05-26T02:23:00.821917",
          "2017-05-27T02:24:00",
          "2017-05-28T02:24:59.178082",
          "2017-05-29T02:25:58.356164",
          "2017-05-30T02:26:57.534246",
          "2017-05-31T02:27:56.712328",
          "2017-06-01T02:28:55.890411",
          "2017-06-02T02:29:55.068493",
          "2017-06-03T02:30:54.246575",
          "2017-06-04T02:31:53.424657",
          "2017-06-05T02:32:52.602739",
          "2017-06-06T02:33:51.780822",
          "2017-06-07T02:34:50.958904",
          "2017-06-08T02:35:50.136986",
          "2017-06-09T02:36:49.315068",
          "2017-06-10T02:37:48.493150",
          "2017-06-11T02:38:47.671232",
          "2017-06-12T02:39:46.849315",
          "2017-06-13T02:40:46.027397",
          "2017-06-14T02:41:45.205479",
          "2017-06-15T02:42:44.383561",
          "2017-06-16T02:43:43.561643",
          "2017-06-17T02:44:42.739726",
          "2017-06-18T02:45:41.917808",
          "2017-06-19T02:46:41.095890",
          "2017-06-20T02:47:40.273972",
          "2017-06-21T02:48:39.452054",
          "2017-06-22T02:49:38.630137",
          "2017-06-23T02:50:37.808219",
          "2017-06-24T02:51:36.986301",
          "2017-06-25T02:52:36.164383",
          "2017-06-26T02:53:35.342465",
          "2017-06-27T02:54:34.520547",
          "2017-06-28T02:55:33.698630",
          "2017-06-29T02:56:32.876712",
          "2017-06-30T02:57:32.054794",
          "2017-07-01T02:58:31.232876",
          "2017-07-02T02:59:30.410958",
          "2017-07-03T03:00:29.589041",
          "2017-07-04T03:01:28.767123",
          "2017-07-05T03:02:27.945205",
          "2017-07-06T03:03:27.123287",
          "2017-07-07T03:04:26.301369",
          "2017-07-08T03:05:25.479452",
          "2017-07-09T03:06:24.657534",
          "2017-07-10T03:07:23.835616",
          "2017-07-11T03:08:23.013698",
          "2017-07-12T03:09:22.191780",
          "2017-07-13T03:10:21.369862",
          "2017-07-14T03:11:20.547945",
          "2017-07-15T03:12:19.726027",
          "2017-07-16T03:13:18.904109",
          "2017-07-17T03:14:18.082191",
          "2017-07-18T03:15:17.260273",
          "2017-07-19T03:16:16.438356",
          "2017-07-20T03:17:15.616438",
          "2017-07-21T03:18:14.794520",
          "2017-07-22T03:19:13.972602",
          "2017-07-23T03:20:13.150684",
          "2017-07-24T03:21:12.328767",
          "2017-07-25T03:22:11.506849",
          "2017-07-26T03:23:10.684931",
          "2017-07-27T03:24:09.863013",
          "2017-07-28T03:25:09.041095",
          "2017-07-29T03:26:08.219177",
          "2017-07-30T03:27:07.397260",
          "2017-07-31T03:28:06.575342",
          "2017-08-01T03:29:05.753424",
          "2017-08-02T03:30:04.931506",
          "2017-08-03T03:31:04.109588",
          "2017-08-04T03:32:03.287671",
          "2017-08-05T03:33:02.465753",
          "2017-08-06T03:34:01.643835",
          "2017-08-07T03:35:00.821917",
          "2017-08-08T03:36:00",
          "2017-08-09T03:36:59.178082",
          "2017-08-10T03:37:58.356164",
          "2017-08-11T03:38:57.534246",
          "2017-08-12T03:39:56.712328",
          "2017-08-13T03:40:55.890411",
          "2017-08-14T03:41:55.068493",
          "2017-08-15T03:42:54.246575",
          "2017-08-16T03:43:53.424657",
          "2017-08-17T03:44:52.602739",
          "2017-08-18T03:45:51.780822",
          "2017-08-19T03:46:50.958904",
          "2017-08-20T03:47:50.136986",
          "2017-08-21T03:48:49.315068",
          "2017-08-22T03:49:48.493150",
          "2017-08-23T03:50:47.671232",
          "2017-08-24T03:51:46.849315",
          "2017-08-25T03:52:46.027397",
          "2017-08-26T03:53:45.205479",
          "2017-08-27T03:54:44.383561",
          "2017-08-28T03:55:43.561643",
          "2017-08-29T03:56:42.739726",
          "2017-08-30T03:57:41.917808",
          "2017-08-31T03:58:41.095890",
          "2017-09-01T03:59:40.273972",
          "2017-09-02T04:00:39.452054",
          "2017-09-03T04:01:38.630137",
          "2017-09-04T04:02:37.808219",
          "2017-09-05T04:03:36.986301",
          "2017-09-06T04:04:36.164383",
          "2017-09-07T04:05:35.342465",
          "2017-09-08T04:06:34.520547",
          "2017-09-09T04:07:33.698630",
          "2017-09-10T04:08:32.876712",
          "2017-09-11T04:09:32.054794",
          "2017-09-12T04:10:31.232876",
          "2017-09-13T04:11:30.410958",
          "2017-09-14T04:12:29.589041",
          "2017-09-15T04:13:28.767123",
          "2017-09-16T04:14:27.945205",
          "2017-09-17T04:15:27.123287",
          "2017-09-18T04:16:26.301369",
          "2017-09-19T04:17:25.479452",
          "2017-09-20T04:18:24.657534",
          "2017-09-21T04:19:23.835616",
          "2017-09-22T04:20:23.013698",
          "2017-09-23T04:21:22.191780",
          "2017-09-24T04:22:21.369862",
          "2017-09-25T04:23:20.547945",
          "2017-09-26T04:24:19.726027",
          "2017-09-27T04:25:18.904109",
          "2017-09-28T04:26:18.082191",
          "2017-09-29T04:27:17.260273",
          "2017-09-30T04:28:16.438356",
          "2017-10-01T04:29:15.616438",
          "2017-10-02T04:30:14.794520",
          "2017-10-03T04:31:13.972602",
          "2017-10-04T04:32:13.150684",
          "2017-10-05T04:33:12.328767",
          "2017-10-06T04:34:11.506849",
          "2017-10-07T04:35:10.684931",
          "2017-10-08T04:36:09.863013",
          "2017-10-09T04:37:09.041095",
          "2017-10-10T04:38:08.219177",
          "2017-10-11T04:39:07.397260",
          "2017-10-12T04:40:06.575342",
          "2017-10-13T04:41:05.753424",
          "2017-10-14T04:42:04.931506",
          "2017-10-15T04:43:04.109588",
          "2017-10-16T04:44:03.287671",
          "2017-10-17T04:45:02.465753",
          "2017-10-18T04:46:01.643835",
          "2017-10-19T04:47:00.821917",
          "2017-10-20T04:48:00",
          "2017-10-21T04:48:59.178082",
          "2017-10-22T04:49:58.356164",
          "2017-10-23T04:50:57.534246",
          "2017-10-24T04:51:56.712328",
          "2017-10-25T04:52:55.890411",
          "2017-10-26T04:53:55.068493",
          "2017-10-27T04:54:54.246575",
          "2017-10-28T04:55:53.424657",
          "2017-10-29T04:56:52.602739",
          "2017-10-30T04:57:51.780822",
          "2017-10-31T04:58:50.958904",
          "2017-11-01T04:59:50.136986",
          "2017-11-02T05:00:49.315068",
          "2017-11-03T05:01:48.493150",
          "2017-11-04T05:02:47.671232",
          "2017-11-05T05:03:46.849315",
          "2017-11-06T05:04:46.027397",
          "2017-11-07T05:05:45.205479",
          "2017-11-08T05:06:44.383561",
          "2017-11-09T05:07:43.561643",
          "2017-11-10T05:08:42.739726",
          "2017-11-11T05:09:41.917808",
          "2017-11-12T05:10:41.095890",
          "2017-11-13T05:11:40.273972",
          "2017-11-14T05:12:39.452054",
          "2017-11-15T05:13:38.630137",
          "2017-11-16T05:14:37.808219",
          "2017-11-17T05:15:36.986301",
          "2017-11-18T05:16:36.164383",
          "2017-11-19T05:17:35.342465",
          "2017-11-20T05:18:34.520547",
          "2017-11-21T05:19:33.698630",
          "2017-11-22T05:20:32.876712",
          "2017-11-23T05:21:32.054794",
          "2017-11-24T05:22:31.232876",
          "2017-11-25T05:23:30.410958",
          "2017-11-26T05:24:29.589041",
          "2017-11-27T05:25:28.767123",
          "2017-11-28T05:26:27.945205",
          "2017-11-29T05:27:27.123287",
          "2017-11-30T05:28:26.301369",
          "2017-12-01T05:29:25.479452",
          "2017-12-02T05:30:24.657534",
          "2017-12-03T05:31:23.835616",
          "2017-12-04T05:32:23.013698",
          "2017-12-05T05:33:22.191780",
          "2017-12-06T05:34:21.369862",
          "2017-12-07T05:35:20.547945",
          "2017-12-08T05:36:19.726027",
          "2017-12-09T05:37:18.904109",
          "2017-12-10T05:38:18.082191",
          "2017-12-11T05:39:17.260273",
          "2017-12-12T05:40:16.438356",
          "2017-12-13T05:41:15.616438",
          "2017-12-14T05:42:14.794520",
          "2017-12-15T05:43:13.972602",
          "2017-12-16T05:44:13.150684",
          "2017-12-17T05:45:12.328767",
          "2017-12-18T05:46:11.506849",
          "2017-12-19T05:47:10.684931",
          "2017-12-20T05:48:09.863013",
          "2017-12-21T05:49:09.041095",
          "2017-12-22T05:50:08.219177",
          "2017-12-23T05:51:07.397260",
          "2017-12-24T05:52:06.575342",
          "2017-12-25T05:53:05.753424",
          "2017-12-26T05:54:04.931506",
          "2017-12-27T05:55:04.109588",
          "2017-12-28T05:56:03.287671",
          "2017-12-29T05:57:02.465753",
          "2017-12-30T05:58:01.643835",
          "2017-12-31T05:59:00.821917"
         ],
         "xaxis": "x3",
         "y": [
          5067.048949282039,
          4357.331507738396,
          3644.982943353508,
          2939.417674049258,
          2249.8677086167045,
          1585.2073131617976,
          953.7789722758804,
          363.26736718323224,
          -179.48391902618368,
          -668.5634922718117,
          -1099.0993447605006,
          -1467.3353870053513,
          -1770.686476850393,
          -2007.7515393578199,
          -2178.335275086061,
          -2283.40857284356,
          -2325.063174403994,
          -2306.438982768111,
          -2231.63262768963,
          -2105.584749880805,
          -1933.9534399150132,
          -1722.975409386039,
          -1479.3183300689652,
          -1209.9248492714019,
          -921.8712011879065,
          -622.1964367834685,
          -317.7684409192234,
          -15.14369366165826,
          279.5580220710847,
          560.7674877316238,
          823.5471349366013,
          1063.686104700169,
          1277.7427708512737,
          1463.0834587751544,
          1617.8988941937384,
          1741.1920650021284,
          1832.7643421132989,
          1893.1653283766102,
          1923.6359849283253,
          1926.0356697625587,
          1902.7570568134634,
          1856.633762238091,
          1790.8386189442297,
          1708.780976255848,
          1614.002443687386,
          1510.0736602979948,
          1400.5019661224942,
          1288.6339988543043,
          1177.579531513189,
          1070.1403891583345,
          968.7529085288355,
          875.4427656290698,
          791.79904328785,
          718.9517473698453,
          657.5742146409884,
          607.8933024048548,
          569.7130916402115,
          542.4494401948924,
          525.1754805184275,
          516.6719068783591,
          515.4863924502858,
          519.995114504508,
          528.466586583549,
          539.1247336247976,
          550.2108960570959,
          560.0409264951803,
          567.0572216033088,
          569.873801128296,
          567.3133541885809,
          558.4357609300462,
          542.5570073957663,
          519.258856024917,
          488.3891561272559,
          450.0527628308117,
          404.5965919595819,
          352.58286552759637,
          294.76056871686785,
          232.0299669908267,
          165.4040850993976,
          95.96740767306996,
          24.8381689698908,
          -46.87645992927799,
          -118.11479338729015,
          -187.89543073454342,
          -255.3465744857422,
          -319.73049092146977,
          -380.4580524173949,
          -437.1040207760038,
          -489.4079672588333,
          -537.2721859269658,
          -580.7528381011138,
          -620.0427131772071,
          -655.453759175701,
          -687.3902532986358,
          -716.3213356480549,
          -742.7509522378941,
          -767.1872325612056,
          -790.1108912243769,
          -811.9480448070522,
          -833.0429656535648,
          -853.6360892953785,
          -873.8464422982357,
          -893.6597366258482,
          -912.9212925367319,
          -931.337532924609,
          -948.4815431070436,
          -963.8060045254321,
          -976.6618777524355,
          -986.3216505823591,
          -992.0085452610998,
          -992.9277264412395,
          -988.3007590444024,
          -977.4011676659558,
          -959.5897639535548,
          -934.3498712841782,
          -901.3179137404685,
          -860.3122759260169,
          -811.3564852175325,
          -754.6961388414552,
          -690.8127471147873,
          -620.4238530538346,
          -544.4822039106076,
          -464.16422738257955,
          -380.85169065596534,
          -296.1053060320035,
          -211.63677619575984,
          -129.26530477424663,
          -50.87925538886066,
          21.61062343086282,
          86.31924715050965,
          141.43669461791163,
          185.27414414265772,
          216.3141315248052,
          233.25090678492788,
          235.02950349750122,
          220.87800082094375,
          190.33400537129182,
          143.26160579265976,
          79.86143382075218,
          0.6714858691917986,
          -93.44081956174196,
          -201.29661135765136,
          -321.42538212795364,
          -452.10516373180405,
          -591.3971849140878,
          -737.1923334851872,
          -887.2627576299607,
          -1039.3079136136125,
          -1191.0198012467517,
          -1340.131045013927,
          -1484.4703190700368,
          -1622.0132779571375,
          -1750.9307404141525,
          -1869.6241103388468,
          -1976.7690541147279,
          -2071.336604314504,
          -2152.6136753102874,
          -2220.2133473689137,
          -2274.0767943745873,
          -2314.463482932894,
          -2341.938884695802,
          -2357.3478073644665,
          -2361.7838617316133,
          -2356.551888248683,
          -2343.1257892772683,
          -2323.101856034184,
          -2298.1502799631307,
          -2269.9656167443263,
          -2240.217842068003,
          -2210.505098350275,
          -2182.3115525701032,
          -2156.9664403577403,
          -2135.612343434263,
          -2119.1783858986973,
          -2108.3611383227203,
          -2103.613329701946,
          -2105.1407719002177,
          -2112.9068161307846,
          -2126.645167678491,
          -2145.8795243812315,
          -2169.950074482107,
          -2198.044043198428,
          -2229.2335120623356,
          -2262.513661709729,
          -2296.8441777827043,
          -2331.190866750999,
          -2364.566722545169,
          -2396.0688066993193,
          -2424.915449307549,
          -2450.474856087023,
          -2472.289992382598,
          -2490.096768265246,
          -2503.83418839477,
          -2513.64908091815,
          -2519.891170234502,
          -2523.1018394713233,
          -2523.995628780686,
          -2523.435296642253,
          -2522.4013330366965,
          -2521.9567736178337,
          -2523.2086557951534,
          -2527.2672966769337,
          -2535.204769883998,
          -2548.0141504558624,
          -2566.5698980714374,
          -2591.5930516228736,
          -2623.6195414667263,
          -2662.9747450158707,
          -2709.755023295588,
          -2763.813646920491,
          -2824.759930795366,
          -2891.960986340879,
          -2964.553978310725,
          -3041.4655389986387,
          -3121.43925415527,
          -3203.06485134318,
          -3284.822113114751,
          -3365.1197932260034,
          -3442.342085843804,
          -3514.8965437866264,
          -3581.257965395153,
          -3640.0192355690797,
          -3689.930796200107,
          -3729.9401506908684,
          -3759.2249609220676,
          -3777.219635798687,
          -3783.6335131659853,
          -3778.462743079715,
          -3761.991258399564,
          -3734.7841298654625,
          -3697.6718941751733,
          -3651.7259329419812,
          -3598.2289373756694,
          -3538.633103074667,
          -3474.5178685223073,
          -3407.540737080544,
          -3339.384863078478,
          -3271.709240076768,
          -3206.091239991748,
          -3143.9789997342236,
          -3086.643394702325,
          -3035.1358488488986,
          -2990.252098615464,
          -2952.506065230328,
          -2922.1072138078803,
          -2898.9525320622847,
          -2882.6255666703937,
          -2872.405946084177,
          -2867.288641508107,
          -2866.0127496137347,
          -2867.0983311887912,
          -2868.8914004252056,
          -2869.614813160913,
          -2867.4239774458524,
          -2860.465882155947,
          -2846.939243995636,
          -2825.154351564775,
          -2793.590550957243,
          -2750.949623252145,
          -2696.202640180246,
          -2628.6328345182283,
          -2547.863295700292,
          -2453.8810145524026,
          -2347.047345745645,
          -2228.096437456997,
          -2098.1294161950477,
          -1958.5834713080349,
          -1811.2039063204456,
          -1657.9996499883948,
          -1501.1913498453391,
          -1343.1503259551034,
          -1186.3410172250092,
          -1033.2412653221475,
          -886.2791024134775,
          -747.7606127261732,
          -619.8019373841216,
          -504.2643871823482,
          -402.70232793554874,
          -316.3059163735704,
          -245.86705981190414,
          -191.7494201942668,
          -153.87144565134471,
          -131.70392120919,
          -124.27623880002157,
          -130.20002787561353,
          -147.7026473160799,
          -174.6726901853049,
          -208.71619476604735,
          -247.2195282254423,
          -287.42330128598695,
          -326.49727521803055,
          -361.61987622317304,
          -390.0580399194846,
          -409.2435834993481,
          -416.8485557445971,
          -410.8506205033647,
          -389.5916503672825,
          -351.8255100360849,
          -296.75310216756293,
          -224.04767830735585,
          -133.85950798711488,
          -26.81218593699341,
          96.01847039520646,
          233.1391054800463,
          382.68857794445313,
          542.4908715961101,
          710.1358805207387,
          883.0513949522395,
          1058.5897160120019,
          1234.118315859819,
          1407.1014073993472,
          1575.2002039993,
          1736.3484205850627,
          1888.830947956794,
          2031.3509864194061,
          2163.0868746296564,
          2283.7277669814293,
          2393.5090978736466,
          2493.2161545836675,
          2584.178213532731,
          2668.2435861404906,
          2747.7383122335145,
          2825.4038272446824,
          2904.3284475844202,
          2987.856127640946,
          3079.4884198208556,
          3182.777836583875,
          3301.2089087788436,
          3438.088188159345,
          3596.422685819907,
          3778.807445382065,
          3987.318677442855,
          4223.419626205889,
          4487.8650957167365,
          4780.649076022464,
          5100.943219617904,
          5447.068184640369,
          5816.487930588265,
          6205.804258893838,
          6610.816760037512,
          7026.562286930594,
          7447.396677622851,
          7867.092172542911,
          8278.957414751636,
          8675.94922699057,
          9050.84463725376,
          9396.374270265542,
          9705.385562024532,
          9971.003165823015,
          10186.789698263545,
          10346.889174525919,
          10446.185439073322,
          10480.421784466906,
          10446.317601401768,
          10341.661249074656,
          10165.388345188088,
          9917.623279019344,
          9599.706667038668,
          9214.1918709361,
          8764.815974252702,
          8256.43864990257,
          7694.986596252406,
          7087.315178862137,
          6441.107399108332,
          5764.726173342142
         ],
         "yaxis": "y3"
        }
       ],
       "layout": {
        "height": 600,
        "showlegend": false,
        "template": {
         "data": {
          "bar": [
           {
            "error_x": {
             "color": "#2a3f5f"
            },
            "error_y": {
             "color": "#2a3f5f"
            },
            "marker": {
             "line": {
              "color": "#E5ECF6",
              "width": 0.5
             },
             "pattern": {
              "fillmode": "overlay",
              "size": 10,
              "solidity": 0.2
             }
            },
            "type": "bar"
           }
          ],
          "barpolar": [
           {
            "marker": {
             "line": {
              "color": "#E5ECF6",
              "width": 0.5
             },
             "pattern": {
              "fillmode": "overlay",
              "size": 10,
              "solidity": 0.2
             }
            },
            "type": "barpolar"
           }
          ],
          "carpet": [
           {
            "aaxis": {
             "endlinecolor": "#2a3f5f",
             "gridcolor": "white",
             "linecolor": "white",
             "minorgridcolor": "white",
             "startlinecolor": "#2a3f5f"
            },
            "baxis": {
             "endlinecolor": "#2a3f5f",
             "gridcolor": "white",
             "linecolor": "white",
             "minorgridcolor": "white",
             "startlinecolor": "#2a3f5f"
            },
            "type": "carpet"
           }
          ],
          "choropleth": [
           {
            "colorbar": {
             "outlinewidth": 0,
             "ticks": ""
            },
            "type": "choropleth"
           }
          ],
          "contour": [
           {
            "colorbar": {
             "outlinewidth": 0,
             "ticks": ""
            },
            "colorscale": [
             [
              0,
              "#0d0887"
             ],
             [
              0.1111111111111111,
              "#46039f"
             ],
             [
              0.2222222222222222,
              "#7201a8"
             ],
             [
              0.3333333333333333,
              "#9c179e"
             ],
             [
              0.4444444444444444,
              "#bd3786"
             ],
             [
              0.5555555555555556,
              "#d8576b"
             ],
             [
              0.6666666666666666,
              "#ed7953"
             ],
             [
              0.7777777777777778,
              "#fb9f3a"
             ],
             [
              0.8888888888888888,
              "#fdca26"
             ],
             [
              1,
              "#f0f921"
             ]
            ],
            "type": "contour"
           }
          ],
          "contourcarpet": [
           {
            "colorbar": {
             "outlinewidth": 0,
             "ticks": ""
            },
            "type": "contourcarpet"
           }
          ],
          "heatmap": [
           {
            "colorbar": {
             "outlinewidth": 0,
             "ticks": ""
            },
            "colorscale": [
             [
              0,
              "#0d0887"
             ],
             [
              0.1111111111111111,
              "#46039f"
             ],
             [
              0.2222222222222222,
              "#7201a8"
             ],
             [
              0.3333333333333333,
              "#9c179e"
             ],
             [
              0.4444444444444444,
              "#bd3786"
             ],
             [
              0.5555555555555556,
              "#d8576b"
             ],
             [
              0.6666666666666666,
              "#ed7953"
             ],
             [
              0.7777777777777778,
              "#fb9f3a"
             ],
             [
              0.8888888888888888,
              "#fdca26"
             ],
             [
              1,
              "#f0f921"
             ]
            ],
            "type": "heatmap"
           }
          ],
          "heatmapgl": [
           {
            "colorbar": {
             "outlinewidth": 0,
             "ticks": ""
            },
            "colorscale": [
             [
              0,
              "#0d0887"
             ],
             [
              0.1111111111111111,
              "#46039f"
             ],
             [
              0.2222222222222222,
              "#7201a8"
             ],
             [
              0.3333333333333333,
              "#9c179e"
             ],
             [
              0.4444444444444444,
              "#bd3786"
             ],
             [
              0.5555555555555556,
              "#d8576b"
             ],
             [
              0.6666666666666666,
              "#ed7953"
             ],
             [
              0.7777777777777778,
              "#fb9f3a"
             ],
             [
              0.8888888888888888,
              "#fdca26"
             ],
             [
              1,
              "#f0f921"
             ]
            ],
            "type": "heatmapgl"
           }
          ],
          "histogram": [
           {
            "marker": {
             "pattern": {
              "fillmode": "overlay",
              "size": 10,
              "solidity": 0.2
             }
            },
            "type": "histogram"
           }
          ],
          "histogram2d": [
           {
            "colorbar": {
             "outlinewidth": 0,
             "ticks": ""
            },
            "colorscale": [
             [
              0,
              "#0d0887"
             ],
             [
              0.1111111111111111,
              "#46039f"
             ],
             [
              0.2222222222222222,
              "#7201a8"
             ],
             [
              0.3333333333333333,
              "#9c179e"
             ],
             [
              0.4444444444444444,
              "#bd3786"
             ],
             [
              0.5555555555555556,
              "#d8576b"
             ],
             [
              0.6666666666666666,
              "#ed7953"
             ],
             [
              0.7777777777777778,
              "#fb9f3a"
             ],
             [
              0.8888888888888888,
              "#fdca26"
             ],
             [
              1,
              "#f0f921"
             ]
            ],
            "type": "histogram2d"
           }
          ],
          "histogram2dcontour": [
           {
            "colorbar": {
             "outlinewidth": 0,
             "ticks": ""
            },
            "colorscale": [
             [
              0,
              "#0d0887"
             ],
             [
              0.1111111111111111,
              "#46039f"
             ],
             [
              0.2222222222222222,
              "#7201a8"
             ],
             [
              0.3333333333333333,
              "#9c179e"
             ],
             [
              0.4444444444444444,
              "#bd3786"
             ],
             [
              0.5555555555555556,
              "#d8576b"
             ],
             [
              0.6666666666666666,
              "#ed7953"
             ],
             [
              0.7777777777777778,
              "#fb9f3a"
             ],
             [
              0.8888888888888888,
              "#fdca26"
             ],
             [
              1,
              "#f0f921"
             ]
            ],
            "type": "histogram2dcontour"
           }
          ],
          "mesh3d": [
           {
            "colorbar": {
             "outlinewidth": 0,
             "ticks": ""
            },
            "type": "mesh3d"
           }
          ],
          "parcoords": [
           {
            "line": {
             "colorbar": {
              "outlinewidth": 0,
              "ticks": ""
             }
            },
            "type": "parcoords"
           }
          ],
          "pie": [
           {
            "automargin": true,
            "type": "pie"
           }
          ],
          "scatter": [
           {
            "marker": {
             "colorbar": {
              "outlinewidth": 0,
              "ticks": ""
             }
            },
            "type": "scatter"
           }
          ],
          "scatter3d": [
           {
            "line": {
             "colorbar": {
              "outlinewidth": 0,
              "ticks": ""
             }
            },
            "marker": {
             "colorbar": {
              "outlinewidth": 0,
              "ticks": ""
             }
            },
            "type": "scatter3d"
           }
          ],
          "scattercarpet": [
           {
            "marker": {
             "colorbar": {
              "outlinewidth": 0,
              "ticks": ""
             }
            },
            "type": "scattercarpet"
           }
          ],
          "scattergeo": [
           {
            "marker": {
             "colorbar": {
              "outlinewidth": 0,
              "ticks": ""
             }
            },
            "type": "scattergeo"
           }
          ],
          "scattergl": [
           {
            "marker": {
             "colorbar": {
              "outlinewidth": 0,
              "ticks": ""
             }
            },
            "type": "scattergl"
           }
          ],
          "scattermapbox": [
           {
            "marker": {
             "colorbar": {
              "outlinewidth": 0,
              "ticks": ""
             }
            },
            "type": "scattermapbox"
           }
          ],
          "scatterpolar": [
           {
            "marker": {
             "colorbar": {
              "outlinewidth": 0,
              "ticks": ""
             }
            },
            "type": "scatterpolar"
           }
          ],
          "scatterpolargl": [
           {
            "marker": {
             "colorbar": {
              "outlinewidth": 0,
              "ticks": ""
             }
            },
            "type": "scatterpolargl"
           }
          ],
          "scatterternary": [
           {
            "marker": {
             "colorbar": {
              "outlinewidth": 0,
              "ticks": ""
             }
            },
            "type": "scatterternary"
           }
          ],
          "surface": [
           {
            "colorbar": {
             "outlinewidth": 0,
             "ticks": ""
            },
            "colorscale": [
             [
              0,
              "#0d0887"
             ],
             [
              0.1111111111111111,
              "#46039f"
             ],
             [
              0.2222222222222222,
              "#7201a8"
             ],
             [
              0.3333333333333333,
              "#9c179e"
             ],
             [
              0.4444444444444444,
              "#bd3786"
             ],
             [
              0.5555555555555556,
              "#d8576b"
             ],
             [
              0.6666666666666666,
              "#ed7953"
             ],
             [
              0.7777777777777778,
              "#fb9f3a"
             ],
             [
              0.8888888888888888,
              "#fdca26"
             ],
             [
              1,
              "#f0f921"
             ]
            ],
            "type": "surface"
           }
          ],
          "table": [
           {
            "cells": {
             "fill": {
              "color": "#EBF0F8"
             },
             "line": {
              "color": "white"
             }
            },
            "header": {
             "fill": {
              "color": "#C8D4E3"
             },
             "line": {
              "color": "white"
             }
            },
            "type": "table"
           }
          ]
         },
         "layout": {
          "annotationdefaults": {
           "arrowcolor": "#2a3f5f",
           "arrowhead": 0,
           "arrowwidth": 1
          },
          "autotypenumbers": "strict",
          "coloraxis": {
           "colorbar": {
            "outlinewidth": 0,
            "ticks": ""
           }
          },
          "colorscale": {
           "diverging": [
            [
             0,
             "#8e0152"
            ],
            [
             0.1,
             "#c51b7d"
            ],
            [
             0.2,
             "#de77ae"
            ],
            [
             0.3,
             "#f1b6da"
            ],
            [
             0.4,
             "#fde0ef"
            ],
            [
             0.5,
             "#f7f7f7"
            ],
            [
             0.6,
             "#e6f5d0"
            ],
            [
             0.7,
             "#b8e186"
            ],
            [
             0.8,
             "#7fbc41"
            ],
            [
             0.9,
             "#4d9221"
            ],
            [
             1,
             "#276419"
            ]
           ],
           "sequential": [
            [
             0,
             "#0d0887"
            ],
            [
             0.1111111111111111,
             "#46039f"
            ],
            [
             0.2222222222222222,
             "#7201a8"
            ],
            [
             0.3333333333333333,
             "#9c179e"
            ],
            [
             0.4444444444444444,
             "#bd3786"
            ],
            [
             0.5555555555555556,
             "#d8576b"
            ],
            [
             0.6666666666666666,
             "#ed7953"
            ],
            [
             0.7777777777777778,
             "#fb9f3a"
            ],
            [
             0.8888888888888888,
             "#fdca26"
            ],
            [
             1,
             "#f0f921"
            ]
           ],
           "sequentialminus": [
            [
             0,
             "#0d0887"
            ],
            [
             0.1111111111111111,
             "#46039f"
            ],
            [
             0.2222222222222222,
             "#7201a8"
            ],
            [
             0.3333333333333333,
             "#9c179e"
            ],
            [
             0.4444444444444444,
             "#bd3786"
            ],
            [
             0.5555555555555556,
             "#d8576b"
            ],
            [
             0.6666666666666666,
             "#ed7953"
            ],
            [
             0.7777777777777778,
             "#fb9f3a"
            ],
            [
             0.8888888888888888,
             "#fdca26"
            ],
            [
             1,
             "#f0f921"
            ]
           ]
          },
          "colorway": [
           "#636efa",
           "#EF553B",
           "#00cc96",
           "#ab63fa",
           "#FFA15A",
           "#19d3f3",
           "#FF6692",
           "#B6E880",
           "#FF97FF",
           "#FECB52"
          ],
          "font": {
           "color": "#2a3f5f"
          },
          "geo": {
           "bgcolor": "white",
           "lakecolor": "white",
           "landcolor": "#E5ECF6",
           "showlakes": true,
           "showland": true,
           "subunitcolor": "white"
          },
          "hoverlabel": {
           "align": "left"
          },
          "hovermode": "closest",
          "mapbox": {
           "style": "light"
          },
          "paper_bgcolor": "white",
          "plot_bgcolor": "#E5ECF6",
          "polar": {
           "angularaxis": {
            "gridcolor": "white",
            "linecolor": "white",
            "ticks": ""
           },
           "bgcolor": "#E5ECF6",
           "radialaxis": {
            "gridcolor": "white",
            "linecolor": "white",
            "ticks": ""
           }
          },
          "scene": {
           "xaxis": {
            "backgroundcolor": "#E5ECF6",
            "gridcolor": "white",
            "gridwidth": 2,
            "linecolor": "white",
            "showbackground": true,
            "ticks": "",
            "zerolinecolor": "white"
           },
           "yaxis": {
            "backgroundcolor": "#E5ECF6",
            "gridcolor": "white",
            "gridwidth": 2,
            "linecolor": "white",
            "showbackground": true,
            "ticks": "",
            "zerolinecolor": "white"
           },
           "zaxis": {
            "backgroundcolor": "#E5ECF6",
            "gridcolor": "white",
            "gridwidth": 2,
            "linecolor": "white",
            "showbackground": true,
            "ticks": "",
            "zerolinecolor": "white"
           }
          },
          "shapedefaults": {
           "line": {
            "color": "#2a3f5f"
           }
          },
          "ternary": {
           "aaxis": {
            "gridcolor": "white",
            "linecolor": "white",
            "ticks": ""
           },
           "baxis": {
            "gridcolor": "white",
            "linecolor": "white",
            "ticks": ""
           },
           "bgcolor": "#E5ECF6",
           "caxis": {
            "gridcolor": "white",
            "linecolor": "white",
            "ticks": ""
           }
          },
          "title": {
           "x": 0.05
          },
          "xaxis": {
           "automargin": true,
           "gridcolor": "white",
           "linecolor": "white",
           "ticks": "",
           "title": {
            "standoff": 15
           },
           "zerolinecolor": "white",
           "zerolinewidth": 2
          },
          "yaxis": {
           "automargin": true,
           "gridcolor": "white",
           "linecolor": "white",
           "ticks": "",
           "title": {
            "standoff": 15
           },
           "zerolinecolor": "white",
           "zerolinewidth": 2
          }
         }
        },
        "width": 900,
        "xaxis": {
         "anchor": "y",
         "domain": [
          0,
          1
         ],
         "range": [
          "2009-12-13T08:24:00",
          "2013-03-07T15:36:00"
         ],
         "type": "date"
        },
        "xaxis2": {
         "anchor": "y2",
         "domain": [
          0,
          1
         ],
         "range": [
          "2009-12-13T08:24:00",
          "2013-03-07T15:36:00"
         ],
         "type": "date"
        },
        "xaxis3": {
         "anchor": "y3",
         "domain": [
          0,
          1
         ],
         "range": [
          "2016-12-13T18:54:02.958904115",
          "2018-01-18T11:04:57.863013581"
         ],
         "tickformat": "%B %e",
         "type": "date"
        },
        "yaxis": {
         "anchor": "x",
         "domain": [
          0.7333333333333333,
          1
         ],
         "rangemode": "normal",
         "title": {
          "text": "trend"
         },
         "zerolinecolor": "#AAA"
        },
        "yaxis2": {
         "anchor": "x2",
         "domain": [
          0.36666666666666664,
          0.6333333333333333
         ],
         "rangemode": "tozero",
         "title": {
          "text": "extra_regressors_additive"
         },
         "zerolinecolor": "#AAA"
        },
        "yaxis3": {
         "anchor": "x3",
         "domain": [
          0,
          0.26666666666666666
         ],
         "title": {
          "text": "yearly"
         },
         "zerolinecolor": "#AAA"
        }
       }
      }
     },
     "metadata": {},
     "output_type": "display_data"
    }
   ],
   "source": [
    "plot_components_plotly(model, forecast)\n"
   ]
  },
  {
   "cell_type": "markdown",
   "id": "c3048f2b",
   "metadata": {},
   "source": [
    "Innovative Technique"
   ]
  },
  {
   "cell_type": "code",
   "execution_count": 77,
   "id": "c7c430ca",
   "metadata": {},
   "outputs": [],
   "source": [
    "# pip uninstall neuralforecast"
   ]
  },
  {
   "cell_type": "code",
   "execution_count": 78,
   "id": "aeb31c0d",
   "metadata": {},
   "outputs": [],
   "source": [
    "#!pip install neuralforecast\n"
   ]
  },
  {
   "cell_type": "code",
   "execution_count": 79,
   "id": "72864131",
   "metadata": {},
   "outputs": [],
   "source": [
    "# pip uninstall neuralforecast -y\n",
    "# pip install --upgrade pip setuptools wheel\n",
    "# pip install neuralforecast\n"
   ]
  },
  {
   "cell_type": "code",
   "execution_count": 80,
   "id": "b4db9dc7",
   "metadata": {},
   "outputs": [
    {
     "name": "stderr",
     "output_type": "stream",
     "text": [
      "2025-06-23 02:41:29,203\tINFO util.py:154 -- Outdated packages:\n",
      "  ipywidgets==7.6.5 found, needs ipywidgets>=8\n",
      "Run `pip install -U ipywidgets`, then restart the notebook server for rich notebook output.\n",
      "2025-06-23 02:41:30,518\tINFO util.py:154 -- Outdated packages:\n",
      "  ipywidgets==7.6.5 found, needs ipywidgets>=8\n",
      "Run `pip install -U ipywidgets`, then restart the notebook server for rich notebook output.\n"
     ]
    }
   ],
   "source": [
    "from neuralforecast import NeuralForecast\n",
    "from neuralforecast.models import NBEATS\n",
    "from neuralforecast.utils import AirPassengersDF\n",
    "\n",
    "# Reformat your DataFrame\n",
    "df_nbeats = dept_6_df.reset_index()[['Date', 'Weekly_Sales']]\n",
    "df_nbeats.columns = ['ds', 'y']\n",
    "df_nbeats['unique_id'] = 'dept_6'\n",
    "\n",
    "# Sort to be safe\n",
    "df_nbeats = df_nbeats.sort_values('ds')\n"
   ]
  },
  {
   "cell_type": "code",
   "execution_count": 81,
   "id": "45d984ff",
   "metadata": {},
   "outputs": [
    {
     "name": "stderr",
     "output_type": "stream",
     "text": [
      "Seed set to 1\n",
      "GPU available: False, used: False\n",
      "TPU available: False, using: 0 TPU cores\n",
      "HPU available: False, using: 0 HPUs\n"
     ]
    },
    {
     "name": "stderr",
     "output_type": "stream",
     "text": [
      "\n",
      "  | Name         | Type          | Params | Mode \n",
      "-------------------------------------------------------\n",
      "0 | loss         | MAE           | 0      | train\n",
      "1 | padder_train | ConstantPad1d | 0      | train\n",
      "2 | scaler       | TemporalNorm  | 0      | train\n",
      "3 | blocks       | ModuleList    | 2.4 M  | train\n",
      "-------------------------------------------------------\n",
      "2.4 M     Trainable params\n",
      "900       Non-trainable params\n",
      "2.4 M     Total params\n",
      "9.789     Total estimated model params size (MB)\n",
      "31        Modules in train mode\n",
      "0         Modules in eval mode\n"
     ]
    },
    {
     "data": {
      "application/vnd.jupyter.widget-view+json": {
       "model_id": "23dd96bbb49747ba9ea7da2efb110c71",
       "version_major": 2,
       "version_minor": 0
      },
      "text/plain": [
       "Sanity Checking: |          | 0/? [00:00<?, ?it/s]"
      ]
     },
     "metadata": {},
     "output_type": "display_data"
    },
    {
     "data": {
      "application/vnd.jupyter.widget-view+json": {
       "model_id": "c8a1aa717fe44345bd164fbb3146e39c",
       "version_major": 2,
       "version_minor": 0
      },
      "text/plain": [
       "Training: |          | 0/? [00:00<?, ?it/s]"
      ]
     },
     "metadata": {},
     "output_type": "display_data"
    },
    {
     "data": {
      "application/vnd.jupyter.widget-view+json": {
       "model_id": "d1371af7d5e74b148d524388e0e02be8",
       "version_major": 2,
       "version_minor": 0
      },
      "text/plain": [
       "Validation: |          | 0/? [00:00<?, ?it/s]"
      ]
     },
     "metadata": {},
     "output_type": "display_data"
    },
    {
     "data": {
      "application/vnd.jupyter.widget-view+json": {
       "model_id": "d49f81dcf6a540399bf176623a5b2c0f",
       "version_major": 2,
       "version_minor": 0
      },
      "text/plain": [
       "Validation: |          | 0/? [00:00<?, ?it/s]"
      ]
     },
     "metadata": {},
     "output_type": "display_data"
    },
    {
     "data": {
      "application/vnd.jupyter.widget-view+json": {
       "model_id": "58fe182e30894f53a2f945c199cf6e69",
       "version_major": 2,
       "version_minor": 0
      },
      "text/plain": [
       "Validation: |          | 0/? [00:00<?, ?it/s]"
      ]
     },
     "metadata": {},
     "output_type": "display_data"
    },
    {
     "data": {
      "application/vnd.jupyter.widget-view+json": {
       "model_id": "c6a1c294eb1b4b7fb2001a5264223871",
       "version_major": 2,
       "version_minor": 0
      },
      "text/plain": [
       "Validation: |          | 0/? [00:00<?, ?it/s]"
      ]
     },
     "metadata": {},
     "output_type": "display_data"
    },
    {
     "data": {
      "application/vnd.jupyter.widget-view+json": {
       "model_id": "775d4515e1ef4dceabfc800a4443bf60",
       "version_major": 2,
       "version_minor": 0
      },
      "text/plain": [
       "Validation: |          | 0/? [00:00<?, ?it/s]"
      ]
     },
     "metadata": {},
     "output_type": "display_data"
    },
    {
     "data": {
      "application/vnd.jupyter.widget-view+json": {
       "model_id": "05f0d238fa124f1596b93104516050b5",
       "version_major": 2,
       "version_minor": 0
      },
      "text/plain": [
       "Validation: |          | 0/? [00:00<?, ?it/s]"
      ]
     },
     "metadata": {},
     "output_type": "display_data"
    },
    {
     "data": {
      "application/vnd.jupyter.widget-view+json": {
       "model_id": "81d2d3d7a9274856b73251206332f7ef",
       "version_major": 2,
       "version_minor": 0
      },
      "text/plain": [
       "Validation: |          | 0/? [00:00<?, ?it/s]"
      ]
     },
     "metadata": {},
     "output_type": "display_data"
    },
    {
     "data": {
      "application/vnd.jupyter.widget-view+json": {
       "model_id": "e04b6b00fc02444b90a70deff88f09c8",
       "version_major": 2,
       "version_minor": 0
      },
      "text/plain": [
       "Validation: |          | 0/? [00:00<?, ?it/s]"
      ]
     },
     "metadata": {},
     "output_type": "display_data"
    },
    {
     "data": {
      "application/vnd.jupyter.widget-view+json": {
       "model_id": "aa74366661c54ef585a2e44c2d4caef8",
       "version_major": 2,
       "version_minor": 0
      },
      "text/plain": [
       "Validation: |          | 0/? [00:00<?, ?it/s]"
      ]
     },
     "metadata": {},
     "output_type": "display_data"
    },
    {
     "data": {
      "application/vnd.jupyter.widget-view+json": {
       "model_id": "af62f804d0b34a9886e030631beb6342",
       "version_major": 2,
       "version_minor": 0
      },
      "text/plain": [
       "Validation: |          | 0/? [00:00<?, ?it/s]"
      ]
     },
     "metadata": {},
     "output_type": "display_data"
    },
    {
     "name": "stderr",
     "output_type": "stream",
     "text": [
      "`Trainer.fit` stopped: `max_steps=1000` reached.\n"
     ]
    }
   ],
   "source": [
    "from neuralforecast.losses.pytorch import MAE\n",
    "horizon = 12\n",
    "\n",
    "# Train/test split\n",
    "train_df = df_nbeats.iloc[:-horizon]\n",
    "# Define model correctly\n",
    "model = NeuralForecast(\n",
    "    models=[NBEATS(input_size=24, h=horizon, loss=MAE())],\n",
    "    freq='W'\n",
    ")\n",
    "\n",
    "# Fit the model\n",
    "model.fit(train_df)"
   ]
  },
  {
   "cell_type": "code",
   "execution_count": 82,
   "id": "c8a72bd5",
   "metadata": {},
   "outputs": [
    {
     "name": "stderr",
     "output_type": "stream",
     "text": [
      "GPU available: False, used: False\n",
      "TPU available: False, using: 0 TPU cores\n",
      "HPU available: False, using: 0 HPUs\n"
     ]
    },
    {
     "data": {
      "application/vnd.jupyter.widget-view+json": {
       "model_id": "3c68f4123c0141b0a26b95b0d90ac399",
       "version_major": 2,
       "version_minor": 0
      },
      "text/plain": [
       "Predicting: |          | 0/? [00:00<?, ?it/s]"
      ]
     },
     "metadata": {},
     "output_type": "display_data"
    },
    {
     "name": "stdout",
     "output_type": "stream",
     "text": [
      "N-BEATS RMSE: 1358.66, MAE: 863.74\n"
     ]
    }
   ],
   "source": [
    "# Forecast next 12 weeks\n",
    "forecast_df = model.predict()\n",
    "\n",
    "# Get true values\n",
    "true_y = df_nbeats['y'].iloc[-horizon:].values\n",
    "pred_y = forecast_df['NBEATS'].values\n",
    "\n",
    "# Evaluate\n",
    "from sklearn.metrics import mean_squared_error, mean_absolute_error\n",
    "import numpy as np\n",
    "\n",
    "rmse = np.sqrt(mean_squared_error(true_y, pred_y))\n",
    "mae = mean_absolute_error(true_y, pred_y)\n",
    "\n",
    "print(f\"N-BEATS RMSE: {rmse:.2f}, MAE: {mae:.2f}\")\n"
   ]
  },
  {
   "cell_type": "code",
   "execution_count": 83,
   "id": "b3406e9f",
   "metadata": {},
   "outputs": [
    {
     "data": {
      "image/png": "[encoded data removed]",
      "text/plain": [
       "<Figure size 864x432 with 1 Axes>"
      ]
     },
     "metadata": {
      "needs_background": "light"
     },
     "output_type": "display_data"
    }
   ],
   "source": [
    "plt.figure(figsize=(12,6))\n",
    "plt.plot(df_nbeats['ds'].iloc[-24:], df_nbeats['y'].iloc[-24:], label='Actual')\n",
    "plt.plot(forecast_df['ds'], forecast_df['NBEATS'], label='N-BEATS Forecast')\n",
    "plt.title('N-BEATS Forecast vs Actual')\n",
    "plt.legend()\n",
    "plt.grid(True)\n",
    "plt.show()\n"
   ]
  },
  {
   "cell_type": "markdown",
   "id": "4bcd691d",
   "metadata": {},
   "source": [
    " Compare N-BEATS to All Previous Models"
   ]
  },
  {
   "cell_type": "markdown",
   "id": "6da653ed",
   "metadata": {},
   "source": [
    "| Model             | RMSE       | MAE        | Notes                               |\n",
    "| ----------------- | ---------- | ---------- | ----------------------------------- |\n",
    "| **Random Forest** | **953.48** | **600.77** | ✅ Best overall performance          |\n",
    "| XGBoost           | 1039.55    | 685.07     | Strong, slightly behind RF          |\n",
    "| Holt-Winters      | 1218.28    | 838.93     | Solid seasonal baseline             |\n",
    "| **N-BEATS**       | 1358.66    | 863.74     | 🧪 Innovative DL model; competitive |\n",
    "| GRU               | 1290.93    | 811.94     | Good but beaten by RF and N-BEATS   |\n",
    "| ANN               | 1287.60    | 824.33     | Simple and decent                   |\n",
    "| LSTM              | 1328.48    | 876.29     | Needed more tuning                  |\n",
    "| SARIMA            | 1512.19    | 1254.11    | Classic but outperformed            |\n",
    "| SARIMAX           | 1872.60    | 1459.69    | External vars didn’t help much      |\n",
    "| ARIMA             | 2086.53    | 1837.19    | ❌ Weakest statistical model         |\n",
    "| Prophet           | 6068.62    | 5318.17    | ❌ Worst overall, but interpretable  |\n"
   ]
  },
  {
   "cell_type": "code",
   "execution_count": 88,
   "id": "7daed3c9",
   "metadata": {},
   "outputs": [],
   "source": [
    "# Save the trained model\n",
    "with open('E:\\israa\\ITI 9 Months\\Time Series\\Project\\models/random_forest_model.pkl', 'wb') as f:\n",
    "    pickle.dump(rf_model, f)\n"
   ]
  },
  {
   "cell_type": "code",
   "execution_count": null,
   "id": "c3cb2fdf",
   "metadata": {},
   "outputs": [
    {
     "name": "stdout",
     "output_type": "stream",
     "text": [
      "Collecting streamlit\n",
      "  Downloading streamlit-1.46.0-py3-none-any.whl.metadata (9.0 kB)\n",
      "Collecting altair<6,>=4.0 (from streamlit)\n",
      "  Downloading altair-5.5.0-py3-none-any.whl.metadata (11 kB)\n",
      "Collecting blinker<2,>=1.5.0 (from streamlit)\n",
      "  Using cached blinker-1.9.0-py3-none-any.whl.metadata (1.6 kB)\n",
      "Requirement already satisfied: cachetools<7,>=4.0 in c:\\users\\hp\\anaconda3\\lib\\site-packages (from streamlit) (5.5.2)\n",
      "Requirement already satisfied: click<9,>=7.0 in c:\\users\\hp\\anaconda3\\lib\\site-packages (from streamlit) (8.0.4)\n",
      "Requirement already satisfied: numpy<3,>=1.23 in c:\\users\\hp\\anaconda3\\lib\\site-packages (from streamlit) (1.26.4)\n",
      "Requirement already satisfied: packaging<26,>=20 in c:\\users\\hp\\anaconda3\\lib\\site-packages (from streamlit) (21.3)\n",
      "Requirement already satisfied: pandas<3,>=1.4.0 in c:\\users\\hp\\anaconda3\\lib\\site-packages (from streamlit) (1.4.2)\n",
      "Requirement already satisfied: pillow<12,>=7.1.0 in c:\\users\\hp\\anaconda3\\lib\\site-packages (from streamlit) (9.0.1)\n",
      "Requirement already satisfied: protobuf<7,>=3.20 in c:\\users\\hp\\anaconda3\\lib\\site-packages (from streamlit) (4.25.7)\n",
      "Requirement already satisfied: pyarrow>=7.0 in c:\\users\\hp\\anaconda3\\lib\\site-packages (from streamlit) (19.0.1)\n",
      "Requirement already satisfied: requests<3,>=2.27 in c:\\users\\hp\\anaconda3\\lib\\site-packages (from streamlit) (2.32.3)\n",
      "Collecting tenacity<10,>=8.1.0 (from streamlit)\n",
      "  Downloading tenacity-9.1.2-py3-none-any.whl.metadata (1.2 kB)\n",
      "Requirement already satisfied: toml<2,>=0.10.1 in c:\\users\\hp\\anaconda3\\lib\\site-packages (from streamlit) (0.10.2)\n",
      "Requirement already satisfied: typing-extensions<5,>=4.4.0 in c:\\users\\hp\\anaconda3\\lib\\site-packages (from streamlit) (4.13.2)\n",
      "Requirement already satisfied: watchdog<7,>=2.1.5 in c:\\users\\hp\\anaconda3\\lib\\site-packages (from streamlit) (2.1.6)\n",
      "Requirement already satisfied: gitpython!=3.1.19,<4,>=3.0.7 in c:\\users\\hp\\anaconda3\\lib\\site-packages (from streamlit) (3.1.44)\n",
      "Collecting pydeck<1,>=0.8.0b4 (from streamlit)\n",
      "  Downloading pydeck-0.9.1-py2.py3-none-any.whl.metadata (4.1 kB)\n",
      "Requirement already satisfied: tornado!=6.5.0,<7,>=6.0.3 in c:\\users\\hp\\anaconda3\\lib\\site-packages (from streamlit) (6.1)\n",
      "Requirement already satisfied: jinja2 in c:\\users\\hp\\anaconda3\\lib\\site-packages (from altair<6,>=4.0->streamlit) (3.0.3)\n",
      "Requirement already satisfied: jsonschema>=3.0 in c:\\users\\hp\\anaconda3\\lib\\site-packages (from altair<6,>=4.0->streamlit) (4.4.0)\n",
      "Collecting narwhals>=1.14.2 (from altair<6,>=4.0->streamlit)\n",
      "  Downloading narwhals-1.43.1-py3-none-any.whl.metadata (11 kB)\n",
      "Requirement already satisfied: colorama in c:\\users\\hp\\anaconda3\\lib\\site-packages (from click<9,>=7.0->streamlit) (0.4.4)\n",
      "Requirement already satisfied: gitdb<5,>=4.0.1 in c:\\users\\hp\\anaconda3\\lib\\site-packages (from gitpython!=3.1.19,<4,>=3.0.7->streamlit) (4.0.12)\n",
      "Requirement already satisfied: smmap<6,>=3.0.1 in c:\\users\\hp\\anaconda3\\lib\\site-packages (from gitdb<5,>=4.0.1->gitpython!=3.1.19,<4,>=3.0.7->streamlit) (5.0.2)\n",
      "Requirement already satisfied: pyparsing!=3.0.5,>=2.0.2 in c:\\users\\hp\\anaconda3\\lib\\site-packages (from packaging<26,>=20->streamlit) (3.0.4)\n",
      "Requirement already satisfied: python-dateutil>=2.8.1 in c:\\users\\hp\\anaconda3\\lib\\site-packages (from pandas<3,>=1.4.0->streamlit) (2.8.2)\n",
      "Requirement already satisfied: pytz>=2020.1 in c:\\users\\hp\\anaconda3\\lib\\site-packages (from pandas<3,>=1.4.0->streamlit) (2021.3)\n",
      "Requirement already satisfied: charset-normalizer<4,>=2 in c:\\users\\hp\\anaconda3\\lib\\site-packages (from requests<3,>=2.27->streamlit) (2.0.4)\n",
      "Requirement already satisfied: idna<4,>=2.5 in c:\\users\\hp\\anaconda3\\lib\\site-packages (from requests<3,>=2.27->streamlit) (3.3)\n",
      "Requirement already satisfied: urllib3<3,>=1.21.1 in c:\\users\\hp\\anaconda3\\lib\\site-packages (from requests<3,>=2.27->streamlit) (1.26.9)\n",
      "Requirement already satisfied: certifi>=2017.4.17 in c:\\users\\hp\\anaconda3\\lib\\site-packages (from requests<3,>=2.27->streamlit) (2021.10.8)\n",
      "Requirement already satisfied: MarkupSafe>=2.0 in c:\\users\\hp\\anaconda3\\lib\\site-packages (from jinja2->altair<6,>=4.0->streamlit) (2.0.1)\n",
      "Requirement already satisfied: attrs>=17.4.0 in c:\\users\\hp\\anaconda3\\lib\\site-packages (from jsonschema>=3.0->altair<6,>=4.0->streamlit) (21.4.0)\n",
      "Requirement already satisfied: pyrsistent!=0.17.0,!=0.17.1,!=0.17.2,>=0.14.0 in c:\\users\\hp\\anaconda3\\lib\\site-packages (from jsonschema>=3.0->altair<6,>=4.0->streamlit) (0.18.0)\n",
      "Requirement already satisfied: six>=1.5 in c:\\users\\hp\\anaconda3\\lib\\site-packages (from python-dateutil>=2.8.1->pandas<3,>=1.4.0->streamlit) (1.16.0)\n",
      "Downloading streamlit-1.46.0-py3-none-any.whl (10.1 MB)\n",
      "   ---------------------------------------- 10.1/10.1 MB 3.8 MB/s eta 0:00:00\n",
      "Downloading altair-5.5.0-py3-none-any.whl (731 kB)\n",
      "   ---------------------------------------- 731.2/731.2 kB 3.0 MB/s eta 0:00:00\n",
      "Using cached blinker-1.9.0-py3-none-any.whl (8.5 kB)\n",
      "Downloading pydeck-0.9.1-py2.py3-none-any.whl (6.9 MB)\n",
      "   ---------------------------------------- 6.9/6.9 MB 3.8 MB/s eta 0:00:00\n",
      "Downloading tenacity-9.1.2-py3-none-any.whl (28 kB)\n",
      "Downloading narwhals-1.43.1-py3-none-any.whl (362 kB)\n",
      "Installing collected packages: tenacity, narwhals, blinker, pydeck, altair, streamlit\n",
      "  Attempting uninstall: tenacity\n",
      "    Found existing installation: tenacity 8.0.1\n",
      "    Uninstalling tenacity-8.0.1:\n",
      "      Successfully uninstalled tenacity-8.0.1\n",
      "\n",
      "Successfully installed altair-5.5.0 blinker-1.9.0 narwhals-1.43.1 pydeck-0.9.1 streamlit-1.46.0 tenacity-9.1.2\n"
     ]
    }
   ],
   "source": [
    "#!pip install streamlit\n"
   ]
  },
  {
   "cell_type": "code",
   "execution_count": null,
   "id": "6dd24cc5",
   "metadata": {},
   "outputs": [],
   "source": []
  }
 ],
 "metadata": {
  "kernelspec": {
   "display_name": "base",
   "language": "python",
   "name": "python3"
  },
  "language_info": {
   "codemirror_mode": {
    "name": "ipython",
    "version": 3
   },
   "file_extension": ".py",
   "mimetype": "text/x-python",
   "name": "python",
   "nbconvert_exporter": "python",
   "pygments_lexer": "ipython3",
   "version": "3.9.12"
  }
 },
 "nbformat": 4,
 "nbformat_minor": 5
}
